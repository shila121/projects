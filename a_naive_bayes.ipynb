{
  "nbformat": 4,
  "nbformat_minor": 0,
  "metadata": {
    "colab": {
      "name": "a_naive_bayes.ipynb",
      "provenance": [],
      "authorship_tag": "ABX9TyMdQDVWWzTpN0uITUSOYcz4",
      "include_colab_link": true
    },
    "kernelspec": {
      "name": "python3",
      "display_name": "Python 3"
    },
    "language_info": {
      "name": "python"
    }
  },
  "cells": [
    {
      "cell_type": "markdown",
      "metadata": {
        "id": "view-in-github",
        "colab_type": "text"
      },
      "source": [
        "<a href=\"https://colab.research.google.com/github/shila121/projects/blob/main/a_naive_bayes.ipynb\" target=\"_parent\"><img src=\"https://colab.research.google.com/assets/colab-badge.svg\" alt=\"Open In Colab\"/></a>"
      ]
    },
    {
      "cell_type": "code",
      "metadata": {
        "id": "2WP5rhLK-QDX"
      },
      "source": [
        "# importing the libraries\n",
        "import pandas as pd\n",
        "import numpy as np\n",
        "import matplotlib.pyplot as plt\n",
        "%matplotlib inline\n",
        "import warnings\n",
        "warnings.filterwarnings('ignore')"
      ],
      "execution_count": 1,
      "outputs": []
    },
    {
      "cell_type": "code",
      "metadata": {
        "colab": {
          "base_uri": "https://localhost:8080/"
        },
        "id": "mym4dcva_ClT",
        "outputId": "25a0a834-b420-42eb-c2f3-9a37571a654d"
      },
      "source": [
        "# impor data\n",
        "data = pd.read_csv('Iris.csv')\n",
        "print(data.head())"
      ],
      "execution_count": 2,
      "outputs": [
        {
          "output_type": "stream",
          "text": [
            "   Id  SepalLengthCm  SepalWidthCm  PetalLengthCm  PetalWidthCm      Species\n",
            "0   1            5.1           3.5            1.4           0.2  Iris-setosa\n",
            "1   2            4.9           3.0            1.4           0.2  Iris-setosa\n",
            "2   3            4.7           3.2            1.3           0.2  Iris-setosa\n",
            "3   4            4.6           3.1            1.5           0.2  Iris-setosa\n",
            "4   5            5.0           3.6            1.4           0.2  Iris-setosa\n"
          ],
          "name": "stdout"
        }
      ]
    },
    {
      "cell_type": "code",
      "metadata": {
        "id": "5jQ_pQ3B_KR0"
      },
      "source": [
        "# separating dependent and independent variable\n",
        "x= data.drop(['Id','Species'],axis = 1)\n",
        "y = data['Species']\n",
        "\n"
      ],
      "execution_count": 3,
      "outputs": []
    },
    {
      "cell_type": "code",
      "metadata": {
        "id": "UcVT7CsF_qwq"
      },
      "source": [
        "# train test split\n",
        "from sklearn.model_selection import train_test_split\n",
        "x_train,x_test,y_train,y_test = train_test_split(x,y,test_size = 0.3,random_state = 56)\n"
      ],
      "execution_count": 4,
      "outputs": []
    },
    {
      "cell_type": "code",
      "metadata": {
        "colab": {
          "base_uri": "https://localhost:8080/"
        },
        "id": "rzYN-Am-ACdC",
        "outputId": "28d546b0-61ad-49ce-a217-a92ff24ee026"
      },
      "source": [
        "# implement Guassisn nb\n",
        "from sklearn.naive_bayes import GaussianNB\n",
        "naive_bayes = GaussianNB()\n",
        "naive_bayes.fit(x_train,y_train)\n",
        "predictions = naive_bayes.predict(x_test)\n",
        "\n",
        "\n",
        "# calculate accuracy\n",
        "from sklearn.metrics import accuracy_score\n",
        "accuracy_score(y_test,predictions)"
      ],
      "execution_count": 6,
      "outputs": [
        {
          "output_type": "execute_result",
          "data": {
            "text/plain": [
              "0.9333333333333333"
            ]
          },
          "metadata": {
            "tags": []
          },
          "execution_count": 6
        }
      ]
    },
    {
      "cell_type": "code",
      "metadata": {
        "colab": {
          "base_uri": "https://localhost:8080/"
        },
        "id": "ZzEuM-WlBCFB",
        "outputId": "dc3922af-f6f0-4296-9cff-978e361893c6"
      },
      "source": [
        "# multinomial Naive bayes\n",
        "data = pd.read_csv('tweets.csv')\n",
        "print(data.head())"
      ],
      "execution_count": 7,
      "outputs": [
        {
          "output_type": "stream",
          "text": [
            "   id  label                                              tweet\n",
            "0   1      0  #fingerprint #Pregnancy Test https://goo.gl/h1...\n",
            "1   2      0  Finally a transparant silicon case ^^ Thanks t...\n",
            "2   3      0  We love this! Would you go? #talk #makememorie...\n",
            "3   4      0  I'm wired I know I'm George I was made that wa...\n",
            "4   5      1  What amazing service! Apple won't even talk to...\n"
          ],
          "name": "stdout"
        }
      ]
    },
    {
      "cell_type": "code",
      "metadata": {
        "id": "yZ6V6kJ6CXXv"
      },
      "source": [
        "# declaring dependent and independent \n",
        "x = data['tweet']\n",
        "y = data['label']\n",
        "\n",
        "# create train test split\n",
        "x_train,x_test,y_train,y_test = train_test_split(x,y,test_size=0.3,random_state = 56)\n",
        "\n",
        "\n",
        "# create bag of words\n",
        "from sklearn.feature_extraction.text import CountVectorizer\n",
        "count_vector = CountVectorizer(stop_words = 'english')\n",
        "\n",
        "# fit the train\n",
        "train_data = count_vector.fit_transform(x_train)\n",
        "test_data = count_vector.transform(x_test)"
      ],
      "execution_count": 9,
      "outputs": []
    },
    {
      "cell_type": "code",
      "metadata": {
        "id": "X8kcwmw-FkXz"
      },
      "source": [
        "from sklearn.naive_bayes import MultinomialNB\n",
        "naive_bayes = MultinomialNB()\n",
        "\n",
        "# train the model\n",
        "naive_bayes.fit(train_data,y_train)\n",
        "predictions = naive_bayes.predict(test_data)"
      ],
      "execution_count": 10,
      "outputs": []
    },
    {
      "cell_type": "code",
      "metadata": {
        "colab": {
          "base_uri": "https://localhost:8080/"
        },
        "id": "F-rePQ72GFxu",
        "outputId": "717ba26b-0bfe-4e6e-e943-419ecc05e3dc"
      },
      "source": [
        "from sklearn.metrics import accuracy_score\n",
        "accuracy_score(predictions,y_test)"
      ],
      "execution_count": 11,
      "outputs": [
        {
          "output_type": "execute_result",
          "data": {
            "text/plain": [
              "0.8905723905723906"
            ]
          },
          "metadata": {
            "tags": []
          },
          "execution_count": 11
        }
      ]
    },
    {
      "cell_type": "code",
      "metadata": {
        "id": "54RIpIWDIlpf"
      },
      "source": [
        "# bernoulli Naive bayes\n",
        "from sklearn.feature_extraction.text import CountVectorizer\n",
        "count_vector = CountVectorizer(stop_words = 'english',binary = True)"
      ],
      "execution_count": 12,
      "outputs": []
    },
    {
      "cell_type": "code",
      "metadata": {
        "id": "A5oa3IYkJEC4"
      },
      "source": [
        "# fit the train\n",
        "train_data = count_vector.fit_transform(x_train)\n",
        "test_data = count_vector.transform(x_test)"
      ],
      "execution_count": 13,
      "outputs": []
    },
    {
      "cell_type": "code",
      "metadata": {
        "id": "ZrxZZ-dvJIPx"
      },
      "source": [
        "from sklearn.naive_bayes import BernoulliNB\n",
        "naive_bayes = BernoulliNB()\n",
        "\n",
        "# train the model\n",
        "naive_bayes.fit(train_data,y_train)\n",
        "predictions = naive_bayes.predict(test_data)"
      ],
      "execution_count": 14,
      "outputs": []
    },
    {
      "cell_type": "code",
      "metadata": {
        "colab": {
          "base_uri": "https://localhost:8080/"
        },
        "id": "b7dOJtmxJU0r",
        "outputId": "efc478cc-0329-415b-fee1-f6ca52c0e7cc"
      },
      "source": [
        "from sklearn.metrics import accuracy_score\n",
        "accuracy_score(predictions,y_test)"
      ],
      "execution_count": 15,
      "outputs": [
        {
          "output_type": "execute_result",
          "data": {
            "text/plain": [
              "0.8800505050505051"
            ]
          },
          "metadata": {
            "tags": []
          },
          "execution_count": 15
        }
      ]
    },
    {
      "cell_type": "code",
      "metadata": {
        "id": "OuMnRo2TJW_l"
      },
      "source": [
        ""
      ],
      "execution_count": null,
      "outputs": []
    }
  ]
}