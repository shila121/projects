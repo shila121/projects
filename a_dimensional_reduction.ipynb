{
  "nbformat": 4,
  "nbformat_minor": 0,
  "metadata": {
    "colab": {
      "name": "a_dimensional_reduction.ipynb",
      "provenance": [],
      "collapsed_sections": [],
      "toc_visible": true,
      "authorship_tag": "ABX9TyNjlPKOeqr01PBM8LyzKNuh",
      "include_colab_link": true
    },
    "kernelspec": {
      "name": "python3",
      "display_name": "Python 3"
    },
    "language_info": {
      "name": "python"
    }
  },
  "cells": [
    {
      "cell_type": "markdown",
      "metadata": {
        "id": "view-in-github",
        "colab_type": "text"
      },
      "source": [
        "<a href=\"https://colab.research.google.com/github/shila121/projects/blob/main/a_dimensional_reduction.ipynb\" target=\"_parent\"><img src=\"https://colab.research.google.com/assets/colab-badge.svg\" alt=\"Open In Colab\"/></a>"
      ]
    },
    {
      "cell_type": "code",
      "metadata": {
        "id": "jkWJvr72OtQm"
      },
      "source": [
        "# loading the libraries\n",
        "import pandas as pd\n",
        "import numpy as np\n",
        "import matplotlib.pyplot as plt\n",
        "%matplotlib inline\n",
        "import warnings\n",
        "warnings.filterwarnings('ignore')"
      ],
      "execution_count": 1,
      "outputs": []
    },
    {
      "cell_type": "code",
      "metadata": {
        "colab": {
          "base_uri": "https://localhost:8080/"
        },
        "id": "fxsx_VPVPdlG",
        "outputId": "3a0c607e-58ee-49d4-adcb-83f03455ae08"
      },
      "source": [
        "# loading the data \n",
        "data = pd.read_csv('missing_value_ratio-200306-192816.csv')\n",
        "print(data.head())\n",
        "print(data.shape)"
      ],
      "execution_count": 2,
      "outputs": [
        {
          "output_type": "stream",
          "text": [
            "      ID  season  holiday  workingday  ...   atemp  humidity  windspeed  count\n",
            "0  AB101     1.0      0.0         0.0  ...  14.395      81.0        NaN     16\n",
            "1  AB102     1.0      NaN         0.0  ...  13.635      80.0        NaN     40\n",
            "2  AB103     1.0      0.0         NaN  ...  13.635      80.0        NaN     32\n",
            "3  AB104     NaN      0.0         NaN  ...  14.395      75.0        NaN     13\n",
            "4  AB105     1.0      NaN         0.0  ...  14.395       NaN    16.9979      1\n",
            "\n",
            "[5 rows x 10 columns]\n",
            "(12980, 10)\n"
          ],
          "name": "stdout"
        }
      ]
    },
    {
      "cell_type": "markdown",
      "metadata": {
        "id": "2nxwFC_QPxtS"
      },
      "source": [
        "# 1.Missing Value Ratio for Dimensionality Reduction"
      ]
    },
    {
      "cell_type": "code",
      "metadata": {
        "colab": {
          "base_uri": "https://localhost:8080/"
        },
        "id": "LAYtWpoIP27q",
        "outputId": "4fe5d3db-e23d-4d7f-b6f4-118f72154dad"
      },
      "source": [
        "print(data.isnull().sum())"
      ],
      "execution_count": 3,
      "outputs": [
        {
          "output_type": "stream",
          "text": [
            "ID               0\n",
            "season           9\n",
            "holiday       6295\n",
            "workingday       9\n",
            "weather          4\n",
            "temp             0\n",
            "atemp            0\n",
            "humidity         5\n",
            "windspeed     5324\n",
            "count            0\n",
            "dtype: int64\n"
          ],
          "name": "stdout"
        }
      ]
    },
    {
      "cell_type": "markdown",
      "metadata": {
        "id": "Dqy4EmhtYagC"
      },
      "source": [
        ""
      ]
    },
    {
      "cell_type": "code",
      "metadata": {
        "colab": {
          "base_uri": "https://localhost:8080/"
        },
        "id": "WK4-oHFMQBJ_",
        "outputId": "03c97f7f-6d65-4354-a006-3988097edb18"
      },
      "source": [
        "print(data.isnull().mean()*100)"
      ],
      "execution_count": 4,
      "outputs": [
        {
          "output_type": "stream",
          "text": [
            "ID             0.000000\n",
            "season         0.069337\n",
            "holiday       48.497689\n",
            "workingday     0.069337\n",
            "weather        0.030817\n",
            "temp           0.000000\n",
            "atemp          0.000000\n",
            "humidity       0.038521\n",
            "windspeed     41.016949\n",
            "count          0.000000\n",
            "dtype: float64\n"
          ],
          "name": "stdout"
        }
      ]
    },
    {
      "cell_type": "code",
      "metadata": {
        "colab": {
          "base_uri": "https://localhost:8080/"
        },
        "id": "4zHJLUnOQFNC",
        "outputId": "b6f7314b-b6cf-473f-ea10-abf892098819"
      },
      "source": [
        "var_to_be_dropped = [var for var in data.columns if data[var].isnull().mean()*100 > 40]\n",
        "var_selected = [var for var in data.columns if var not in var_to_be_dropped]\n",
        "print(var_to_be_dropped)\n",
        "print(var_selected)"
      ],
      "execution_count": 5,
      "outputs": [
        {
          "output_type": "stream",
          "text": [
            "['holiday', 'windspeed']\n",
            "['ID', 'season', 'workingday', 'weather', 'temp', 'atemp', 'humidity', 'count']\n"
          ],
          "name": "stdout"
        }
      ]
    },
    {
      "cell_type": "code",
      "metadata": {
        "colab": {
          "base_uri": "https://localhost:8080/"
        },
        "id": "RCoz2-R2RE37",
        "outputId": "6ad03bd2-2bee-4b11-c9e8-e42ee7b6e9aa"
      },
      "source": [
        "print(\"Original data shape:\",data.shape)\n",
        "print(\"New data shape:\",data[var_selected].shape)\n",
        "\n",
        "# we observate that the dimension is reduced of data has  been reduced"
      ],
      "execution_count": 6,
      "outputs": [
        {
          "output_type": "stream",
          "text": [
            "Original data shape: (12980, 10)\n",
            "New data shape: (12980, 8)\n"
          ],
          "name": "stdout"
        }
      ]
    },
    {
      "cell_type": "markdown",
      "metadata": {
        "id": "sbiwD5uQYbjk"
      },
      "source": [
        "# 2. Variance calculation for Dimensionality Reduction"
      ]
    },
    {
      "cell_type": "code",
      "metadata": {
        "colab": {
          "base_uri": "https://localhost:8080/"
        },
        "id": "lzkOCquoYpz1",
        "outputId": "d44f65f2-9275-4679-a0d1-c8281958e41c"
      },
      "source": [
        "# load the data\n",
        "data = pd.read_csv('low_variance_filter-200306-194411.csv')\n",
        "print(data.head())\n",
        "print(data.shape)"
      ],
      "execution_count": 7,
      "outputs": [
        {
          "output_type": "stream",
          "text": [
            "      ID  temp   atemp  humidity  windspeed  count\n",
            "0  AB101  9.84  14.395        81        0.0     16\n",
            "1  AB102  9.02  13.635        80        0.0     40\n",
            "2  AB103  9.02  13.635        80        0.0     32\n",
            "3  AB104  9.84  14.395        75        0.0     13\n",
            "4  AB105  9.84  14.395        75        0.0      1\n",
            "(12980, 6)\n"
          ],
          "name": "stdout"
        }
      ]
    },
    {
      "cell_type": "code",
      "metadata": {
        "colab": {
          "base_uri": "https://localhost:8080/"
        },
        "id": "nMJWTZQIY5pL",
        "outputId": "35f82cdb-d1bc-400f-aefd-a705e563cf73"
      },
      "source": [
        "print(data.isnull().sum())\n",
        "# no missing values"
      ],
      "execution_count": 8,
      "outputs": [
        {
          "output_type": "stream",
          "text": [
            "ID           0\n",
            "temp         0\n",
            "atemp        0\n",
            "humidity     0\n",
            "windspeed    0\n",
            "count        0\n",
            "dtype: int64\n"
          ],
          "name": "stdout"
        }
      ]
    },
    {
      "cell_type": "code",
      "metadata": {
        "colab": {
          "base_uri": "https://localhost:8080/"
        },
        "id": "jF6hjkwEZH0p",
        "outputId": "0075169a-3c7e-43f8-c7d5-7326822252d7"
      },
      "source": [
        "data = data.drop('ID',axis = 1)\n",
        "print(data.shape)"
      ],
      "execution_count": 9,
      "outputs": [
        {
          "output_type": "stream",
          "text": [
            "(12980, 5)\n"
          ],
          "name": "stdout"
        }
      ]
    },
    {
      "cell_type": "code",
      "metadata": {
        "id": "rAzzUCUqZhMF"
      },
      "source": [
        "# before going for calculation of variance, we will normalize the data\n",
        "from sklearn.preprocessing import normalize\n",
        "normalize = normalize(data)"
      ],
      "execution_count": 10,
      "outputs": []
    },
    {
      "cell_type": "code",
      "metadata": {
        "colab": {
          "base_uri": "https://localhost:8080/"
        },
        "id": "oD7Pu07LZ-XF",
        "outputId": "06911793-2ab9-4fe8-dfcc-a78409542f56"
      },
      "source": [
        "data_scaled = pd.DataFrame(normalize)\n",
        "data_scaled.var()"
      ],
      "execution_count": 11,
      "outputs": [
        {
          "output_type": "execute_result",
          "data": {
            "text/plain": [
              "0    0.005877\n",
              "1    0.007977\n",
              "2    0.093491\n",
              "3    0.008756\n",
              "4    0.111977\n",
              "dtype: float64"
            ]
          },
          "metadata": {
            "tags": []
          },
          "execution_count": 11
        }
      ]
    },
    {
      "cell_type": "code",
      "metadata": {
        "colab": {
          "base_uri": "https://localhost:8080/"
        },
        "id": "Jv28QqEzaRNK",
        "outputId": "1c156002-9a9f-42f7-c343-8ae3597e6ba6"
      },
      "source": [
        "variance = data_scaled.var()\n",
        "columns = data.columns\n",
        "\n",
        "\n",
        "variance_select = [ var for var in variance if var >=0.006]\n",
        "print('selected variance:',variance_select)\n",
        "\n",
        "\n",
        "variable = []\n",
        "for i in range(len(variance)):\n",
        "  if variance[i] >= 0.006:\n",
        "    variable.append(columns[i])"
      ],
      "execution_count": 12,
      "outputs": [
        {
          "output_type": "stream",
          "text": [
            "selected variance: [0.007977044945059584, 0.09349125331649057, 0.008755751088686264, 0.11197722261752109]\n"
          ],
          "name": "stdout"
        }
      ]
    },
    {
      "cell_type": "code",
      "metadata": {
        "colab": {
          "base_uri": "https://localhost:8080/"
        },
        "id": "s91FoFbdasIB",
        "outputId": "64c8ab27-d23d-4b01-c4ab-9160d76802ba"
      },
      "source": [
        "new_data = data[variable]\n",
        "print(new_data.head())"
      ],
      "execution_count": 13,
      "outputs": [
        {
          "output_type": "stream",
          "text": [
            "    atemp  humidity  windspeed  count\n",
            "0  14.395        81        0.0     16\n",
            "1  13.635        80        0.0     40\n",
            "2  13.635        80        0.0     32\n",
            "3  14.395        75        0.0     13\n",
            "4  14.395        75        0.0      1\n"
          ],
          "name": "stdout"
        }
      ]
    },
    {
      "cell_type": "code",
      "metadata": {
        "colab": {
          "base_uri": "https://localhost:8080/"
        },
        "id": "zm1jBpHza9vF",
        "outputId": "141cc832-8618-488a-831f-04de894a210e"
      },
      "source": [
        "print(\"Original data shape:\",data.shape)\n",
        "print(\"New data shape:\",new_data.shape)\n",
        "\n",
        "# we observate that the dimension is reduced of data has  been reduced"
      ],
      "execution_count": 14,
      "outputs": [
        {
          "output_type": "stream",
          "text": [
            "Original data shape: (12980, 5)\n",
            "New data shape: (12980, 4)\n"
          ],
          "name": "stdout"
        }
      ]
    },
    {
      "cell_type": "code",
      "metadata": {
        "colab": {
          "base_uri": "https://localhost:8080/"
        },
        "id": "pzxq2VAebse-",
        "outputId": "de535d57-93fb-4b14-8237-cb145e48afc7"
      },
      "source": [
        "new_data.var()"
      ],
      "execution_count": 15,
      "outputs": [
        {
          "output_type": "execute_result",
          "data": {
            "text/plain": [
              "atemp           73.137484\n",
              "humidity       398.549141\n",
              "windspeed       69.322053\n",
              "count        25843.419864\n",
              "dtype: float64"
            ]
          },
          "metadata": {
            "tags": []
          },
          "execution_count": 15
        }
      ]
    },
    {
      "cell_type": "code",
      "metadata": {
        "id": "Gbvrlcxyb83t"
      },
      "source": [
        ""
      ],
      "execution_count": 15,
      "outputs": []
    },
    {
      "cell_type": "markdown",
      "metadata": {
        "id": "0VbXyiHmtEbq"
      },
      "source": [
        "# 3. Backward Elimination for Dimensionality Reduction"
      ]
    },
    {
      "cell_type": "code",
      "metadata": {
        "id": "KVuPGVV6tNs5"
      },
      "source": [
        "# load the data"
      ],
      "execution_count": 16,
      "outputs": []
    },
    {
      "cell_type": "code",
      "metadata": {
        "id": "zZcs2qGIx6Y8",
        "colab": {
          "base_uri": "https://localhost:8080/"
        },
        "outputId": "db7ac002-e6ee-4477-8b0e-9eb20cc24706"
      },
      "source": [
        "data = pd.read_csv('backward_feature_elimination-200308-140938.csv')\n",
        "print(data.head())\n",
        "print(data.shape)"
      ],
      "execution_count": 30,
      "outputs": [
        {
          "output_type": "stream",
          "text": [
            "      ID  season  holiday  workingday  ...  temp  humidity  windspeed  count\n",
            "0  AB101       1        0           0  ...  9.84        81        0.0     16\n",
            "1  AB102       1        0           0  ...  9.02        80        0.0     40\n",
            "2  AB103       1        0           0  ...  9.02        80        0.0     32\n",
            "3  AB104       1        0           0  ...  9.84        75        0.0     13\n",
            "4  AB105       1        0           0  ...  9.84        75        0.0      1\n",
            "\n",
            "[5 rows x 9 columns]\n",
            "(12980, 9)\n"
          ],
          "name": "stdout"
        }
      ]
    },
    {
      "cell_type": "code",
      "metadata": {
        "colab": {
          "base_uri": "https://localhost:8080/"
        },
        "id": "-WGbs0C73B9K",
        "outputId": "95115744-2034-433c-97ed-e2cff44653cf"
      },
      "source": [
        "# check if any missing value are there\n",
        "data.isnull().sum()\n",
        "# no missing values observed"
      ],
      "execution_count": 31,
      "outputs": [
        {
          "output_type": "execute_result",
          "data": {
            "text/plain": [
              "ID            0\n",
              "season        0\n",
              "holiday       0\n",
              "workingday    0\n",
              "weather       0\n",
              "temp          0\n",
              "humidity      0\n",
              "windspeed     0\n",
              "count         0\n",
              "dtype: int64"
            ]
          },
          "metadata": {
            "tags": []
          },
          "execution_count": 31
        }
      ]
    },
    {
      "cell_type": "code",
      "metadata": {
        "id": "rXcemSoN3ar9"
      },
      "source": [
        "# create train data\n",
        "X = data.drop(['ID','count'],axis = 1)\n",
        "y = data['count']"
      ],
      "execution_count": 32,
      "outputs": []
    },
    {
      "cell_type": "code",
      "metadata": {
        "colab": {
          "base_uri": "https://localhost:8080/"
        },
        "id": "NfASzTQn33L7",
        "outputId": "4cf1b4b6-658e-4a3a-d729-b9f9916cbc72"
      },
      "source": [
        "print(X.shape,y.shape)"
      ],
      "execution_count": 33,
      "outputs": [
        {
          "output_type": "stream",
          "text": [
            "(12980, 7) (12980,)\n"
          ],
          "name": "stdout"
        }
      ]
    },
    {
      "cell_type": "code",
      "metadata": {
        "colab": {
          "base_uri": "https://localhost:8080/"
        },
        "id": "uGqgPpDQ3_Sz",
        "outputId": "0b558ad6-53d7-4fea-f5bf-673ec5a1d1a1"
      },
      "source": [
        "!pip install mlxtend\n"
      ],
      "execution_count": 34,
      "outputs": [
        {
          "output_type": "stream",
          "text": [
            "Requirement already satisfied: mlxtend in /usr/local/lib/python3.7/dist-packages (0.14.0)\n",
            "Requirement already satisfied: scipy>=0.17 in /usr/local/lib/python3.7/dist-packages (from mlxtend) (1.4.1)\n",
            "Requirement already satisfied: numpy>=1.10.4 in /usr/local/lib/python3.7/dist-packages (from mlxtend) (1.19.5)\n",
            "Requirement already satisfied: matplotlib>=1.5.1 in /usr/local/lib/python3.7/dist-packages (from mlxtend) (3.2.2)\n",
            "Requirement already satisfied: setuptools in /usr/local/lib/python3.7/dist-packages (from mlxtend) (56.0.0)\n",
            "Requirement already satisfied: scikit-learn>=0.18 in /usr/local/lib/python3.7/dist-packages (from mlxtend) (0.22.2.post1)\n",
            "Requirement already satisfied: pandas>=0.17.1 in /usr/local/lib/python3.7/dist-packages (from mlxtend) (1.1.5)\n",
            "Requirement already satisfied: python-dateutil>=2.1 in /usr/local/lib/python3.7/dist-packages (from matplotlib>=1.5.1->mlxtend) (2.8.1)\n",
            "Requirement already satisfied: pyparsing!=2.0.4,!=2.1.2,!=2.1.6,>=2.0.1 in /usr/local/lib/python3.7/dist-packages (from matplotlib>=1.5.1->mlxtend) (2.4.7)\n",
            "Requirement already satisfied: cycler>=0.10 in /usr/local/lib/python3.7/dist-packages (from matplotlib>=1.5.1->mlxtend) (0.10.0)\n",
            "Requirement already satisfied: kiwisolver>=1.0.1 in /usr/local/lib/python3.7/dist-packages (from matplotlib>=1.5.1->mlxtend) (1.3.1)\n",
            "Requirement already satisfied: joblib>=0.11 in /usr/local/lib/python3.7/dist-packages (from scikit-learn>=0.18->mlxtend) (1.0.1)\n",
            "Requirement already satisfied: pytz>=2017.2 in /usr/local/lib/python3.7/dist-packages (from pandas>=0.17.1->mlxtend) (2018.9)\n",
            "Requirement already satisfied: six>=1.5 in /usr/local/lib/python3.7/dist-packages (from python-dateutil>=2.1->matplotlib>=1.5.1->mlxtend) (1.15.0)\n"
          ],
          "name": "stdout"
        }
      ]
    },
    {
      "cell_type": "code",
      "metadata": {
        "id": "nyzPGY6T4MlD"
      },
      "source": [
        "from mlxtend.feature_selection import SequentialFeatureSelector as sfs\n",
        "from sklearn.linear_model import LinearRegression\n",
        "\n",
        "lreg = LinearRegression()\n",
        "sfs1 = sfs(lreg ,k_features=4,forward=False ,verbose =1 ,scoring = 'neg_mean_squared_error')"
      ],
      "execution_count": 35,
      "outputs": []
    },
    {
      "cell_type": "code",
      "metadata": {
        "id": "koUEbT2g5MKq"
      },
      "source": [
        "# sfs1 = sfs1.fit(X,y)"
      ],
      "execution_count": 37,
      "outputs": []
    },
    {
      "cell_type": "markdown",
      "metadata": {
        "id": "aw9iP1nK890d"
      },
      "source": [
        "# 4. Forward Selection for Dimensionality Reduction"
      ]
    },
    {
      "cell_type": "code",
      "metadata": {
        "colab": {
          "base_uri": "https://localhost:8080/"
        },
        "id": "F-qY1DaY9FTv",
        "outputId": "cc1d4c4a-41e7-474e-d547-1a967cbff448"
      },
      "source": [
        "data = pd.read_csv('forward_feature_selection-200306-234007.csv')\n",
        "print(data.head())\n",
        "print(data.shape)"
      ],
      "execution_count": 38,
      "outputs": [
        {
          "output_type": "stream",
          "text": [
            "      ID  season  holiday  workingday  ...  temp  humidity  windspeed  count\n",
            "0  AB101       1        0           0  ...  9.84        81        0.0     16\n",
            "1  AB102       1        0           0  ...  9.02        80        0.0     40\n",
            "2  AB103       1        0           0  ...  9.02        80        0.0     32\n",
            "3  AB104       1        0           0  ...  9.84        75        0.0     13\n",
            "4  AB105       1        0           0  ...  9.84        75        0.0      1\n",
            "\n",
            "[5 rows x 9 columns]\n",
            "(12980, 9)\n"
          ],
          "name": "stdout"
        }
      ]
    },
    {
      "cell_type": "code",
      "metadata": {
        "colab": {
          "base_uri": "https://localhost:8080/"
        },
        "id": "a34tePVj9bP2",
        "outputId": "69c94e2c-5501-412c-a87f-f9c24e440ba4"
      },
      "source": [
        "# check if any missing value are there\n",
        "data.isnull().sum()\n",
        "# no missing values observed"
      ],
      "execution_count": 39,
      "outputs": [
        {
          "output_type": "execute_result",
          "data": {
            "text/plain": [
              "ID            0\n",
              "season        0\n",
              "holiday       0\n",
              "workingday    0\n",
              "weather       0\n",
              "temp          0\n",
              "humidity      0\n",
              "windspeed     0\n",
              "count         0\n",
              "dtype: int64"
            ]
          },
          "metadata": {
            "tags": []
          },
          "execution_count": 39
        }
      ]
    },
    {
      "cell_type": "code",
      "metadata": {
        "id": "dy7USj4c9h7e"
      },
      "source": [
        "# create train data\n",
        "X = data.drop(['ID','count'],axis = 1)\n",
        "y = data['count']"
      ],
      "execution_count": 40,
      "outputs": []
    },
    {
      "cell_type": "code",
      "metadata": {
        "id": "NRYJ5Ndd9ko4"
      },
      "source": [
        "from mlxtend.feature_selection import SequentialFeatureSelector as sfs\n",
        "from sklearn.linear_model import LinearRegression\n",
        "\n",
        "lreg = LinearRegression()\n",
        "sfs1 = sfs(lreg ,k_features=4,forward=False ,verbose =2 ,scoring = 'neg_mean_squared_error')"
      ],
      "execution_count": 41,
      "outputs": []
    },
    {
      "cell_type": "code",
      "metadata": {
        "id": "apg85n9G-Z4s"
      },
      "source": [
        "# sfs1 = sfs1.fit(X,y)"
      ],
      "execution_count": 43,
      "outputs": []
    },
    {
      "cell_type": "code",
      "metadata": {
        "id": "WzJR_ta3-dVy"
      },
      "source": [
        ""
      ],
      "execution_count": null,
      "outputs": []
    }
  ]
}