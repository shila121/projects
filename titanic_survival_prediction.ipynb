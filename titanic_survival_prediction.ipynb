{
  "nbformat": 4,
  "nbformat_minor": 0,
  "metadata": {
    "colab": {
      "name": "titanic_survival_prediction.ipynb",
      "provenance": [],
      "collapsed_sections": [],
      "toc_visible": true
    },
    "kernelspec": {
      "name": "python3",
      "display_name": "Python 3"
    }
  },
  "cells": [
    {
      "cell_type": "code",
      "metadata": {
        "id": "SOni4ggt9z5F"
      },
      "source": [
        ""
      ],
      "execution_count": null,
      "outputs": []
    },
    {
      "cell_type": "markdown",
      "metadata": {
        "id": "qz490Kbd9_WL"
      },
      "source": [
        "**1. Framing the problem statement**\n",
        "---------------------------------------------------------------------------------\n",
        "\n",
        "Here,we are trying to predict the survival chances of Titnic dataset. It is a classification modelling. Target variable is **Survived**"
      ]
    },
    {
      "cell_type": "code",
      "metadata": {
        "colab": {
          "base_uri": "https://localhost:8080/"
        },
        "id": "MNIMisfo-HV8",
        "outputId": "b875d154-cf2e-4688-e9a6-a24b4d25ff5c"
      },
      "source": [
        "# importing libraries\n",
        "import pandas as pd\n",
        "import numpy as np\n",
        "import matplotlib.pyplot as plt\n",
        "\n",
        "\n",
        "# importing datasets\n",
        "train = pd.read_csv('train.csv')\n",
        "test = pd.read_csv('test.csv')\n",
        "\n",
        "print('train shape:',train.shape)\n",
        "print('test shape:',test.shape)\n",
        "\n",
        "print('train columns:',train.columns)\n",
        "print('test columns:',test.columns)\n",
        "\n",
        "# combined dataset\n",
        "dataset = [train,test]\n",
        "\n",
        "# categorical columns:\n",
        "catCols=train.select_dtypes('object').columns\n",
        "catCols = list(set(catCols))\n",
        "# as Name is unique so it is irrelevant\n",
        "catCols.remove('Name')\n",
        "\n",
        "\n",
        "print('categorical columns:',catCols)\n",
        "\n",
        "# numerical columns\n",
        "numCols = train.select_dtypes('number').columns\n",
        "numCols = list(set(numCols))\n",
        "\n",
        "\n",
        "# as 'Survived' is the target variable\n",
        "# so we will remove from numerical columns\n",
        "numCols.remove('Survived')\n",
        "\n",
        "# as passengerId is unique so it is irrelevant\n",
        "numCols.remove('PassengerId')\n",
        "\n",
        "print('numerical columns:',numCols)\n",
        "\n",
        "# 2 from numeric colums and 1 from cat cols are removed"
      ],
      "execution_count": 1,
      "outputs": [
        {
          "output_type": "stream",
          "text": [
            "train shape: (891, 12)\n",
            "test shape: (418, 11)\n",
            "train columns: Index(['PassengerId', 'Survived', 'Pclass', 'Name', 'Sex', 'Age', 'SibSp',\n",
            "       'Parch', 'Ticket', 'Fare', 'Cabin', 'Embarked'],\n",
            "      dtype='object')\n",
            "test columns: Index(['PassengerId', 'Pclass', 'Name', 'Sex', 'Age', 'SibSp', 'Parch',\n",
            "       'Ticket', 'Fare', 'Cabin', 'Embarked'],\n",
            "      dtype='object')\n",
            "categorical columns: ['Embarked', 'Ticket', 'Cabin', 'Sex']\n",
            "numerical columns: ['Fare', 'Pclass', 'SibSp', 'Parch', 'Age']\n"
          ],
          "name": "stdout"
        }
      ]
    },
    {
      "cell_type": "markdown",
      "metadata": {
        "id": "AacobzlP-7sc"
      },
      "source": [
        "2 .Hypothesis Testing\n",
        "-----------------------------------------------------------------\n",
        "Null Hypothesis:there is no relationship between predictor and target\n",
        "\n",
        "Alternate Hypothesis:There is significant relationship between predictor and target."
      ]
    },
    {
      "cell_type": "code",
      "metadata": {
        "colab": {
          "base_uri": "https://localhost:8080/"
        },
        "id": "1iJEXxyU-_V_",
        "outputId": "d3a1f303-3647-407a-f41b-409045bf6a0d"
      },
      "source": [
        "# we will carry out z-test as below for numeric columns:\n",
        "\n",
        "from statsmodels.stats import weightstats as stests\n",
        "\n",
        "significant_num = []\n",
        "in_significant_num = []\n",
        "for i in numCols:\n",
        "  p_val = stests.ztest(train[i],train.Survived)\n",
        "  p_val = p_val[1]\n",
        "  print('columns:',i)\n",
        "  print('p val:',p_val)\n",
        "\n",
        "  if p_val < 0.05 :\n",
        "    status = \"Reject Null Hypothesis,Significant predictors\"\n",
        "    print('status:',status)\n",
        "    significant_num.append(i)\n",
        "  else:\n",
        "    status = 'Accept Null Hypothesis,Insignificant predictors'\n",
        "    print('status:',status)\n",
        "    in_significant_num.append(i)\n",
        "\n",
        "print(\"significant:\",significant_num,len(significant_num))\n",
        "print(\"Insignificant:\",in_significant_num,len(in_significant_num))"
      ],
      "execution_count": 2,
      "outputs": [
        {
          "output_type": "stream",
          "text": [
            "/usr/local/lib/python3.6/dist-packages/statsmodels/tools/_testing.py:19: FutureWarning: pandas.util.testing is deprecated. Use the functions in the public API at pandas.testing instead.\n",
            "  import pandas.util.testing as tm\n"
          ],
          "name": "stderr"
        },
        {
          "output_type": "stream",
          "text": [
            "columns: Fare\n",
            "p val: 1.975819077461426e-81\n",
            "status: Reject Null Hypothesis,Significant predictors\n",
            "columns: Pclass\n",
            "p val: 0.0\n",
            "status: Reject Null Hypothesis,Significant predictors\n",
            "columns: SibSp\n",
            "p val: 0.0005679094274576065\n",
            "status: Reject Null Hypothesis,Significant predictors\n",
            "columns: Parch\n",
            "p val: 0.943268365860492\n",
            "status: Accept Null Hypothesis,Insignificant predictors\n",
            "columns: Age\n",
            "p val: nan\n",
            "status: Accept Null Hypothesis,Insignificant predictors\n",
            "significant: ['Fare', 'Pclass', 'SibSp'] 3\n",
            "Insignificant: ['Parch', 'Age'] 2\n"
          ],
          "name": "stdout"
        }
      ]
    },
    {
      "cell_type": "code",
      "metadata": {
        "colab": {
          "base_uri": "https://localhost:8080/"
        },
        "id": "APA4kRBYDWDA",
        "outputId": "159585e5-f1c9-4417-a1f4-28d9473e107d"
      },
      "source": [
        "# we will carry out chi-square test for categorical features\n",
        "\n",
        "from scipy.stats import chi2_contingency\n",
        "significant_cat = []\n",
        "in_significant_cat = []\n",
        "for i in catCols:\n",
        "  stat,p,dof,ex = chi2_contingency(pd.crosstab(train[i],train.Survived))\n",
        "  \n",
        "  print('columns:',i)\n",
        "  print('p val:',p_val)\n",
        "\n",
        "  if p_val < 0.05 :\n",
        "    status = \"Reject Null Hypothesis,Significant predictors\"\n",
        "    print('status:',status)\n",
        "    significant_cat.append(i)\n",
        "  else:\n",
        "    status = 'Accept Null Hypothesis,Insignificant predictors'\n",
        "    print('status:',status)\n",
        "    in_significant_cat.append(i)\n",
        "\n",
        "print(\"significant:\",significant_cat,len(significant_cat))\n",
        "print(\"insignificant:\",in_significant_cat,len(in_significant_cat))"
      ],
      "execution_count": 3,
      "outputs": [
        {
          "output_type": "stream",
          "text": [
            "columns: Embarked\n",
            "p val: nan\n",
            "status: Accept Null Hypothesis,Insignificant predictors\n",
            "columns: Ticket\n",
            "p val: nan\n",
            "status: Accept Null Hypothesis,Insignificant predictors\n",
            "columns: Cabin\n",
            "p val: nan\n",
            "status: Accept Null Hypothesis,Insignificant predictors\n",
            "columns: Sex\n",
            "p val: nan\n",
            "status: Accept Null Hypothesis,Insignificant predictors\n",
            "significant: [] 0\n",
            "insignificant: ['Embarked', 'Ticket', 'Cabin', 'Sex'] 4\n"
          ],
          "name": "stdout"
        }
      ]
    },
    {
      "cell_type": "code",
      "metadata": {
        "id": "mDITc7kTEIU9"
      },
      "source": [
        "# NEED TO ReMOVE THIS as nANs are there\n",
        "\n",
        "# # # the we will see the OLS summary\n",
        "# import statsmodels.api as sm\n",
        "# a= train[['SibSp', 'Age', 'Parch', 'Fare', 'Pclass']]\n",
        "# print(a)\n",
        "# model=sm.OLS(train['Survived'],a).fit()\n",
        "# model_prediction=model.predict(a)\n",
        "# model.details = model.summary()\n",
        "\n",
        "# # print(model.details)"
      ],
      "execution_count": 4,
      "outputs": []
    },
    {
      "cell_type": "markdown",
      "metadata": {
        "id": "5ALrkl3jE356"
      },
      "source": [
        "Exploratory Data Analysis (EDA)\n",
        "-----------------------------------------------------------------"
      ]
    },
    {
      "cell_type": "code",
      "metadata": {
        "colab": {
          "base_uri": "https://localhost:8080/",
          "height": 1000
        },
        "id": "f0-IG-nAE5dQ",
        "outputId": "9a404f86-73a6-4fa7-93b9-6e5d2079fcc0"
      },
      "source": [
        "# 1. Univariate Analysis\n",
        "# -> Numerical colums with histogram/distplot\n",
        "\n",
        "import warnings\n",
        "warnings.simplefilter(action='ignore', category=FutureWarning)\n",
        "for i in numCols:\n",
        "  plt.subplot(1,2,1)\n",
        "  plt.hist(train[i],bins=50)\n",
        "  plt.xlabel(i)\n",
        "  plt.ylabel('values')\n",
        "\n",
        "  plt.subplot(1,2,2)\n",
        "  plt.boxplot(train[i])\n",
        "  plt.xlabel(i)\n",
        "  plt.ylabel('values')\n",
        "\n",
        "  plt.show()"
      ],
      "execution_count": 5,
      "outputs": [
        {
          "output_type": "display_data",
          "data": {
            "image/png": "[encoded data removed]",
            "text/plain": [
              "<Figure size 432x288 with 2 Axes>"
            ]
          },
          "metadata": {
            "tags": [],
            "needs_background": "light"
          }
        },
        {
          "output_type": "display_data",
          "data": {
            "image/png": "[encoded data removed]",
            "text/plain": [
              "<Figure size 432x288 with 2 Axes>"
            ]
          },
          "metadata": {
            "tags": [],
            "needs_background": "light"
          }
        },
        {
          "output_type": "display_data",
          "data": {
            "image/png": "[encoded data removed]",
            "text/plain": [
              "<Figure size 432x288 with 2 Axes>"
            ]
          },
          "metadata": {
            "tags": [],
            "needs_background": "light"
          }
        },
        {
          "output_type": "display_data",
          "data": {
            "image/png": "[encoded data removed]",
            "text/plain": [
              "<Figure size 432x288 with 2 Axes>"
            ]
          },
          "metadata": {
            "tags": [],
            "needs_background": "light"
          }
        },
        {
          "output_type": "stream",
          "text": [
            "/usr/local/lib/python3.6/dist-packages/numpy/lib/histograms.py:839: RuntimeWarning: invalid value encountered in greater_equal\n",
            "  keep = (tmp_a >= first_edge)\n",
            "/usr/local/lib/python3.6/dist-packages/numpy/lib/histograms.py:840: RuntimeWarning: invalid value encountered in less_equal\n",
            "  keep &= (tmp_a <= last_edge)\n",
            "/usr/local/lib/python3.6/dist-packages/matplotlib/cbook/__init__.py:1239: RuntimeWarning: invalid value encountered in less_equal\n",
            "  wiskhi = x[x <= hival]\n",
            "/usr/local/lib/python3.6/dist-packages/matplotlib/cbook/__init__.py:1246: RuntimeWarning: invalid value encountered in greater_equal\n",
            "  wisklo = x[x >= loval]\n",
            "/usr/local/lib/python3.6/dist-packages/matplotlib/cbook/__init__.py:1254: RuntimeWarning: invalid value encountered in less\n",
            "  x[x < stats['whislo']],\n",
            "/usr/local/lib/python3.6/dist-packages/matplotlib/cbook/__init__.py:1255: RuntimeWarning: invalid value encountered in greater\n",
            "  x[x > stats['whishi']],\n"
          ],
          "name": "stderr"
        },
        {
          "output_type": "display_data",
          "data": {
            "image/png": "[encoded data removed]",
            "text/plain": [
              "<Figure size 432x288 with 2 Axes>"
            ]
          },
          "metadata": {
            "tags": [],
            "needs_background": "light"
          }
        }
      ]
    },
    {
      "cell_type": "code",
      "metadata": {
        "colab": {
          "base_uri": "https://localhost:8080/"
        },
        "id": "LYczPt_EXUnx",
        "outputId": "e7d8fd7a-413e-4354-d0ce-aa2ee9830bd6"
      },
      "source": [
        "# noted:outliers are present in the data\n",
        "\n",
        "# 2.Univariate analysis of categorical columns by value_counts\n",
        "\n",
        "for i in catCols:\n",
        "  print('column:',i)\n",
        "  print(train[i].value_counts())\n",
        "  print('---------------------------------------------------------------------------------')"
      ],
      "execution_count": 6,
      "outputs": [
        {
          "output_type": "stream",
          "text": [
            "column: Embarked\n",
            "S    644\n",
            "C    168\n",
            "Q     77\n",
            "Name: Embarked, dtype: int64\n",
            "---------------------------------------------------------------------------------\n",
            "column: Ticket\n",
            "1601             7\n",
            "CA. 2343         7\n",
            "347082           7\n",
            "CA 2144          6\n",
            "347088           6\n",
            "                ..\n",
            "345774           1\n",
            "367655           1\n",
            "350406           1\n",
            "SC/PARIS 2167    1\n",
            "2695             1\n",
            "Name: Ticket, Length: 681, dtype: int64\n",
            "---------------------------------------------------------------------------------\n",
            "column: Cabin\n",
            "G6             4\n",
            "C23 C25 C27    4\n",
            "B96 B98        4\n",
            "F33            3\n",
            "D              3\n",
            "              ..\n",
            "A26            1\n",
            "C95            1\n",
            "C111           1\n",
            "D30            1\n",
            "D11            1\n",
            "Name: Cabin, Length: 147, dtype: int64\n",
            "---------------------------------------------------------------------------------\n",
            "column: Sex\n",
            "male      577\n",
            "female    314\n",
            "Name: Sex, dtype: int64\n",
            "---------------------------------------------------------------------------------\n"
          ],
          "name": "stdout"
        }
      ]
    },
    {
      "cell_type": "code",
      "metadata": {
        "colab": {
          "base_uri": "https://localhost:8080/",
          "height": 507
        },
        "id": "xliURvqcYMa8",
        "outputId": "ced2d371-12f8-48ef-f296-0bb186dc2662"
      },
      "source": [
        "# Bi-variate analysis of Numerical features by cor-relation matrix\n",
        "\n",
        "import seaborn as sns\n",
        "\n",
        "matrix = train.corr()\n",
        "print(matrix)\n",
        "\n",
        "fig,ax = plt.subplots(figsize = (4,4))\n",
        "sns.heatmap(matrix,annot = True)"
      ],
      "execution_count": 7,
      "outputs": [
        {
          "output_type": "stream",
          "text": [
            "             PassengerId  Survived    Pclass  ...     SibSp     Parch      Fare\n",
            "PassengerId     1.000000 -0.005007 -0.035144  ... -0.057527 -0.001652  0.012658\n",
            "Survived       -0.005007  1.000000 -0.338481  ... -0.035322  0.081629  0.257307\n",
            "Pclass         -0.035144 -0.338481  1.000000  ...  0.083081  0.018443 -0.549500\n",
            "Age             0.036847 -0.077221 -0.369226  ... -0.308247 -0.189119  0.096067\n",
            "SibSp          -0.057527 -0.035322  0.083081  ...  1.000000  0.414838  0.159651\n",
            "Parch          -0.001652  0.081629  0.018443  ...  0.414838  1.000000  0.216225\n",
            "Fare            0.012658  0.257307 -0.549500  ...  0.159651  0.216225  1.000000\n",
            "\n",
            "[7 rows x 7 columns]\n"
          ],
          "name": "stdout"
        },
        {
          "output_type": "execute_result",
          "data": {
            "text/plain": [
              "<matplotlib.axes._subplots.AxesSubplot at 0x7fbd1cb56438>"
            ]
          },
          "metadata": {
            "tags": []
          },
          "execution_count": 7
        },
        {
          "output_type": "display_data",
          "data": {
            "image/png": "[encoded data removed]",
            "text/plain": [
              "<Figure size 288x288 with 2 Axes>"
            ]
          },
          "metadata": {
            "tags": [],
            "needs_background": "light"
          }
        }
      ]
    },
    {
      "cell_type": "code",
      "metadata": {
        "colab": {
          "base_uri": "https://localhost:8080/",
          "height": 1000
        },
        "id": "44AQxKXyYnN3",
        "outputId": "4b22305c-fe97-4824-8282-48d8f8d9f207"
      },
      "source": [
        "# Bivariate analysis of categorical feature by crosstab\n",
        "\n",
        "for i in catCols:\n",
        "  category = pd.crosstab(train[i],train.Survived)\n",
        "  category.div(category.sum(1).astype(float),axis = 0).plot(kind='bar',stacked = True)\n",
        "  plt.show()"
      ],
      "execution_count": 8,
      "outputs": [
        {
          "output_type": "display_data",
          "data": {
            "image/png": "[encoded data removed]",
            "text/plain": [
              "<Figure size 432x288 with 1 Axes>"
            ]
          },
          "metadata": {
            "tags": [],
            "needs_background": "light"
          }
        },
        {
          "output_type": "display_data",
          "data": {
            "image/png": "[encoded data removed]",
            "text/plain": [
              "<Figure size 432x288 with 1 Axes>"
            ]
          },
          "metadata": {
            "tags": [],
            "needs_background": "light"
          }
        },
        {
          "output_type": "display_data",
          "data": {
            "image/png": "[encoded data removed]",
            "text/plain": [
              "<Figure size 432x288 with 1 Axes>"
            ]
          },
          "metadata": {
            "tags": [],
            "needs_background": "light"
          }
        },
        {
          "output_type": "display_data",
          "data": {
            "image/png": "[encoded data removed]",
            "text/plain": [
              "<Figure size 432x288 with 1 Axes>"
            ]
          },
          "metadata": {
            "tags": [],
            "needs_background": "light"
          }
        }
      ]
    },
    {
      "cell_type": "code",
      "metadata": {
        "id": "iK70guk8aAs8"
      },
      "source": [
        ""
      ],
      "execution_count": 8,
      "outputs": []
    },
    {
      "cell_type": "markdown",
      "metadata": {
        "id": "Ob0eKJbmbEN4"
      },
      "source": [
        "4**. Towards building the model**\n",
        "-----------------------------------------------------------------"
      ]
    },
    {
      "cell_type": "code",
      "metadata": {
        "colab": {
          "base_uri": "https://localhost:8080/"
        },
        "id": "-S4KEUF9bIB4",
        "outputId": "ceffe1ec-6497-4a99-ded1-05ba20880f6d"
      },
      "source": [
        "na = train.shape[0]\n",
        "nb = test.shape[0]\n",
        "print('train-test rows:',na,nb)\n",
        "data = pd.concat((train,test),sort = False).reset_index(drop=True)\n",
        "# print(data.columns,data.shape)\n",
        "\n",
        "# drop the SalePrice as it is target and Id column as it is unique for eaach row and irrevelant in prediction\n",
        "data.drop(['Survived'],axis =1,inplace = True)\n",
        "data.drop(['PassengerId'],axis=1,inplace = True)\n",
        "data.drop(['Name'],axis=1,inplace = True)\n",
        "print(data.columns,data.shape)\n",
        "print('Total size of data is:',data.shape)"
      ],
      "execution_count": 9,
      "outputs": [
        {
          "output_type": "stream",
          "text": [
            "train-test rows: 891 418\n",
            "Index(['Pclass', 'Sex', 'Age', 'SibSp', 'Parch', 'Ticket', 'Fare', 'Cabin',\n",
            "       'Embarked'],\n",
            "      dtype='object') (1309, 9)\n",
            "Total size of data is: (1309, 9)\n"
          ],
          "name": "stdout"
        }
      ]
    },
    {
      "cell_type": "code",
      "metadata": {
        "id": "5H1G_EVEbQJ1"
      },
      "source": [
        ""
      ],
      "execution_count": 9,
      "outputs": []
    },
    {
      "cell_type": "markdown",
      "metadata": {
        "id": "8jbTkNBzpkcO"
      },
      "source": [
        "5.Missing Values\n",
        "--------------------------------------------------------------"
      ]
    },
    {
      "cell_type": "code",
      "metadata": {
        "colab": {
          "base_uri": "https://localhost:8080/"
        },
        "id": "8M4fNJBPppVR",
        "outputId": "2ed95545-e4c3-4f49-e65a-30f8b67b55c3"
      },
      "source": [
        "print(data.isnull().sum())\n",
        "print(data.isnull().mean()*100)"
      ],
      "execution_count": 10,
      "outputs": [
        {
          "output_type": "stream",
          "text": [
            "Pclass         0\n",
            "Sex            0\n",
            "Age          263\n",
            "SibSp          0\n",
            "Parch          0\n",
            "Ticket         0\n",
            "Fare           1\n",
            "Cabin       1014\n",
            "Embarked       2\n",
            "dtype: int64\n",
            "Pclass       0.000000\n",
            "Sex          0.000000\n",
            "Age         20.091673\n",
            "SibSp        0.000000\n",
            "Parch        0.000000\n",
            "Ticket       0.000000\n",
            "Fare         0.076394\n",
            "Cabin       77.463713\n",
            "Embarked     0.152788\n",
            "dtype: float64\n"
          ],
          "name": "stdout"
        }
      ]
    },
    {
      "cell_type": "code",
      "metadata": {
        "id": "mWn3n4TNqdfv"
      },
      "source": [
        "# we will visualize the missing value percentage\n",
        "def msv1(data,thresh=20,color='black',edgecolor ='black',width=15,height =3):\n",
        "  plt.figure(figsize = (width,height))\n",
        "  percentage = (data.isnull().mean())*100\n",
        "  percentage.sort_values(ascending = False).plot.bar(color=color,edgecolor = edgecolor)\n",
        "  plt.axhline(y = thresh,color = 'r',linestyle = '-')\n",
        "  plt.title('Missing Values percentage per column',fontsize = 20,weight = 'bold')\n",
        "\n",
        "  plt.text(len(data.isnull().sum()/len(data))/1.7, thresh+12.5, f'Columns with more than {thresh}% missing values', fontsize=12, color='crimson',\n",
        "         ha='left' ,va='top')\n",
        "  \n",
        "  plt.text(len(data.isnull().sum()/len(data))/1.7, thresh - 5, f'Columns with less than {thresh}% missing values', fontsize=12, color='green',\n",
        "         ha='left' ,va='top')\n",
        "  \n",
        "  plt.xlabel('Columns',size=15,weight='bold')\n",
        "  plt.ylabel('Missing values percentage',size=15,weight='bold')\n",
        "  plt.yticks(weight='bold')\n",
        "\n",
        "  return plt.show()"
      ],
      "execution_count": 11,
      "outputs": []
    },
    {
      "cell_type": "code",
      "metadata": {
        "colab": {
          "base_uri": "https://localhost:8080/",
          "height": 302
        },
        "id": "aReexGeMsSBQ",
        "outputId": "f94e508d-10f3-497e-f9d8-a382725ea740"
      },
      "source": [
        "msv1(data,30,color=sns.color_palette('Reds',15))"
      ],
      "execution_count": 12,
      "outputs": [
        {
          "output_type": "display_data",
          "data": {
            "image/png": "[encoded data removed]",
            "text/plain": [
              "<Figure size 1080x216 with 1 Axes>"
            ]
          },
          "metadata": {
            "tags": [],
            "needs_background": "light"
          }
        }
      ]
    },
    {
      "cell_type": "code",
      "metadata": {
        "colab": {
          "base_uri": "https://localhost:8080/"
        },
        "id": "_j6UiwZOsVE6",
        "outputId": "2105600b-39d9-48b8-e94e-ae6f96c2a156"
      },
      "source": [
        "# we will drop the columns with more than 30 % missing values\n",
        "data_copy=data.dropna(thresh=len(data)*0.7,axis=1)\n",
        "print(f'we dropped {(data.shape[1] - data_copy.shape[1])} features in the combined set')\n",
        "print('Dropped features are :',[x for x in data.columns if x not in data_copy.columns])\n",
        "print(f'The shape of the combined dataset after dropping features with more than 80% M.V. {data_copy.shape}')"
      ],
      "execution_count": 13,
      "outputs": [
        {
          "output_type": "stream",
          "text": [
            "we dropped 1 features in the combined set\n",
            "Dropped features are : ['Cabin']\n",
            "The shape of the combined dataset after dropping features with more than 80% M.V. (1309, 8)\n"
          ],
          "name": "stdout"
        }
      ]
    },
    {
      "cell_type": "code",
      "metadata": {
        "id": "VlftngUHswpe"
      },
      "source": [
        "allna = (data_copy.isnull().mean() ) * 100\n",
        "allna=allna.drop(allna[allna == 0].index).sort_values()\n",
        "\n",
        "# now visualising only missing values and their respective columns\n",
        "def msv2(data_copy,color=('silver', 'gold','lightgreen','skyblue','lightpink'),edgecolor='black',width=16,height=8):\n",
        "  fig, ax = plt.subplots(figsize=(width, height))\n",
        "\n",
        "  allna = (data.isnull().mean())*100\n",
        "  tightout= 0.008*max(allna)\n",
        "\n",
        "\n",
        "  allna=allna.drop(allna[allna == 0].index).sort_values().reset_index()\n",
        "  print(allna.shape)\n",
        "  \n",
        "  mn=ax.barh(allna.iloc[:,0],allna.iloc[:,1],color=color,edgecolor = edgecolor)\n",
        "  ax.set_title('Missing values percentage per column',fontsize =15,weight = 'bold')\n",
        "  ax.set_xlabel('Percentage',weight = 'bold',size =15 )\n",
        "  ax.set_ylabel('Features with missing values', weight='bold')\n",
        "  plt.yticks(weight='bold')\n",
        "  plt.xticks(weight='bold')\n",
        "  for i in ax.patches:\n",
        "    \n",
        "    ax.text(i.get_width()+ tightout, i.get_y()+0.1, str(round((i.get_width()), 2))+'%',fontsize=10, fontweight='bold', color='grey')\n",
        "\n",
        "  return plt.show()"
      ],
      "execution_count": 14,
      "outputs": []
    },
    {
      "cell_type": "code",
      "metadata": {
        "colab": {
          "base_uri": "https://localhost:8080/",
          "height": 513
        },
        "id": "CNpfRwjXtTcq",
        "outputId": "a0bbd4ec-8f81-4532-e882-b66de2ecdcdd"
      },
      "source": [
        "msv2(data_copy,color=sns.color_palette('Reds',15))"
      ],
      "execution_count": 15,
      "outputs": [
        {
          "output_type": "stream",
          "text": [
            "(4, 2)\n"
          ],
          "name": "stdout"
        },
        {
          "output_type": "display_data",
          "data": {
            "image/png": "[encoded data removed]",
            "text/plain": [
              "<Figure size 1152x576 with 1 Axes>"
            ]
          },
          "metadata": {
            "tags": [],
            "needs_background": "light"
          }
        }
      ]
    },
    {
      "cell_type": "code",
      "metadata": {
        "colab": {
          "base_uri": "https://localhost:8080/"
        },
        "id": "3O1TiRCLtXVJ",
        "outputId": "f72fa764-5409-4630-b65a-610e8de7b797"
      },
      "source": [
        "print(f'The shape of the combined dataset after dropping features with more than 80% M.V. {data_copy.shape}')"
      ],
      "execution_count": 16,
      "outputs": [
        {
          "output_type": "stream",
          "text": [
            "The shape of the combined dataset after dropping features with more than 80% M.V. (1309, 8)\n"
          ],
          "name": "stdout"
        }
      ]
    },
    {
      "cell_type": "markdown",
      "metadata": {
        "id": "JZK-AOHSt2O9"
      },
      "source": [
        "**Splitting the missing values into categorical and Numeriacl column for better treatment**"
      ]
    },
    {
      "cell_type": "code",
      "metadata": {
        "colab": {
          "base_uri": "https://localhost:8080/"
        },
        "id": "6KWEvVGDt27d",
        "outputId": "cd11ab67-abfd-4b98-cab3-a0b5df5893b0"
      },
      "source": [
        "NA=data_copy[allna.index.to_list()]\n",
        "# splitting in categorical and numerical columns\n",
        "\n",
        "NAcat = NA.select_dtypes(include='object')\n",
        "NAnum = NA.select_dtypes(exclude='object')\n",
        "\n",
        "print(f'we have : {NAcat.shape[1]} categorical features with missing values')\n",
        "print(f'we have : {NAnum.shape[1]} numerical features with missing values')\n",
        "\n",
        "print('çategorical columns with nA :',NAcat.columns)\n",
        "print('numerical columns with nA :',NAnum.columns)"
      ],
      "execution_count": 17,
      "outputs": [
        {
          "output_type": "stream",
          "text": [
            "we have : 1 categorical features with missing values\n",
            "we have : 2 numerical features with missing values\n",
            "çategorical columns with nA : Index(['Embarked'], dtype='object')\n",
            "numerical columns with nA : Index(['Fare', 'Age'], dtype='object')\n"
          ],
          "name": "stdout"
        }
      ]
    },
    {
      "cell_type": "markdown",
      "metadata": {
        "id": "anrhQ4yuuIuq"
      },
      "source": [
        "**Treating numerical columns with missing values**\n",
        "---------------------------------------------------------------"
      ]
    },
    {
      "cell_type": "code",
      "metadata": {
        "colab": {
          "base_uri": "https://localhost:8080/"
        },
        "id": "ZgwxsBUHuLep",
        "outputId": "b76d2af3-4431-44f5-9430-d0cf802dd235"
      },
      "source": [
        "for i in NAnum:\n",
        "  median_value = (data_copy[i].median())\n",
        "  print(i+' - median val-',median_value)\n",
        "  data_copy[i].fillna(median_value,inplace = True)\n",
        "  # mask = data_copy[i].isnull()\n",
        "  # print(mask)\n",
        "  # data_copy.loc[mask, 'Age' ] = median_value"
      ],
      "execution_count": 19,
      "outputs": [
        {
          "output_type": "stream",
          "text": [
            "Fare - median val- 14.4542\n",
            "Age - median val- 28.0\n"
          ],
          "name": "stdout"
        },
        {
          "output_type": "stream",
          "text": [
            "/usr/local/lib/python3.6/dist-packages/pandas/core/series.py:4535: SettingWithCopyWarning: \n",
            "A value is trying to be set on a copy of a slice from a DataFrame\n",
            "\n",
            "See the caveats in the documentation: https://pandas.pydata.org/pandas-docs/stable/user_guide/indexing.html#returning-a-view-versus-a-copy\n",
            "  downcast=downcast,\n"
          ],
          "name": "stderr"
        }
      ]
    },
    {
      "cell_type": "markdown",
      "metadata": {
        "id": "heUQbfYTzWZE"
      },
      "source": [
        "**Treating categorical columns with missing values**\n",
        "-------------------------------------------------------------"
      ]
    },
    {
      "cell_type": "code",
      "metadata": {
        "colab": {
          "base_uri": "https://localhost:8080/"
        },
        "id": "9sQ_Spm4ukNV",
        "outputId": "dc05124b-1ee7-494c-da2e-d29ca3c06c76"
      },
      "source": [
        "for i in NAcat:\n",
        "  mode_value = (data_copy[i].mode()[0])\n",
        "  print(i+' - mode val-',mode_value)\n",
        "  data_copy[i].fillna(mode_value,inplace = True)"
      ],
      "execution_count": 20,
      "outputs": [
        {
          "output_type": "stream",
          "text": [
            "Embarked - mode val- S\n"
          ],
          "name": "stdout"
        },
        {
          "output_type": "stream",
          "text": [
            "/usr/local/lib/python3.6/dist-packages/pandas/core/series.py:4535: SettingWithCopyWarning: \n",
            "A value is trying to be set on a copy of a slice from a DataFrame\n",
            "\n",
            "See the caveats in the documentation: https://pandas.pydata.org/pandas-docs/stable/user_guide/indexing.html#returning-a-view-versus-a-copy\n",
            "  downcast=downcast,\n"
          ],
          "name": "stderr"
        }
      ]
    },
    {
      "cell_type": "code",
      "metadata": {
        "id": "hZEQmorKv09S"
      },
      "source": [
        "print(data_copy.isnull().sum())"
      ],
      "execution_count": null,
      "outputs": []
    },
    {
      "cell_type": "markdown",
      "metadata": {
        "id": "SIerOfthz255"
      },
      "source": [
        "**6.Feature Engineering:**\n",
        "--------------------------------------------------------------"
      ]
    },
    {
      "cell_type": "code",
      "metadata": {
        "colab": {
          "base_uri": "https://localhost:8080/"
        },
        "id": "Uw-0vdDwv8wG",
        "outputId": "83cdb36a-f2b9-444f-d939-6c9fa7687061"
      },
      "source": [
        "print(data_copy.Age)\n",
        "print(data_copy.Age.max())\n",
        "print(data_copy.Age.min())"
      ],
      "execution_count": 22,
      "outputs": [
        {
          "output_type": "stream",
          "text": [
            "0       22.0\n",
            "1       38.0\n",
            "2       26.0\n",
            "3       35.0\n",
            "4       35.0\n",
            "        ... \n",
            "1304    28.0\n",
            "1305    39.0\n",
            "1306    38.5\n",
            "1307    28.0\n",
            "1308    28.0\n",
            "Name: Age, Length: 1309, dtype: float64\n",
            "80.0\n",
            "0.17\n"
          ],
          "name": "stdout"
        }
      ]
    },
    {
      "cell_type": "code",
      "metadata": {
        "colab": {
          "base_uri": "https://localhost:8080/"
        },
        "id": "awX1MzlL7gg8",
        "outputId": "2787d9f4-afeb-4aa1-9a65-4c89b9bc1237"
      },
      "source": [
        "data_copy.Ticket.value_counts()\n",
        "\n",
        "# ticket can be dropped ,\n",
        "\n",
        "data_copy.drop('Ticket',axis = 1,inplace =True)\n",
        "data_update = pd.get_dummies(data_copy)\n",
        "print(f\"the shape of the original dataset {data_copy.shape}\")\n",
        "print(f\"the shape of the encoded dataset {data_update.shape}\")\n",
        "print(f\"We have {data_update.shape[1]- data_copy.shape[1]} new encoded features\")"
      ],
      "execution_count": 25,
      "outputs": [
        {
          "output_type": "stream",
          "text": [
            "the shape of the original dataset (1309, 7)\n",
            "the shape of the encoded dataset (1309, 10)\n",
            "We have 3 new encoded features\n"
          ],
          "name": "stdout"
        },
        {
          "output_type": "stream",
          "text": [
            "/usr/local/lib/python3.6/dist-packages/pandas/core/frame.py:4174: SettingWithCopyWarning: \n",
            "A value is trying to be set on a copy of a slice from a DataFrame\n",
            "\n",
            "See the caveats in the documentation: https://pandas.pydata.org/pandas-docs/stable/user_guide/indexing.html#returning-a-view-versus-a-copy\n",
            "  errors=errors,\n"
          ],
          "name": "stderr"
        }
      ]
    },
    {
      "cell_type": "code",
      "metadata": {
        "colab": {
          "base_uri": "https://localhost:8080/"
        },
        "id": "SwuUAZ13BPg7",
        "outputId": "b3e74d32-e1c7-4064-e6bb-50816e03c140"
      },
      "source": [
        "data_update.columns"
      ],
      "execution_count": 26,
      "outputs": [
        {
          "output_type": "execute_result",
          "data": {
            "text/plain": [
              "Index(['Pclass', 'Age', 'SibSp', 'Parch', 'Fare', 'Sex_female', 'Sex_male',\n",
              "       'Embarked_C', 'Embarked_Q', 'Embarked_S'],\n",
              "      dtype='object')"
            ]
          },
          "metadata": {
            "tags": []
          },
          "execution_count": 26
        }
      ]
    },
    {
      "cell_type": "code",
      "metadata": {
        "colab": {
          "base_uri": "https://localhost:8080/"
        },
        "id": "pRzfcJNnBUiZ",
        "outputId": "dcc78437-1d0b-445c-c031-31ce5a03081e"
      },
      "source": [
        "# splitting train test\n",
        "Train = data_update[:na]\n",
        "Test = data_update[na:]\n",
        "\n",
        "print(data_update.shape)\n",
        "print(Train.shape)\n",
        "print(Test.shape)"
      ],
      "execution_count": 28,
      "outputs": [
        {
          "output_type": "stream",
          "text": [
            "(1309, 10)\n",
            "(891, 10)\n",
            "(418, 10)\n"
          ],
          "name": "stdout"
        }
      ]
    },
    {
      "cell_type": "code",
      "metadata": {
        "colab": {
          "base_uri": "https://localhost:8080/"
        },
        "id": "aQEpaGVzV9hl",
        "outputId": "0614641b-e04a-4d1b-bd4f-b76339841d16"
      },
      "source": [
        "# outlier treatment\n",
        "from sklearn.neighbors import LocalOutlierFactor\n",
        "from sklearn.model_selection import train_test_split\n",
        "data1 = Train.values\n",
        "X,y = data1[: , :],train['Survived']\n",
        "print(X.shape, y.shape)\n",
        "# split into train and test sets\n",
        "X_train, X_test, y_train, y_test = train_test_split(X, y, test_size=0.2, random_state=1)\n",
        "# summarize the shape of the training dataset\n",
        "print(X_train.shape, y_train.shape)\n",
        "# identify outliers in the training dataset\n",
        "lof = LocalOutlierFactor()\n",
        "yhat = lof.fit_predict(X_train)\n",
        "# select all rows that are not outliers\n",
        "mask = yhat != -1\n",
        "X_train, y_train = X_train[mask, :], y_train[mask]\n",
        "# summarize the shape of the updated training dataset\n",
        "print(X_train.shape, y_train.shape)"
      ],
      "execution_count": 29,
      "outputs": [
        {
          "output_type": "stream",
          "text": [
            "(891, 10) (891,)\n",
            "(712, 10) (712,)\n",
            "(642, 10) (642,)\n"
          ],
          "name": "stdout"
        }
      ]
    },
    {
      "cell_type": "markdown",
      "metadata": {
        "id": "D_qJ929DcDo5"
      },
      "source": [
        "# **8. Towards Machine Learning modelling:**\n",
        "# -----------------------------------------------------------------"
      ]
    },
    {
      "cell_type": "code",
      "metadata": {
        "id": "RWSpbiCoWl72"
      },
      "source": [
        "\n",
        "# we will import robust scaler as its is powerfulagainst outliers\n",
        "from sklearn.preprocessing import RobustScaler\n",
        "scaler= RobustScaler()"
      ],
      "execution_count": 32,
      "outputs": []
    },
    {
      "cell_type": "code",
      "metadata": {
        "id": "AgJ4d-AwW_ck"
      },
      "source": [
        "x_train = scaler.fit_transform(X_train)\n",
        "x_test = scaler.transform(Test)"
      ],
      "execution_count": 33,
      "outputs": []
    },
    {
      "cell_type": "code",
      "metadata": {
        "colab": {
          "base_uri": "https://localhost:8080/"
        },
        "id": "aOLKvEGoXF_j",
        "outputId": "441dd7b0-3ea7-419a-b99a-b4f75ab1c004"
      },
      "source": [
        "from sklearn.linear_model import LinearRegression\n",
        "from sklearn.tree import DecisionTreeRegressor\n",
        "from sklearn import model_selection\n",
        "from numpy import abs\n",
        "# from sklearn.metrics import mean_squared_error,mean_absolute_error\n",
        "# from sklearn.ensemble import RandomForestRegressor\n",
        "from sklearn.linear_model import LogisticRegression\n",
        "from sklearn.svm import SVC, LinearSVC\n",
        "from sklearn.ensemble import RandomForestClassifier\n",
        "from sklearn.neighbors import KNeighborsClassifier\n",
        "from sklearn.naive_bayes import GaussianNB\n",
        "from sklearn.linear_model import Perceptron\n",
        "from sklearn.linear_model import SGDClassifier\n",
        "from sklearn.tree import DecisionTreeClassifier\n",
        "\n",
        "models = []\n",
        "names = []\n",
        "\n",
        "models.append(('Logistic Regression',LogisticRegression()))\n",
        "models.append(('Linear svc',LinearSVC()))\n",
        "models.append(('Random forest classifier',RandomForestClassifier()))\n",
        "models.append(('knn ',KNeighborsClassifier()))\n",
        "models.append(('Guassian NB ',GaussianNB()))\n",
        "models.append(('Decision TreeClassifier',DecisionTreeClassifier()))\n",
        "# models.append(('Decision Tree',RandomForestClassifier()))\n",
        "# # models.append(('Random Forest',RandomForestRegressor()))\n",
        "\n",
        "for name,model in models:\n",
        "  cv_score = model_selection.cross_val_score(model,x_train,y_train,cv = 20,scoring='accuracy')\n",
        "  cv_score = np.sqrt(np.abs(cv_score))\n",
        "\n",
        "  \n",
        "  print(\"name:--->>\",name)\n",
        "  print(\"----------------------------------\")\n",
        "  print(\"CV mean Score :{0},CV min:{1},CV std :{2}\".format(np.mean(cv_score),np.min(cv_score),np.std(cv_score)))\n",
        "  print(\"----------------------------------\")"
      ],
      "execution_count": 36,
      "outputs": [
        {
          "output_type": "stream",
          "text": [
            "name:--->> Logistic Regression\n",
            "----------------------------------\n",
            "CV mean Score :0.8890519823166437,CV min:0.816496580927726,CV std :0.03113114993734944\n",
            "----------------------------------\n"
          ],
          "name": "stdout"
        },
        {
          "output_type": "stream",
          "text": [
            "/usr/local/lib/python3.6/dist-packages/sklearn/svm/_base.py:947: ConvergenceWarning: Liblinear failed to converge, increase the number of iterations.\n",
            "  \"the number of iterations.\", ConvergenceWarning)\n",
            "/usr/local/lib/python3.6/dist-packages/sklearn/svm/_base.py:947: ConvergenceWarning: Liblinear failed to converge, increase the number of iterations.\n",
            "  \"the number of iterations.\", ConvergenceWarning)\n",
            "/usr/local/lib/python3.6/dist-packages/sklearn/svm/_base.py:947: ConvergenceWarning: Liblinear failed to converge, increase the number of iterations.\n",
            "  \"the number of iterations.\", ConvergenceWarning)\n",
            "/usr/local/lib/python3.6/dist-packages/sklearn/svm/_base.py:947: ConvergenceWarning: Liblinear failed to converge, increase the number of iterations.\n",
            "  \"the number of iterations.\", ConvergenceWarning)\n",
            "/usr/local/lib/python3.6/dist-packages/sklearn/svm/_base.py:947: ConvergenceWarning: Liblinear failed to converge, increase the number of iterations.\n",
            "  \"the number of iterations.\", ConvergenceWarning)\n",
            "/usr/local/lib/python3.6/dist-packages/sklearn/svm/_base.py:947: ConvergenceWarning: Liblinear failed to converge, increase the number of iterations.\n",
            "  \"the number of iterations.\", ConvergenceWarning)\n",
            "/usr/local/lib/python3.6/dist-packages/sklearn/svm/_base.py:947: ConvergenceWarning: Liblinear failed to converge, increase the number of iterations.\n",
            "  \"the number of iterations.\", ConvergenceWarning)\n",
            "/usr/local/lib/python3.6/dist-packages/sklearn/svm/_base.py:947: ConvergenceWarning: Liblinear failed to converge, increase the number of iterations.\n",
            "  \"the number of iterations.\", ConvergenceWarning)\n",
            "/usr/local/lib/python3.6/dist-packages/sklearn/svm/_base.py:947: ConvergenceWarning: Liblinear failed to converge, increase the number of iterations.\n",
            "  \"the number of iterations.\", ConvergenceWarning)\n",
            "/usr/local/lib/python3.6/dist-packages/sklearn/svm/_base.py:947: ConvergenceWarning: Liblinear failed to converge, increase the number of iterations.\n",
            "  \"the number of iterations.\", ConvergenceWarning)\n",
            "/usr/local/lib/python3.6/dist-packages/sklearn/svm/_base.py:947: ConvergenceWarning: Liblinear failed to converge, increase the number of iterations.\n",
            "  \"the number of iterations.\", ConvergenceWarning)\n",
            "/usr/local/lib/python3.6/dist-packages/sklearn/svm/_base.py:947: ConvergenceWarning: Liblinear failed to converge, increase the number of iterations.\n",
            "  \"the number of iterations.\", ConvergenceWarning)\n",
            "/usr/local/lib/python3.6/dist-packages/sklearn/svm/_base.py:947: ConvergenceWarning: Liblinear failed to converge, increase the number of iterations.\n",
            "  \"the number of iterations.\", ConvergenceWarning)\n",
            "/usr/local/lib/python3.6/dist-packages/sklearn/svm/_base.py:947: ConvergenceWarning: Liblinear failed to converge, increase the number of iterations.\n",
            "  \"the number of iterations.\", ConvergenceWarning)\n",
            "/usr/local/lib/python3.6/dist-packages/sklearn/svm/_base.py:947: ConvergenceWarning: Liblinear failed to converge, increase the number of iterations.\n",
            "  \"the number of iterations.\", ConvergenceWarning)\n",
            "/usr/local/lib/python3.6/dist-packages/sklearn/svm/_base.py:947: ConvergenceWarning: Liblinear failed to converge, increase the number of iterations.\n",
            "  \"the number of iterations.\", ConvergenceWarning)\n",
            "/usr/local/lib/python3.6/dist-packages/sklearn/svm/_base.py:947: ConvergenceWarning: Liblinear failed to converge, increase the number of iterations.\n",
            "  \"the number of iterations.\", ConvergenceWarning)\n",
            "/usr/local/lib/python3.6/dist-packages/sklearn/svm/_base.py:947: ConvergenceWarning: Liblinear failed to converge, increase the number of iterations.\n",
            "  \"the number of iterations.\", ConvergenceWarning)\n",
            "/usr/local/lib/python3.6/dist-packages/sklearn/svm/_base.py:947: ConvergenceWarning: Liblinear failed to converge, increase the number of iterations.\n",
            "  \"the number of iterations.\", ConvergenceWarning)\n",
            "/usr/local/lib/python3.6/dist-packages/sklearn/svm/_base.py:947: ConvergenceWarning: Liblinear failed to converge, increase the number of iterations.\n",
            "  \"the number of iterations.\", ConvergenceWarning)\n"
          ],
          "name": "stderr"
        },
        {
          "output_type": "stream",
          "text": [
            "name:--->> Linear svc\n",
            "----------------------------------\n",
            "CV mean Score :0.8898111954279473,CV min:0.778498944161523,CV std :0.035718471668872535\n",
            "----------------------------------\n",
            "name:--->> Random forest classifier\n",
            "----------------------------------\n",
            "CV mean Score :0.9079840819680403,CV min:0.8477912478906585,CV std :0.037011229850946806\n",
            "----------------------------------\n",
            "name:--->> knn \n",
            "----------------------------------\n",
            "CV mean Score :0.8904883469400222,CV min:0.7977240352174656,CV std :0.039218359496573464\n",
            "----------------------------------\n",
            "name:--->> Guassian NB \n",
            "----------------------------------\n",
            "CV mean Score :0.8939780082250254,CV min:0.7977240352174656,CV std :0.03950818355217223\n",
            "----------------------------------\n",
            "name:--->> Decision TreeClassifier\n",
            "----------------------------------\n",
            "CV mean Score :0.8909409358514274,CV min:0.82915619758885,CV std :0.02616249408810707\n",
            "----------------------------------\n"
          ],
          "name": "stdout"
        }
      ]
    },
    {
      "cell_type": "code",
      "metadata": {
        "colab": {
          "base_uri": "https://localhost:8080/"
        },
        "id": "PypiAmcvYkhk",
        "outputId": "c67feb63-0b2e-4d30-b92a-f42c55143717"
      },
      "source": [
        "# Selecting a model\n",
        "# ------------------------------------------------------------------------\n",
        "\n",
        "random_forest = RandomForestClassifier(n_estimators=100)\n",
        "random_forest.fit(x_train, y_train)\n",
        "Y_pred = random_forest.predict(x_test)\n",
        "random_forest.score(x_train, y_train)\n",
        "acc_random_forest = round(random_forest.score(x_train, y_train) * 100, 2)\n",
        "acc_random_forest"
      ],
      "execution_count": 39,
      "outputs": [
        {
          "output_type": "execute_result",
          "data": {
            "text/plain": [
              "98.6"
            ]
          },
          "metadata": {
            "tags": []
          },
          "execution_count": 39
        }
      ]
    },
    {
      "cell_type": "code",
      "metadata": {
        "id": "89-XFPlKZlSw"
      },
      "source": [
        "# submission\n",
        "submission = pd.DataFrame({\n",
        "        \"PassengerId\": test[\"PassengerId\"],\n",
        "        \"Survived\": Y_pred\n",
        "    })"
      ],
      "execution_count": 41,
      "outputs": []
    },
    {
      "cell_type": "code",
      "metadata": {
        "id": "FEbIf3p0bCkh"
      },
      "source": [
        "submission.to_csv('C://Users//Shila Kumari//Desktop//GITHUB//datasets//titanic//submission.csv', index=False)"
      ],
      "execution_count": 46,
      "outputs": []
    },
    {
      "cell_type": "code",
      "metadata": {
        "colab": {
          "base_uri": "https://localhost:8080/"
        },
        "id": "OlO0tOk5bHNx",
        "outputId": "8faa81ec-f778-43b4-f911-c408637f0ae0"
      },
      "source": [
        "!pip install fsspec"
      ],
      "execution_count": 45,
      "outputs": [
        {
          "output_type": "stream",
          "text": [
            "Collecting fsspec\n",
            "\u001b[?25l  Downloading https://files.pythonhosted.org/packages/a5/8b/1df260f860f17cb08698170153ef7db672c497c1840dcc8613ce26a8a005/fsspec-0.8.4-py3-none-any.whl (91kB)\n",
            "\r\u001b[K     |███▋                            | 10kB 16.6MB/s eta 0:00:01\r\u001b[K     |███████▏                        | 20kB 12.9MB/s eta 0:00:01\r\u001b[K     |██████████▉                     | 30kB 9.5MB/s eta 0:00:01\r\u001b[K     |██████████████▍                 | 40kB 7.8MB/s eta 0:00:01\r\u001b[K     |██████████████████              | 51kB 5.4MB/s eta 0:00:01\r\u001b[K     |█████████████████████▋          | 61kB 5.2MB/s eta 0:00:01\r\u001b[K     |█████████████████████████▏      | 71kB 5.7MB/s eta 0:00:01\r\u001b[K     |████████████████████████████▊   | 81kB 6.2MB/s eta 0:00:01\r\u001b[K     |████████████████████████████████| 92kB 4.0MB/s \n",
            "\u001b[?25hInstalling collected packages: fsspec\n",
            "Successfully installed fsspec-0.8.4\n"
          ],
          "name": "stdout"
        }
      ]
    },
    {
      "cell_type": "code",
      "metadata": {
        "id": "uuSAdwStbjak"
      },
      "source": [
        ""
      ],
      "execution_count": null,
      "outputs": []
    }
  ]
}