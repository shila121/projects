{
  "nbformat": 4,
  "nbformat_minor": 0,
  "metadata": {
    "colab": {
      "name": "a_ensembleLearning_stacking.ipynb",
      "provenance": [],
      "collapsed_sections": [],
      "authorship_tag": "ABX9TyOAT7K4V+vxljuC9uBEBbav",
      "include_colab_link": true
    },
    "kernelspec": {
      "name": "python3",
      "display_name": "Python 3"
    },
    "language_info": {
      "name": "python"
    }
  },
  "cells": [
    {
      "cell_type": "markdown",
      "metadata": {
        "id": "view-in-github",
        "colab_type": "text"
      },
      "source": [
        "<a href=\"https://colab.research.google.com/github/shila121/projects/blob/main/a_ensembleLearning_stacking.ipynb\" target=\"_parent\"><img src=\"https://colab.research.google.com/assets/colab-badge.svg\" alt=\"Open In Colab\"/></a>"
      ]
    },
    {
      "cell_type": "code",
      "metadata": {
        "id": "X-4NSAqJbNli"
      },
      "source": [
        "# importing libraries\n",
        "import pandas as pd\n",
        "import numpy as np\n",
        "import matplotlib.pyplot as plt\n",
        "%matplotlib inline"
      ],
      "execution_count": 1,
      "outputs": []
    },
    {
      "cell_type": "code",
      "metadata": {
        "colab": {
          "base_uri": "https://localhost:8080/"
        },
        "id": "WKRlGbjVb502",
        "outputId": "e992893a-8cd8-4a25-b228-6fa19f105461"
      },
      "source": [
        "# loading the data\n",
        "data = pd.read_csv('data_cleaned.csv')\n",
        "\n",
        "print(data.shape)\n",
        "\n",
        "# visualise the data\n",
        "print(data.head())"
      ],
      "execution_count": 2,
      "outputs": [
        {
          "output_type": "stream",
          "text": [
            "(891, 25)\n",
            "   Survived   Age     Fare  ...  Embarked_C  Embarked_Q  Embarked_S\n",
            "0         0  22.0   7.2500  ...           0           0           1\n",
            "1         1  38.0  71.2833  ...           1           0           0\n",
            "2         1  26.0   7.9250  ...           0           0           1\n",
            "3         1  35.0  53.1000  ...           0           0           1\n",
            "4         0  35.0   8.0500  ...           0           0           1\n",
            "\n",
            "[5 rows x 25 columns]\n"
          ],
          "name": "stdout"
        }
      ]
    },
    {
      "cell_type": "code",
      "metadata": {
        "colab": {
          "base_uri": "https://localhost:8080/"
        },
        "id": "4rS12KrIb8Vo",
        "outputId": "926ba2d7-adc6-4f87-ab0d-f975e485bf86"
      },
      "source": [
        "# check if missing values are  present in the data\n",
        "print(data.isnull().sum())"
      ],
      "execution_count": 3,
      "outputs": [
        {
          "output_type": "stream",
          "text": [
            "Survived      0\n",
            "Age           0\n",
            "Fare          0\n",
            "Pclass_1      0\n",
            "Pclass_2      0\n",
            "Pclass_3      0\n",
            "Sex_female    0\n",
            "Sex_male      0\n",
            "SibSp_0       0\n",
            "SibSp_1       0\n",
            "SibSp_2       0\n",
            "SibSp_3       0\n",
            "SibSp_4       0\n",
            "SibSp_5       0\n",
            "SibSp_8       0\n",
            "Parch_0       0\n",
            "Parch_1       0\n",
            "Parch_2       0\n",
            "Parch_3       0\n",
            "Parch_4       0\n",
            "Parch_5       0\n",
            "Parch_6       0\n",
            "Embarked_C    0\n",
            "Embarked_Q    0\n",
            "Embarked_S    0\n",
            "dtype: int64\n"
          ],
          "name": "stdout"
        }
      ]
    },
    {
      "cell_type": "code",
      "metadata": {
        "id": "RKlSc5IEcJcO"
      },
      "source": [
        "# separarting independent and dependent variable\n",
        "y = data['Survived']\n",
        "X = data.drop(['Survived'],axis = 1)"
      ],
      "execution_count": 4,
      "outputs": []
    },
    {
      "cell_type": "code",
      "metadata": {
        "colab": {
          "base_uri": "https://localhost:8080/"
        },
        "id": "2JTuAyg0cMSP",
        "outputId": "afd49946-4c51-4ae5-ba3e-67dc4ef44b42"
      },
      "source": [
        "# import train_test\n",
        "from sklearn.model_selection import train_test_split\n",
        "train_x,test_x,train_y,test_y = train_test_split(X,y,random_state = 9,stratify=y)\n",
        "print(train_x.shape,test_x.shape,test_y.shape,test_y.shape)"
      ],
      "execution_count": 5,
      "outputs": [
        {
          "output_type": "stream",
          "text": [
            "(668, 24) (223, 24) (223,) (223,)\n"
          ],
          "name": "stdout"
        }
      ]
    },
    {
      "cell_type": "code",
      "metadata": {
        "id": "tBGscPdtcmsJ"
      },
      "source": [
        "# import Base ,odel\n",
        "\n",
        "from sklearn.linear_model import LogisticRegression\n",
        "from sklearn.neighbors import KNeighborsClassifier\n",
        "from sklearn.tree import DecisionTreeClassifier\n"
      ],
      "execution_count": 6,
      "outputs": []
    },
    {
      "cell_type": "code",
      "metadata": {
        "id": "tRXCZ52PdP48"
      },
      "source": [
        "# model traing and prediction\n",
        "\n",
        "def model_prediction(model,train_x,train_y,test_x):\n",
        "  model.fit(train_x,train_y)\n",
        "  pred_train=model.predict(train_x)\n",
        "  pred_test=model.predict(test_x)\n",
        "  return pred_train,pred_test"
      ],
      "execution_count": 7,
      "outputs": []
    },
    {
      "cell_type": "code",
      "metadata": {
        "id": "QEym0jlMdsBa"
      },
      "source": [
        "# model 1 = DecisionTreeClassifier for decision trees ,feature scaling is not important\n",
        "DT = DecisionTreeClassifier(random_state = 101)\n",
        "M1_train,M1_test = model_prediction(DT,train_x,train_y,test_x)\n"
      ],
      "execution_count": 8,
      "outputs": []
    },
    {
      "cell_type": "code",
      "metadata": {
        "id": "kqpoFJuKedtj"
      },
      "source": [
        "# feature scaling for other models\n",
        "from sklearn.preprocessing import StandardScaler\n",
        "\n",
        "scaler = StandardScaler()\n",
        "scaler.fit(X=train_x)\n",
        "\n",
        "train_x = scaler.transform(train_x)\n",
        "test_x = scaler.transform(test_x)"
      ],
      "execution_count": 9,
      "outputs": []
    },
    {
      "cell_type": "code",
      "metadata": {
        "id": "ZrdvTkFDfbxq"
      },
      "source": [
        "# model 2 =  for LogisticRegression  ,feature scaling is important\n",
        "LR = LogisticRegression(random_state = 101)\n",
        "M2_train,M2_test = model_prediction(LR,train_x,train_y,test_x)\n"
      ],
      "execution_count": 11,
      "outputs": []
    },
    {
      "cell_type": "code",
      "metadata": {
        "id": "WlO8KkE5gHQf"
      },
      "source": [
        "# model 3 =  for KNeighborsClassifier  ,feature scaling is important\n",
        "knn = KNeighborsClassifier()\n",
        "M3_train,M3_test = model_prediction(knn,train_x,train_y,test_x)"
      ],
      "execution_count": 13,
      "outputs": []
    },
    {
      "cell_type": "code",
      "metadata": {
        "colab": {
          "base_uri": "https://localhost:8080/",
          "height": 204
        },
        "id": "jEDCC6aqgTD6",
        "outputId": "1987a1cd-42df-40d3-f989-3aef3aee656f"
      },
      "source": [
        "# creating new train dataframe\n",
        "train_prediction = {\n",
        "    'DT':M1_train,\n",
        "    'LR':M2_train,\n",
        "    'knn':M3_train\n",
        "}\n",
        "\n",
        "train_predictions = pd.DataFrame(train_prediction)\n",
        "train_predictions.head()"
      ],
      "execution_count": 14,
      "outputs": [
        {
          "output_type": "execute_result",
          "data": {
            "text/html": [
              "<div>\n",
              "<style scoped>\n",
              "    .dataframe tbody tr th:only-of-type {\n",
              "        vertical-align: middle;\n",
              "    }\n",
              "\n",
              "    .dataframe tbody tr th {\n",
              "        vertical-align: top;\n",
              "    }\n",
              "\n",
              "    .dataframe thead th {\n",
              "        text-align: right;\n",
              "    }\n",
              "</style>\n",
              "<table border=\"1\" class=\"dataframe\">\n",
              "  <thead>\n",
              "    <tr style=\"text-align: right;\">\n",
              "      <th></th>\n",
              "      <th>DT</th>\n",
              "      <th>LR</th>\n",
              "      <th>knn</th>\n",
              "    </tr>\n",
              "  </thead>\n",
              "  <tbody>\n",
              "    <tr>\n",
              "      <th>0</th>\n",
              "      <td>1</td>\n",
              "      <td>1</td>\n",
              "      <td>0</td>\n",
              "    </tr>\n",
              "    <tr>\n",
              "      <th>1</th>\n",
              "      <td>1</td>\n",
              "      <td>1</td>\n",
              "      <td>1</td>\n",
              "    </tr>\n",
              "    <tr>\n",
              "      <th>2</th>\n",
              "      <td>1</td>\n",
              "      <td>1</td>\n",
              "      <td>0</td>\n",
              "    </tr>\n",
              "    <tr>\n",
              "      <th>3</th>\n",
              "      <td>0</td>\n",
              "      <td>1</td>\n",
              "      <td>1</td>\n",
              "    </tr>\n",
              "    <tr>\n",
              "      <th>4</th>\n",
              "      <td>0</td>\n",
              "      <td>0</td>\n",
              "      <td>0</td>\n",
              "    </tr>\n",
              "  </tbody>\n",
              "</table>\n",
              "</div>"
            ],
            "text/plain": [
              "   DT  LR  knn\n",
              "0   1   1    0\n",
              "1   1   1    1\n",
              "2   1   1    0\n",
              "3   0   1    1\n",
              "4   0   0    0"
            ]
          },
          "metadata": {
            "tags": []
          },
          "execution_count": 14
        }
      ]
    },
    {
      "cell_type": "code",
      "metadata": {
        "colab": {
          "base_uri": "https://localhost:8080/",
          "height": 204
        },
        "id": "Ws_YNEVBhPok",
        "outputId": "9f066b26-bea4-41ca-cc2b-b62e4d8dac87"
      },
      "source": [
        "# creating new test dataframe\n",
        "test_prediction = {\n",
        "    'DT':M1_test,\n",
        "    'LR':M2_test,\n",
        "    'knn':M3_test\n",
        "}\n",
        "\n",
        "test_predictions = pd.DataFrame(test_prediction)\n",
        "test_predictions.head()"
      ],
      "execution_count": 15,
      "outputs": [
        {
          "output_type": "execute_result",
          "data": {
            "text/html": [
              "<div>\n",
              "<style scoped>\n",
              "    .dataframe tbody tr th:only-of-type {\n",
              "        vertical-align: middle;\n",
              "    }\n",
              "\n",
              "    .dataframe tbody tr th {\n",
              "        vertical-align: top;\n",
              "    }\n",
              "\n",
              "    .dataframe thead th {\n",
              "        text-align: right;\n",
              "    }\n",
              "</style>\n",
              "<table border=\"1\" class=\"dataframe\">\n",
              "  <thead>\n",
              "    <tr style=\"text-align: right;\">\n",
              "      <th></th>\n",
              "      <th>DT</th>\n",
              "      <th>LR</th>\n",
              "      <th>knn</th>\n",
              "    </tr>\n",
              "  </thead>\n",
              "  <tbody>\n",
              "    <tr>\n",
              "      <th>0</th>\n",
              "      <td>0</td>\n",
              "      <td>0</td>\n",
              "      <td>0</td>\n",
              "    </tr>\n",
              "    <tr>\n",
              "      <th>1</th>\n",
              "      <td>1</td>\n",
              "      <td>1</td>\n",
              "      <td>1</td>\n",
              "    </tr>\n",
              "    <tr>\n",
              "      <th>2</th>\n",
              "      <td>0</td>\n",
              "      <td>0</td>\n",
              "      <td>0</td>\n",
              "    </tr>\n",
              "    <tr>\n",
              "      <th>3</th>\n",
              "      <td>1</td>\n",
              "      <td>0</td>\n",
              "      <td>0</td>\n",
              "    </tr>\n",
              "    <tr>\n",
              "      <th>4</th>\n",
              "      <td>0</td>\n",
              "      <td>0</td>\n",
              "      <td>0</td>\n",
              "    </tr>\n",
              "  </tbody>\n",
              "</table>\n",
              "</div>"
            ],
            "text/plain": [
              "   DT  LR  knn\n",
              "0   0   0    0\n",
              "1   1   1    1\n",
              "2   0   0    0\n",
              "3   1   0    0\n",
              "4   0   0    0"
            ]
          },
          "metadata": {
            "tags": []
          },
          "execution_count": 15
        }
      ]
    },
    {
      "cell_type": "code",
      "metadata": {
        "colab": {
          "base_uri": "https://localhost:8080/"
        },
        "id": "7TVInKVWhl1D",
        "outputId": "b76685ce-6bad-4684-98cb-db607f5b0004"
      },
      "source": [
        "# Stacker model\n",
        "model = LogisticRegression()\n",
        "model.fit(train_predictions,train_y)\n",
        "model.score(test_predictions,test_y)"
      ],
      "execution_count": 16,
      "outputs": [
        {
          "output_type": "execute_result",
          "data": {
            "text/plain": [
              "0.726457399103139"
            ]
          },
          "metadata": {
            "tags": []
          },
          "execution_count": 16
        }
      ]
    },
    {
      "cell_type": "code",
      "metadata": {
        "id": "jMequU4Fia2K"
      },
      "source": [
        ""
      ],
      "execution_count": null,
      "outputs": []
    }
  ]
}