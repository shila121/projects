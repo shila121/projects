{
  "nbformat": 4,
  "nbformat_minor": 0,
  "metadata": {
    "colab": {
      "name": "a_knn_regression.ipynb",
      "provenance": [],
      "authorship_tag": "ABX9TyNqybWL81X8WjxpCVKsQcdd",
      "include_colab_link": true
    },
    "kernelspec": {
      "name": "python3",
      "display_name": "Python 3"
    },
    "language_info": {
      "name": "python"
    }
  },
  "cells": [
    {
      "cell_type": "markdown",
      "metadata": {
        "id": "view-in-github",
        "colab_type": "text"
      },
      "source": [
        "<a href=\"https://colab.research.google.com/github/shila121/projects/blob/main/a_knn_regression.ipynb\" target=\"_parent\"><img src=\"https://colab.research.google.com/assets/colab-badge.svg\" alt=\"Open In Colab\"/></a>"
      ]
    },
    {
      "cell_type": "code",
      "metadata": {
        "id": "FmpDPDCOPliI"
      },
      "source": [
        "# importing the libraries\n",
        "import pandas as pd\n",
        "import numpy as np\n",
        "import matplotlib.pyplot as plt\n",
        "%matplotlib inline\n",
        "\n",
        "import warnings\n",
        "warnings.filterwarnings('ignore')"
      ],
      "execution_count": 1,
      "outputs": []
    },
    {
      "cell_type": "code",
      "metadata": {
        "colab": {
          "base_uri": "https://localhost:8080/"
        },
        "id": "okTkz6A5QAmI",
        "outputId": "01de49f3-725f-436a-8dcf-d5481998cf9b"
      },
      "source": [
        "# import the data\n",
        "data = pd.read_csv('train_cleaned.csv')\n",
        "print(data.shape)"
      ],
      "execution_count": 2,
      "outputs": [
        {
          "output_type": "stream",
          "text": [
            "(8523, 46)\n"
          ],
          "name": "stdout"
        }
      ]
    },
    {
      "cell_type": "code",
      "metadata": {
        "colab": {
          "base_uri": "https://localhost:8080/"
        },
        "id": "VhSvEtWfQLPz",
        "outputId": "dbd8b771-f32d-4aa7-cd6c-dc23eb8c971a"
      },
      "source": [
        "print(data.head())\n",
        "print(data.columns)"
      ],
      "execution_count": 4,
      "outputs": [
        {
          "output_type": "stream",
          "text": [
            "   Item_Weight  ...  Outlet_Type_Supermarket Type3\n",
            "0         9.30  ...                              0\n",
            "1         5.92  ...                              0\n",
            "2        17.50  ...                              0\n",
            "3        19.20  ...                              0\n",
            "4         8.93  ...                              0\n",
            "\n",
            "[5 rows x 46 columns]\n",
            "Index(['Item_Weight', 'Item_Visibility', 'Item_MRP',\n",
            "       'Outlet_Establishment_Year', 'Item_Outlet_Sales', 'Item_Fat_Content_LF',\n",
            "       'Item_Fat_Content_Low Fat', 'Item_Fat_Content_Regular',\n",
            "       'Item_Fat_Content_low fat', 'Item_Fat_Content_reg',\n",
            "       'Item_Type_Baking Goods', 'Item_Type_Breads', 'Item_Type_Breakfast',\n",
            "       'Item_Type_Canned', 'Item_Type_Dairy', 'Item_Type_Frozen Foods',\n",
            "       'Item_Type_Fruits and Vegetables', 'Item_Type_Hard Drinks',\n",
            "       'Item_Type_Health and Hygiene', 'Item_Type_Household', 'Item_Type_Meat',\n",
            "       'Item_Type_Others', 'Item_Type_Seafood', 'Item_Type_Snack Foods',\n",
            "       'Item_Type_Soft Drinks', 'Item_Type_Starchy Foods',\n",
            "       'Outlet_Identifier_OUT010', 'Outlet_Identifier_OUT013',\n",
            "       'Outlet_Identifier_OUT017', 'Outlet_Identifier_OUT018',\n",
            "       'Outlet_Identifier_OUT019', 'Outlet_Identifier_OUT027',\n",
            "       'Outlet_Identifier_OUT035', 'Outlet_Identifier_OUT045',\n",
            "       'Outlet_Identifier_OUT046', 'Outlet_Identifier_OUT049',\n",
            "       'Outlet_Size_High', 'Outlet_Size_Medium', 'Outlet_Size_Small',\n",
            "       'Outlet_Location_Type_Tier 1', 'Outlet_Location_Type_Tier 2',\n",
            "       'Outlet_Location_Type_Tier 3', 'Outlet_Type_Grocery Store',\n",
            "       'Outlet_Type_Supermarket Type1', 'Outlet_Type_Supermarket Type2',\n",
            "       'Outlet_Type_Supermarket Type3'],\n",
            "      dtype='object')\n"
          ],
          "name": "stdout"
        }
      ]
    },
    {
      "cell_type": "code",
      "metadata": {
        "colab": {
          "base_uri": "https://localhost:8080/"
        },
        "id": "n0o3_nX4QNoZ",
        "outputId": "875371d3-a730-4490-a43e-cad123c9ca3f"
      },
      "source": [
        "# segregating dependent and independent variable\n",
        "\n",
        "x = data.drop(['Item_Outlet_Sales'],axis = 1)\n",
        "y = data['Item_Outlet_Sales']\n",
        "print(x.shape,y.shape)"
      ],
      "execution_count": 5,
      "outputs": [
        {
          "output_type": "stream",
          "text": [
            "(8523, 45) (8523,)\n"
          ],
          "name": "stdout"
        }
      ]
    },
    {
      "cell_type": "code",
      "metadata": {
        "id": "Mr5qbGMMQwif"
      },
      "source": [
        "# scaling the dataset\n",
        "from sklearn.preprocessing import MinMaxScaler\n",
        "scaler = MinMaxScaler()\n",
        "x_scaled = scaler.fit_transform(x)"
      ],
      "execution_count": 6,
      "outputs": []
    },
    {
      "cell_type": "code",
      "metadata": {
        "id": "RuS_oAlcRHCY"
      },
      "source": [
        "x = pd.DataFrame(x_scaled)"
      ],
      "execution_count": 7,
      "outputs": []
    },
    {
      "cell_type": "code",
      "metadata": {
        "id": "2VfJF5irRSQC"
      },
      "source": [
        "# split train and test\n",
        "from sklearn.model_selection import train_test_split\n",
        "train_x,test_x,train_y,test_y = train_test_split(x,y,random_state = 56)"
      ],
      "execution_count": 8,
      "outputs": []
    },
    {
      "cell_type": "code",
      "metadata": {
        "id": "WnHiaPc3RsZ_"
      },
      "source": [
        "# importing regressor\n",
        "from sklearn.neighbors import KNeighborsRegressor as KNN\n",
        "from sklearn.metrics import mean_squared_error as mse\n",
        "\n"
      ],
      "execution_count": 9,
      "outputs": []
    },
    {
      "cell_type": "code",
      "metadata": {
        "colab": {
          "base_uri": "https://localhost:8080/"
        },
        "id": "xlwueiOWSAOD",
        "outputId": "779664a0-a6c6-4fb1-e24f-157a1126d1d4"
      },
      "source": [
        "reg = KNN(n_neighbors=10)\n",
        "reg.fit(train_x,train_y)\n",
        "test_predict = reg.predict(test_x)\n",
        "k = mse(test_predict,test_y)\n",
        "print('Test MSE ',k)"
      ],
      "execution_count": 11,
      "outputs": [
        {
          "output_type": "stream",
          "text": [
            "Test MSE  1622446.6633706575\n"
          ],
          "name": "stdout"
        }
      ]
    },
    {
      "cell_type": "code",
      "metadata": {
        "id": "FY21fv6ySXXG"
      },
      "source": [
        "# elbow curve\n",
        "\n",
        "def elbow(k):\n",
        "  test_mse = []\n",
        "  for i in k:\n",
        "    reg = KNN(n_neighbors=i)\n",
        "    reg.fit(train_x,train_y)\n",
        "    tmp = reg.predict(test_x)\n",
        "    tmp = mse(tmp,test_y)\n",
        "    test_mse.append(tmp)\n",
        "  return test_mse"
      ],
      "execution_count": 12,
      "outputs": []
    },
    {
      "cell_type": "code",
      "metadata": {
        "id": "IinIY-s-TPPo"
      },
      "source": [
        "k = range(1,40)\n"
      ],
      "execution_count": 13,
      "outputs": []
    },
    {
      "cell_type": "code",
      "metadata": {
        "id": "jFs_asbETUAX"
      },
      "source": [
        "test = elbow(k)"
      ],
      "execution_count": 14,
      "outputs": []
    },
    {
      "cell_type": "code",
      "metadata": {
        "colab": {
          "base_uri": "https://localhost:8080/",
          "height": 312
        },
        "id": "GEIKJzflTXRY",
        "outputId": "bae516f6-d083-4bf1-808b-3cb906880e08"
      },
      "source": [
        "# plot the cureve\n",
        "plt.plot(k,test)\n",
        "plt.xlabel('k - neighbors')\n",
        "plt.ylabel('test error')\n",
        "plt.title('elbow curve for test')"
      ],
      "execution_count": 15,
      "outputs": [
        {
          "output_type": "execute_result",
          "data": {
            "text/plain": [
              "Text(0.5, 1.0, 'elbow curve for test')"
            ]
          },
          "metadata": {
            "tags": []
          },
          "execution_count": 15
        },
        {
          "output_type": "display_data",
          "data": {
            "image/png": "[encoded data removed]",
            "text/plain": [
              "<Figure size 432x288 with 1 Axes>"
            ]
          },
          "metadata": {
            "tags": [],
            "needs_background": "light"
          }
        }
      ]
    },
    {
      "cell_type": "code",
      "metadata": {
        "id": "E-nyDemTTri6"
      },
      "source": [
        "# n_neighors = 9 is taken"
      ],
      "execution_count": 16,
      "outputs": []
    },
    {
      "cell_type": "code",
      "metadata": {
        "colab": {
          "base_uri": "https://localhost:8080/"
        },
        "id": "xfMeBJskT1h_",
        "outputId": "6e76e753-a957-4c0f-f9a6-2a6010eaba98"
      },
      "source": [
        "reg = KNN(n_neighbors=9)\n",
        "reg.fit(train_x,train_y)\n",
        "test_predict = reg.predict(test_x)\n",
        "k = mse(test_predict,test_y)\n",
        "print('Test MSE ',k)"
      ],
      "execution_count": 17,
      "outputs": [
        {
          "output_type": "stream",
          "text": [
            "Test MSE  1622957.615752187\n"
          ],
          "name": "stdout"
        }
      ]
    },
    {
      "cell_type": "code",
      "metadata": {
        "id": "y6DRm6S5T8It"
      },
      "source": [
        ""
      ],
      "execution_count": null,
      "outputs": []
    }
  ]
}