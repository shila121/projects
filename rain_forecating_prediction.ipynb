{
  "nbformat": 4,
  "nbformat_minor": 0,
  "metadata": {
    "colab": {
      "name": "rain_forecating_prediction.ipynb",
      "provenance": [],
      "collapsed_sections": []
    },
    "kernelspec": {
      "name": "python3",
      "display_name": "Python 3"
    }
  },
  "cells": [
    {
      "cell_type": "markdown",
      "metadata": {
        "id": "465Z1gkf00i2"
      },
      "source": [
        "# 1.Framing the problem statement\n",
        "Here,er are trying to predict whetehr it will rain or not.It is a classification modelling and out target variable is **RAIN**"
      ]
    },
    {
      "cell_type": "code",
      "metadata": {
        "colab": {
          "base_uri": "https://localhost:8080/"
        },
        "id": "y35YOBWW03Zn",
        "outputId": "d7e4483e-c7d9-45b1-c06b-90e1b6315d96"
      },
      "source": [
        "# loading the libraries\n",
        "import numpy as np\n",
        "import pandas as pd\n",
        "import matplotlib.pyplot as plt\n",
        "\n",
        "# importing dataset\n",
        "data = pd.read_csv('seattleWeather_1948-2017.csv')\n",
        "\n",
        "print(data.columns)\n",
        "print(data.shape)\n",
        "print(data.head())\n",
        "\n",
        "# categorical columns:\n",
        "catCols = data.select_dtypes('object').columns\n",
        "catCols = list(set(catCols))\n",
        "\n",
        "# as RAIN is target,remove this\n",
        "catCols.remove('RAIN')\n",
        "print('categorical columns:',catCols,len(catCols))\n",
        "\n",
        "# numerical columns\n",
        "numCols = data.select_dtypes('number').columns\n",
        "numCols = list(set(numCols))\n",
        "print('numerical columns :',numCols,len(numCols))\n",
        "\n",
        "y = data['RAIN']\n",
        "# encoding\n",
        "from sklearn.preprocessing import LabelEncoder\n",
        "le = LabelEncoder()\n",
        "y=le.fit_transform(y)\n",
        "# print(y)"
      ],
      "execution_count": 1,
      "outputs": [
        {
          "output_type": "stream",
          "text": [
            "Index(['DATE', 'PRCP', 'TMAX', 'TMIN', 'RAIN'], dtype='object')\n",
            "(25551, 5)\n",
            "         DATE  PRCP  TMAX  TMIN  RAIN\n",
            "0  1948-01-01  0.47    51    42  True\n",
            "1  1948-01-02  0.59    45    36  True\n",
            "2  1948-01-03  0.42    45    35  True\n",
            "3  1948-01-04  0.31    45    34  True\n",
            "4  1948-01-05  0.17    45    32  True\n",
            "categorical columns: ['DATE'] 1\n",
            "numerical columns : ['TMAX', 'TMIN', 'PRCP'] 3\n"
          ],
          "name": "stdout"
        }
      ]
    },
    {
      "cell_type": "markdown",
      "metadata": {
        "id": "cX4ymJeH2WNi"
      },
      "source": [
        "# 2. Hypothesis Testing:\n",
        "Null Hypothesis:there is no relationship between target and the predictor\n",
        "Alternate Hypothesis:there is significant relationship between target and predictor"
      ]
    },
    {
      "cell_type": "code",
      "metadata": {
        "colab": {
          "base_uri": "https://localhost:8080/"
        },
        "id": "WQ68llTl2ouV",
        "outputId": "a202de09-f33b-4b92-e864-5ecaabd244c4"
      },
      "source": [
        "# we will calculate z-score for numerical columns:\n",
        "from statsmodels.stats import weightstats as stests\n",
        "significant_num = []\n",
        "in_significant_num = []\n",
        "for i in numCols:\n",
        "  p_val = stests.ztest(data[i],y)\n",
        "  p_val = p_val[1]\n",
        "\n",
        "  print('columns:',i)\n",
        "  print('p_val:',p_val)\n",
        "\n",
        "  if p_val < 0.05:\n",
        "    status = \"Reject Null Hypothesis,significant predictor\"\n",
        "    print(status)\n",
        "    significant_num.append(i)\n",
        "\n",
        "  else:\n",
        "    status = \"Accept Null Hypothesis,In significant Predictor\"\n",
        "    print(status)\n",
        "    in_significant_num.append(i)\n",
        "print('significant columns:',significant_num)\n",
        "print('in significant columns:',in_significant_num)\n",
        "\n"
      ],
      "execution_count": 2,
      "outputs": [
        {
          "output_type": "stream",
          "text": [
            "columns: TMAX\n",
            "p_val: 0.0\n",
            "Reject Null Hypothesis,significant predictor\n",
            "columns: TMIN\n",
            "p_val: 0.0\n",
            "Reject Null Hypothesis,significant predictor\n",
            "columns: PRCP\n",
            "p_val: nan\n",
            "Accept Null Hypothesis,In significant Predictor\n",
            "significant columns: ['TMAX', 'TMIN']\n",
            "in significant columns: ['PRCP']\n"
          ],
          "name": "stdout"
        },
        {
          "output_type": "stream",
          "text": [
            "/usr/local/lib/python3.6/dist-packages/statsmodels/tools/_testing.py:19: FutureWarning: pandas.util.testing is deprecated. Use the functions in the public API at pandas.testing instead.\n",
            "  import pandas.util.testing as tm\n"
          ],
          "name": "stderr"
        }
      ]
    },
    {
      "cell_type": "markdown",
      "metadata": {
        "id": "qf1g1B0PDtDg"
      },
      "source": [
        "#3.Exploratory Data Analysis (EDA)"
      ]
    },
    {
      "cell_type": "code",
      "metadata": {
        "colab": {
          "base_uri": "https://localhost:8080/",
          "height": 1000
        },
        "id": "VlXZYKEnDyQK",
        "outputId": "3ee773a7-392d-4c8a-c262-d127a0b9fab9"
      },
      "source": [
        "# 1.Univariate analysis of the numerical columns using histogram and boxplot\n",
        "\n",
        "for i in numCols:\n",
        "  plt.subplot(1,2,1)\n",
        "  plt.hist(data[i],bins = 50)\n",
        "  plt.xlabel(i)\n",
        "  plt.ylabel('values')\n",
        "\n",
        "  plt.subplot(1,2,2)\n",
        "  plt.boxplot(data[i])\n",
        "  plt.xlabel(i)\n",
        "  plt.ylabel('values')\n",
        "\n",
        "  plt.show()\n"
      ],
      "execution_count": 3,
      "outputs": [
        {
          "output_type": "display_data",
          "data": {
            "image/png": "[encoded data removed]",
            "text/plain": [
              "<Figure size 432x288 with 2 Axes>"
            ]
          },
          "metadata": {
            "tags": [],
            "needs_background": "light"
          }
        },
        {
          "output_type": "display_data",
          "data": {
            "image/png": "[encoded data removed]",
            "text/plain": [
              "<Figure size 432x288 with 2 Axes>"
            ]
          },
          "metadata": {
            "tags": [],
            "needs_background": "light"
          }
        },
        {
          "output_type": "stream",
          "text": [
            "/usr/local/lib/python3.6/dist-packages/numpy/lib/histograms.py:839: RuntimeWarning: invalid value encountered in greater_equal\n",
            "  keep = (tmp_a >= first_edge)\n",
            "/usr/local/lib/python3.6/dist-packages/numpy/lib/histograms.py:840: RuntimeWarning: invalid value encountered in less_equal\n",
            "  keep &= (tmp_a <= last_edge)\n",
            "/usr/local/lib/python3.6/dist-packages/matplotlib/cbook/__init__.py:1239: RuntimeWarning: invalid value encountered in less_equal\n",
            "  wiskhi = x[x <= hival]\n",
            "/usr/local/lib/python3.6/dist-packages/matplotlib/cbook/__init__.py:1246: RuntimeWarning: invalid value encountered in greater_equal\n",
            "  wisklo = x[x >= loval]\n",
            "/usr/local/lib/python3.6/dist-packages/matplotlib/cbook/__init__.py:1254: RuntimeWarning: invalid value encountered in less\n",
            "  x[x < stats['whislo']],\n",
            "/usr/local/lib/python3.6/dist-packages/matplotlib/cbook/__init__.py:1255: RuntimeWarning: invalid value encountered in greater\n",
            "  x[x > stats['whishi']],\n"
          ],
          "name": "stderr"
        },
        {
          "output_type": "display_data",
          "data": {
            "image/png": "[encoded data removed]",
            "text/plain": [
              "<Figure size 432x288 with 2 Axes>"
            ]
          },
          "metadata": {
            "tags": [],
            "needs_background": "light"
          }
        }
      ]
    },
    {
      "cell_type": "code",
      "metadata": {
        "colab": {
          "base_uri": "https://localhost:8080/"
        },
        "id": "L8EeaAy1EgCa",
        "outputId": "ecb235ee-7a4c-426f-d9e4-6252d8cd5744"
      },
      "source": [
        "# noted the presence of outliers\n",
        "# univariate analysis of categorical columns:\n",
        "\n",
        "for i in catCols:\n",
        "  print('columns:',i)\n",
        "  print(data[i].value_counts())"
      ],
      "execution_count": 4,
      "outputs": [
        {
          "output_type": "stream",
          "text": [
            "columns: DATE\n",
            "1995-05-21    1\n",
            "2013-06-16    1\n",
            "1973-05-09    1\n",
            "2004-10-28    1\n",
            "1956-09-16    1\n",
            "             ..\n",
            "1948-01-16    1\n",
            "1995-08-07    1\n",
            "1963-06-03    1\n",
            "1963-11-01    1\n",
            "2003-03-29    1\n",
            "Name: DATE, Length: 25551, dtype: int64\n"
          ],
          "name": "stdout"
        }
      ]
    },
    {
      "cell_type": "code",
      "metadata": {
        "colab": {
          "base_uri": "https://localhost:8080/",
          "height": 354
        },
        "id": "P4-c2krUE3wI",
        "outputId": "888c96c6-ae1e-47d4-fa65-f0abb0b10096"
      },
      "source": [
        "# DATE is unique,so irrelevant for analysis\n",
        "# 2.Bi - variate analysis of numerical columns\n",
        "import seaborn as sns\n",
        "matrix = data.corr()\n",
        "print(matrix)\n",
        "\n",
        "sns.heatmap(matrix,annot = True)\n",
        "\n"
      ],
      "execution_count": 5,
      "outputs": [
        {
          "output_type": "stream",
          "text": [
            "          PRCP      TMAX      TMIN\n",
            "PRCP  1.000000 -0.226736 -0.064365\n",
            "TMAX -0.226736  1.000000  0.860684\n",
            "TMIN -0.064365  0.860684  1.000000\n"
          ],
          "name": "stdout"
        },
        {
          "output_type": "execute_result",
          "data": {
            "text/plain": [
              "<matplotlib.axes._subplots.AxesSubplot at 0x7fe08a72a358>"
            ]
          },
          "metadata": {
            "tags": []
          },
          "execution_count": 5
        },
        {
          "output_type": "display_data",
          "data": {
            "image/png": "[encoded data removed]",
            "text/plain": [
              "<Figure size 432x288 with 2 Axes>"
            ]
          },
          "metadata": {
            "tags": [],
            "needs_background": "light"
          }
        }
      ]
    },
    {
      "cell_type": "code",
      "metadata": {
        "id": "8kznHL3eGXDK"
      },
      "source": [
        ""
      ],
      "execution_count": 5,
      "outputs": []
    },
    {
      "cell_type": "markdown",
      "metadata": {
        "id": "bjT1YCySGbAC"
      },
      "source": [
        "# 4.Missing Values\n"
      ]
    },
    {
      "cell_type": "code",
      "metadata": {
        "colab": {
          "base_uri": "https://localhost:8080/"
        },
        "id": "4mpF6vscGfiv",
        "outputId": "cf5271f1-fbff-4239-a9b7-fe874d9c4617"
      },
      "source": [
        "data.isnull().sum()"
      ],
      "execution_count": 6,
      "outputs": [
        {
          "output_type": "execute_result",
          "data": {
            "text/plain": [
              "DATE    0\n",
              "PRCP    3\n",
              "TMAX    0\n",
              "TMIN    0\n",
              "RAIN    3\n",
              "dtype: int64"
            ]
          },
          "metadata": {
            "tags": []
          },
          "execution_count": 6
        }
      ]
    },
    {
      "cell_type": "code",
      "metadata": {
        "id": "LB5xjxqSGhiZ"
      },
      "source": [
        "# missing value treatment\n",
        "\n",
        "data.PRCP.fillna(data['PRCP'].median(),inplace = True)\n",
        "data.RAIN.fillna(data['RAIN'].mode()[0],inplace = True)"
      ],
      "execution_count": 7,
      "outputs": []
    },
    {
      "cell_type": "code",
      "metadata": {
        "colab": {
          "base_uri": "https://localhost:8080/"
        },
        "id": "eIH_GqjXlaWB",
        "outputId": "27e34dee-5ead-4ffa-f7ec-df5543e179a7"
      },
      "source": [
        "data.isnull().sum()"
      ],
      "execution_count": 8,
      "outputs": [
        {
          "output_type": "execute_result",
          "data": {
            "text/plain": [
              "DATE    0\n",
              "PRCP    0\n",
              "TMAX    0\n",
              "TMIN    0\n",
              "RAIN    0\n",
              "dtype: int64"
            ]
          },
          "metadata": {
            "tags": []
          },
          "execution_count": 8
        }
      ]
    },
    {
      "cell_type": "code",
      "metadata": {
        "id": "ZLwy8x8Nlc2U"
      },
      "source": [
        ""
      ],
      "execution_count": 8,
      "outputs": []
    },
    {
      "cell_type": "markdown",
      "metadata": {
        "id": "vZeRllbMlewK"
      },
      "source": [
        "#5. Towards building the model"
      ]
    },
    {
      "cell_type": "code",
      "metadata": {
        "id": "eVbL51R2ljW7"
      },
      "source": [
        "# X = data.iloc[::-1].values\n",
        "X=data.iloc[:,:-1]\n",
        "\n",
        "# # train test split\n",
        "\n",
        "from sklearn.model_selection import train_test_split\n",
        "X_train,X_test,y_train,y_test = train_test_split(X,y,test_size =0.2,random_state = 0)"
      ],
      "execution_count": 9,
      "outputs": []
    },
    {
      "cell_type": "code",
      "metadata": {
        "colab": {
          "base_uri": "https://localhost:8080/"
        },
        "id": "mfaOiwSpm9nF",
        "outputId": "944285c2-5b37-4a6e-caf5-db24425b88f0"
      },
      "source": [
        "# apply robust scaler as there is ouliers in the data\n",
        "from sklearn.preprocessing import RobustScaler\n",
        "scaler = RobustScaler()\n",
        "X_train.drop('DATE',axis = 1,inplace = True)\n",
        "X_test.drop('DATE',axis = 1,inplace = True)\n",
        "x_train= scaler.fit_transform(X_train)\n",
        "x_test= scaler.transform(X_test)\n"
      ],
      "execution_count": 10,
      "outputs": [
        {
          "output_type": "stream",
          "text": [
            "/usr/local/lib/python3.6/dist-packages/pandas/core/frame.py:4174: SettingWithCopyWarning: \n",
            "A value is trying to be set on a copy of a slice from a DataFrame\n",
            "\n",
            "See the caveats in the documentation: https://pandas.pydata.org/pandas-docs/stable/user_guide/indexing.html#returning-a-view-versus-a-copy\n",
            "  errors=errors,\n"
          ],
          "name": "stderr"
        }
      ]
    },
    {
      "cell_type": "code",
      "metadata": {
        "colab": {
          "base_uri": "https://localhost:8080/"
        },
        "id": "znzjEkoRJjU2",
        "outputId": "b1c58d4a-9f50-47e4-8d2f-b65bb1727f10"
      },
      "source": [
        "from sklearn import model_selection\n",
        "from numpy import abs\n",
        "# from sklearn.metrics import mean_squared_error,mean_absolute_error\n",
        "# from sklearn.ensemble import RandomForestRegressor\n",
        "from sklearn.linear_model import LogisticRegression\n",
        "from sklearn.svm import SVC, LinearSVC\n",
        "from sklearn.ensemble import RandomForestClassifier\n",
        "from sklearn.neighbors import KNeighborsClassifier\n",
        "from sklearn.naive_bayes import GaussianNB\n",
        "from sklearn.linear_model import Perceptron\n",
        "from sklearn.linear_model import SGDClassifier\n",
        "from sklearn.tree import DecisionTreeClassifier\n",
        "\n",
        "models = []\n",
        "names = []\n",
        "\n",
        "models.append(('Logistic Regression',LogisticRegression()))\n",
        "models.append(('Linear svc',LinearSVC()))\n",
        "models.append(('Random forest classifier',RandomForestClassifier()))\n",
        "models.append(('knn ',KNeighborsClassifier()))\n",
        "models.append(('Guassian NB ',GaussianNB()))\n",
        "models.append(('Decision TreeClassifier',DecisionTreeClassifier()))\n",
        "\n",
        "for name,model in models:\n",
        "  cv_score = model_selection.cross_val_score(model,x_train,y_train,cv = 20,scoring='accuracy')\n",
        "  cv_score = np.sqrt(np.abs(cv_score))\n",
        "\n",
        "  \n",
        "  print(\"name:--->>\",name)\n",
        "  print(\"----------------------------------\")\n",
        "  print(\"CV mean Score :{0},CV min:{1},CV std :{2}\".format(np.mean(cv_score),np.min(cv_score),np.std(cv_score)))\n",
        "  print(\"----------------------------------\")"
      ],
      "execution_count": 11,
      "outputs": [
        {
          "output_type": "stream",
          "text": [
            "/usr/local/lib/python3.6/dist-packages/sklearn/model_selection/_split.py:667: UserWarning: The least populated class in y has only 3 members, which is less than n_splits=20.\n",
            "  % (min_groups, self.n_splits)), UserWarning)\n"
          ],
          "name": "stderr"
        },
        {
          "output_type": "stream",
          "text": [
            "name:--->> Logistic Regression\n",
            "----------------------------------\n",
            "CV mean Score :0.9991188344943762,CV min:0.9980411342600799,CV std :0.0005496475373778622\n",
            "----------------------------------\n"
          ],
          "name": "stdout"
        },
        {
          "output_type": "stream",
          "text": [
            "/usr/local/lib/python3.6/dist-packages/sklearn/model_selection/_split.py:667: UserWarning: The least populated class in y has only 3 members, which is less than n_splits=20.\n",
            "  % (min_groups, self.n_splits)), UserWarning)\n"
          ],
          "name": "stderr"
        },
        {
          "output_type": "stream",
          "text": [
            "name:--->> Linear svc\n",
            "----------------------------------\n",
            "CV mean Score :0.9999265965211735,CV min:0.9995106434744888,CV std :0.0001747352301489271\n",
            "----------------------------------\n"
          ],
          "name": "stdout"
        },
        {
          "output_type": "stream",
          "text": [
            "/usr/local/lib/python3.6/dist-packages/sklearn/model_selection/_split.py:667: UserWarning: The least populated class in y has only 3 members, which is less than n_splits=20.\n",
            "  % (min_groups, self.n_splits)), UserWarning)\n"
          ],
          "name": "stderr"
        },
        {
          "output_type": "stream",
          "text": [
            "name:--->> Random forest classifier\n",
            "----------------------------------\n",
            "CV mean Score :0.9999265965211735,CV min:0.9995106434744888,CV std :0.0001747352301489271\n",
            "----------------------------------\n"
          ],
          "name": "stdout"
        },
        {
          "output_type": "stream",
          "text": [
            "/usr/local/lib/python3.6/dist-packages/sklearn/model_selection/_split.py:667: UserWarning: The least populated class in y has only 3 members, which is less than n_splits=20.\n",
            "  % (min_groups, self.n_splits)), UserWarning)\n"
          ],
          "name": "stderr"
        },
        {
          "output_type": "stream",
          "text": [
            "name:--->> knn \n",
            "----------------------------------\n",
            "CV mean Score :0.9985799181137974,CV min:0.9970602582154803,CV std :0.0007574657240243764\n",
            "----------------------------------\n",
            "name:--->> Guassian NB \n",
            "----------------------------------\n",
            "CV mean Score :0.9996566555074343,CV min:0.9941118231997044,CV std :0.0012804658690912798\n",
            "----------------------------------\n"
          ],
          "name": "stdout"
        },
        {
          "output_type": "stream",
          "text": [
            "/usr/local/lib/python3.6/dist-packages/sklearn/model_selection/_split.py:667: UserWarning: The least populated class in y has only 3 members, which is less than n_splits=20.\n",
            "  % (min_groups, self.n_splits)), UserWarning)\n",
            "/usr/local/lib/python3.6/dist-packages/sklearn/model_selection/_split.py:667: UserWarning: The least populated class in y has only 3 members, which is less than n_splits=20.\n",
            "  % (min_groups, self.n_splits)), UserWarning)\n"
          ],
          "name": "stderr"
        },
        {
          "output_type": "stream",
          "text": [
            "name:--->> Decision TreeClassifier\n",
            "----------------------------------\n",
            "CV mean Score :0.9999265965211735,CV min:0.9995106434744888,CV std :0.0001747352301489271\n",
            "----------------------------------\n"
          ],
          "name": "stdout"
        }
      ]
    },
    {
      "cell_type": "code",
      "metadata": {
        "colab": {
          "base_uri": "https://localhost:8080/"
        },
        "id": "TSAYgBWtKr_a",
        "outputId": "57221171-11e7-4819-cd89-cd09c2cb9737"
      },
      "source": [
        "# selecting a model\n",
        "random_forest = RandomForestClassifier(n_estimators= 100)\n",
        "random_forest.fit(x_train,y_train)\n",
        "Y_pred = random_forest.predict(X_test)\n",
        "random_forest.score(x_train, y_train)\n",
        "acc_random_forest = round(random_forest.score(x_train, y_train) * 100, 2)\n",
        "acc_random_forest"
      ],
      "execution_count": 12,
      "outputs": [
        {
          "output_type": "execute_result",
          "data": {
            "text/plain": [
              "99.99"
            ]
          },
          "metadata": {
            "tags": []
          },
          "execution_count": 12
        }
      ]
    },
    {
      "cell_type": "code",
      "metadata": {
        "colab": {
          "base_uri": "https://localhost:8080/"
        },
        "id": "yf7lKg83MCLA",
        "outputId": "269054d2-703b-448b-b38d-bde643723b34"
      },
      "source": [
        "# applying ann\n",
        "# it involves building ann model and training annn model\n",
        "import tensorflow as tf\n",
        "\n",
        "ann = tf.keras.models.Sequential()\n",
        "\n",
        "# adding input layer and first hidden layer\n",
        "ann.add(tf.keras.layers.Dense(units = 6,activation='relu'))\n",
        "\n",
        "# adding second hidden layer\n",
        "ann.add(tf.keras.layers.Dense(units = 6,activation='relu'))\n",
        "\n",
        "\n",
        "# now adding output layer and as the out put is classifical model,activation function = sigmoid\n",
        "ann.add(tf.keras.layers.Dense(units=1,activation = 'sigmoid'))\n",
        "\n",
        "# now training the ann\n",
        "# first compiling\n",
        "ann.compile(optimizer = 'adam',loss = 'mean_squared_error',metrics = 'accuracy')\n",
        "\n",
        "# training ann model\n",
        "ann.fit(x_train,y_train,batch_size = 32,epochs = 100)\n",
        "\n",
        "\n"
      ],
      "execution_count": 13,
      "outputs": [
        {
          "output_type": "stream",
          "text": [
            "Epoch 1/100\n",
            "639/639 [==============================] - 1s 840us/step - loss: 0.0974 - accuracy: 0.8946\n",
            "Epoch 2/100\n",
            "639/639 [==============================] - 1s 837us/step - loss: 0.0252 - accuracy: 0.9729\n",
            "Epoch 3/100\n",
            "639/639 [==============================] - 1s 848us/step - loss: 0.0089 - accuracy: 0.9960\n",
            "Epoch 4/100\n",
            "639/639 [==============================] - 1s 837us/step - loss: 0.0031 - accuracy: 0.9998\n",
            "Epoch 5/100\n",
            "639/639 [==============================] - 1s 833us/step - loss: 0.0015 - accuracy: 0.9999\n",
            "Epoch 6/100\n",
            "639/639 [==============================] - 1s 834us/step - loss: 0.0010 - accuracy: 0.9999\n",
            "Epoch 7/100\n",
            "639/639 [==============================] - 1s 837us/step - loss: 8.0921e-04 - accuracy: 0.9999\n",
            "Epoch 8/100\n",
            "639/639 [==============================] - 1s 836us/step - loss: 7.1331e-04 - accuracy: 0.9999\n",
            "Epoch 9/100\n",
            "639/639 [==============================] - 1s 841us/step - loss: 6.6270e-04 - accuracy: 0.9999\n",
            "Epoch 10/100\n",
            "639/639 [==============================] - 1s 821us/step - loss: 6.3416e-04 - accuracy: 0.9999\n",
            "Epoch 11/100\n",
            "639/639 [==============================] - 1s 850us/step - loss: 6.1722e-04 - accuracy: 0.9999\n",
            "Epoch 12/100\n",
            "639/639 [==============================] - 1s 808us/step - loss: 6.0660e-04 - accuracy: 0.9999\n",
            "Epoch 13/100\n",
            "639/639 [==============================] - 1s 840us/step - loss: 5.9986e-04 - accuracy: 0.9999\n",
            "Epoch 14/100\n",
            "639/639 [==============================] - 1s 829us/step - loss: 5.9553e-04 - accuracy: 0.9999\n",
            "Epoch 15/100\n",
            "639/639 [==============================] - 1s 824us/step - loss: 5.9267e-04 - accuracy: 0.9999\n",
            "Epoch 16/100\n",
            "639/639 [==============================] - 1s 825us/step - loss: 5.9075e-04 - accuracy: 0.9999\n",
            "Epoch 17/100\n",
            "639/639 [==============================] - 1s 817us/step - loss: 5.8953e-04 - accuracy: 0.9999\n",
            "Epoch 18/100\n",
            "639/639 [==============================] - 1s 827us/step - loss: 5.8867e-04 - accuracy: 0.9999\n",
            "Epoch 19/100\n",
            "639/639 [==============================] - 1s 824us/step - loss: 5.8814e-04 - accuracy: 0.9999\n",
            "Epoch 20/100\n",
            "639/639 [==============================] - 1s 816us/step - loss: 5.8773e-04 - accuracy: 0.9999\n",
            "Epoch 21/100\n",
            "639/639 [==============================] - 1s 813us/step - loss: 5.8751e-04 - accuracy: 0.9999\n",
            "Epoch 22/100\n",
            "639/639 [==============================] - 1s 842us/step - loss: 5.8728e-04 - accuracy: 0.9999\n",
            "Epoch 23/100\n",
            "639/639 [==============================] - 1s 824us/step - loss: 5.8716e-04 - accuracy: 0.9999\n",
            "Epoch 24/100\n",
            "639/639 [==============================] - 1s 829us/step - loss: 5.8710e-04 - accuracy: 0.9999\n",
            "Epoch 25/100\n",
            "639/639 [==============================] - 1s 817us/step - loss: 5.8705e-04 - accuracy: 0.9999\n",
            "Epoch 26/100\n",
            "639/639 [==============================] - 1s 834us/step - loss: 5.8694e-04 - accuracy: 0.9999\n",
            "Epoch 27/100\n",
            "639/639 [==============================] - 1s 851us/step - loss: 5.8694e-04 - accuracy: 0.9999\n",
            "Epoch 28/100\n",
            "639/639 [==============================] - 1s 830us/step - loss: 5.8682e-04 - accuracy: 0.9999\n",
            "Epoch 29/100\n",
            "639/639 [==============================] - 1s 812us/step - loss: 5.8691e-04 - accuracy: 0.9999\n",
            "Epoch 30/100\n",
            "639/639 [==============================] - 1s 851us/step - loss: 5.8691e-04 - accuracy: 0.9999\n",
            "Epoch 31/100\n",
            "639/639 [==============================] - 1s 832us/step - loss: 5.8690e-04 - accuracy: 0.9999\n",
            "Epoch 32/100\n",
            "639/639 [==============================] - 1s 861us/step - loss: 5.8693e-04 - accuracy: 0.9999\n",
            "Epoch 33/100\n",
            "639/639 [==============================] - 1s 810us/step - loss: 5.8692e-04 - accuracy: 0.9999\n",
            "Epoch 34/100\n",
            "639/639 [==============================] - 1s 826us/step - loss: 5.8688e-04 - accuracy: 0.9999\n",
            "Epoch 35/100\n",
            "639/639 [==============================] - 1s 865us/step - loss: 5.8689e-04 - accuracy: 0.9999\n",
            "Epoch 36/100\n",
            "639/639 [==============================] - 1s 834us/step - loss: 5.8688e-04 - accuracy: 0.9999\n",
            "Epoch 37/100\n",
            "639/639 [==============================] - 1s 826us/step - loss: 5.8692e-04 - accuracy: 0.9999\n",
            "Epoch 38/100\n",
            "639/639 [==============================] - 1s 811us/step - loss: 5.8690e-04 - accuracy: 0.9999\n",
            "Epoch 39/100\n",
            "639/639 [==============================] - 1s 845us/step - loss: 5.8688e-04 - accuracy: 0.9999\n",
            "Epoch 40/100\n",
            "639/639 [==============================] - 1s 858us/step - loss: 5.8685e-04 - accuracy: 0.9999\n",
            "Epoch 41/100\n",
            "639/639 [==============================] - 1s 851us/step - loss: 5.8684e-04 - accuracy: 0.9999\n",
            "Epoch 42/100\n",
            "639/639 [==============================] - 1s 853us/step - loss: 5.8686e-04 - accuracy: 0.9999\n",
            "Epoch 43/100\n",
            "639/639 [==============================] - 1s 852us/step - loss: 5.8684e-04 - accuracy: 0.9999\n",
            "Epoch 44/100\n",
            "639/639 [==============================] - 1s 824us/step - loss: 5.8684e-04 - accuracy: 0.9999\n",
            "Epoch 45/100\n",
            "639/639 [==============================] - 1s 853us/step - loss: 5.8682e-04 - accuracy: 0.9999\n",
            "Epoch 46/100\n",
            "639/639 [==============================] - 1s 865us/step - loss: 5.8686e-04 - accuracy: 0.9999\n",
            "Epoch 47/100\n",
            "639/639 [==============================] - 1s 821us/step - loss: 5.8685e-04 - accuracy: 0.9999\n",
            "Epoch 48/100\n",
            "639/639 [==============================] - 1s 847us/step - loss: 5.8684e-04 - accuracy: 0.9999\n",
            "Epoch 49/100\n",
            "639/639 [==============================] - 1s 819us/step - loss: 5.8680e-04 - accuracy: 0.9999\n",
            "Epoch 50/100\n",
            "639/639 [==============================] - 1s 822us/step - loss: 5.8662e-04 - accuracy: 0.9999\n",
            "Epoch 51/100\n",
            "639/639 [==============================] - 1s 901us/step - loss: 5.8699e-04 - accuracy: 0.9999\n",
            "Epoch 52/100\n",
            "639/639 [==============================] - 1s 845us/step - loss: 5.8679e-04 - accuracy: 0.9999\n",
            "Epoch 53/100\n",
            "639/639 [==============================] - 1s 824us/step - loss: 5.8680e-04 - accuracy: 0.9999\n",
            "Epoch 54/100\n",
            "639/639 [==============================] - 1s 828us/step - loss: 5.8679e-04 - accuracy: 0.9999\n",
            "Epoch 55/100\n",
            "639/639 [==============================] - 1s 853us/step - loss: 5.8679e-04 - accuracy: 0.9999\n",
            "Epoch 56/100\n",
            "639/639 [==============================] - 1s 866us/step - loss: 5.8678e-04 - accuracy: 0.9999\n",
            "Epoch 57/100\n",
            "639/639 [==============================] - 1s 829us/step - loss: 5.8679e-04 - accuracy: 0.9999\n",
            "Epoch 58/100\n",
            "639/639 [==============================] - 1s 830us/step - loss: 5.8678e-04 - accuracy: 0.9999\n",
            "Epoch 59/100\n",
            "639/639 [==============================] - 1s 842us/step - loss: 5.8680e-04 - accuracy: 0.9999\n",
            "Epoch 60/100\n",
            "639/639 [==============================] - 1s 840us/step - loss: 5.8678e-04 - accuracy: 0.9999\n",
            "Epoch 61/100\n",
            "639/639 [==============================] - 1s 852us/step - loss: 5.8680e-04 - accuracy: 0.9999\n",
            "Epoch 62/100\n",
            "639/639 [==============================] - 1s 813us/step - loss: 5.8679e-04 - accuracy: 0.9999\n",
            "Epoch 63/100\n",
            "639/639 [==============================] - 1s 846us/step - loss: 5.8681e-04 - accuracy: 0.9999\n",
            "Epoch 64/100\n",
            "639/639 [==============================] - 1s 836us/step - loss: 5.8681e-04 - accuracy: 0.9999\n",
            "Epoch 65/100\n",
            "639/639 [==============================] - 1s 852us/step - loss: 5.8680e-04 - accuracy: 0.9999\n",
            "Epoch 66/100\n",
            "639/639 [==============================] - 1s 843us/step - loss: 5.8667e-04 - accuracy: 0.9999\n",
            "Epoch 67/100\n",
            "639/639 [==============================] - 1s 884us/step - loss: 5.8678e-04 - accuracy: 0.9999\n",
            "Epoch 68/100\n",
            "639/639 [==============================] - 1s 839us/step - loss: 5.8679e-04 - accuracy: 0.9999\n",
            "Epoch 69/100\n",
            "639/639 [==============================] - 1s 847us/step - loss: 5.8680e-04 - accuracy: 0.9999\n",
            "Epoch 70/100\n",
            "639/639 [==============================] - 1s 856us/step - loss: 5.8684e-04 - accuracy: 0.9999\n",
            "Epoch 71/100\n",
            "639/639 [==============================] - 1s 836us/step - loss: 5.8679e-04 - accuracy: 0.9999\n",
            "Epoch 72/100\n",
            "639/639 [==============================] - 1s 830us/step - loss: 5.8680e-04 - accuracy: 0.9999\n",
            "Epoch 73/100\n",
            "639/639 [==============================] - 1s 839us/step - loss: 5.8677e-04 - accuracy: 0.9999\n",
            "Epoch 74/100\n",
            "639/639 [==============================] - 1s 853us/step - loss: 5.8667e-04 - accuracy: 0.9999\n",
            "Epoch 75/100\n",
            "639/639 [==============================] - 1s 833us/step - loss: 5.8674e-04 - accuracy: 0.9999\n",
            "Epoch 76/100\n",
            "639/639 [==============================] - 1s 856us/step - loss: 5.8674e-04 - accuracy: 0.9999\n",
            "Epoch 77/100\n",
            "639/639 [==============================] - 1s 812us/step - loss: 5.8678e-04 - accuracy: 0.9999\n",
            "Epoch 78/100\n",
            "639/639 [==============================] - 1s 838us/step - loss: 5.8678e-04 - accuracy: 0.9999\n",
            "Epoch 79/100\n",
            "639/639 [==============================] - 1s 830us/step - loss: 5.8679e-04 - accuracy: 0.9999\n",
            "Epoch 80/100\n",
            "639/639 [==============================] - 1s 838us/step - loss: 5.8676e-04 - accuracy: 0.9999\n",
            "Epoch 81/100\n",
            "639/639 [==============================] - 1s 841us/step - loss: 5.8676e-04 - accuracy: 0.9999\n",
            "Epoch 82/100\n",
            "639/639 [==============================] - 1s 878us/step - loss: 5.8683e-04 - accuracy: 0.9999\n",
            "Epoch 83/100\n",
            "639/639 [==============================] - 1s 810us/step - loss: 5.8677e-04 - accuracy: 0.9999\n",
            "Epoch 84/100\n",
            "639/639 [==============================] - 1s 842us/step - loss: 5.8677e-04 - accuracy: 0.9999\n",
            "Epoch 85/100\n",
            "639/639 [==============================] - 1s 835us/step - loss: 5.8680e-04 - accuracy: 0.9999\n",
            "Epoch 86/100\n",
            "639/639 [==============================] - 1s 834us/step - loss: 5.8678e-04 - accuracy: 0.9999\n",
            "Epoch 87/100\n",
            "639/639 [==============================] - 1s 864us/step - loss: 5.8672e-04 - accuracy: 0.9999\n",
            "Epoch 88/100\n",
            "639/639 [==============================] - 1s 833us/step - loss: 5.8678e-04 - accuracy: 0.9999\n",
            "Epoch 89/100\n",
            "639/639 [==============================] - 1s 881us/step - loss: 5.8675e-04 - accuracy: 0.9999\n",
            "Epoch 90/100\n",
            "639/639 [==============================] - 1s 827us/step - loss: 5.8625e-04 - accuracy: 0.9999\n",
            "Epoch 91/100\n",
            "639/639 [==============================] - 1s 854us/step - loss: 5.8671e-04 - accuracy: 0.9999\n",
            "Epoch 92/100\n",
            "639/639 [==============================] - 1s 825us/step - loss: 5.8673e-04 - accuracy: 0.9999\n",
            "Epoch 93/100\n",
            "639/639 [==============================] - 1s 853us/step - loss: 5.8675e-04 - accuracy: 0.9999\n",
            "Epoch 94/100\n",
            "639/639 [==============================] - 1s 836us/step - loss: 5.8688e-04 - accuracy: 0.9999\n",
            "Epoch 95/100\n",
            "639/639 [==============================] - 1s 839us/step - loss: 5.8658e-04 - accuracy: 0.9999\n",
            "Epoch 96/100\n",
            "639/639 [==============================] - 1s 869us/step - loss: 5.8674e-04 - accuracy: 0.9999\n",
            "Epoch 97/100\n",
            "639/639 [==============================] - 1s 831us/step - loss: 5.8675e-04 - accuracy: 0.9999\n",
            "Epoch 98/100\n",
            "639/639 [==============================] - 1s 837us/step - loss: 5.8677e-04 - accuracy: 0.9999\n",
            "Epoch 99/100\n",
            "639/639 [==============================] - 1s 831us/step - loss: 5.8674e-04 - accuracy: 0.9999\n",
            "Epoch 100/100\n",
            "639/639 [==============================] - 1s 838us/step - loss: 5.8670e-04 - accuracy: 0.9999\n"
          ],
          "name": "stdout"
        },
        {
          "output_type": "execute_result",
          "data": {
            "text/plain": [
              "<tensorflow.python.keras.callbacks.History at 0x7fe04df00ef0>"
            ]
          },
          "metadata": {
            "tags": []
          },
          "execution_count": 13
        }
      ]
    },
    {
      "cell_type": "code",
      "metadata": {
        "id": "muXGo4NQNyYa"
      },
      "source": [
        "# # predicting loss on test model\n",
        "y_pred = ann.predict(x_test,batch_size=32)\n",
        "y_pred = [ 1 if y>=0.5 else 0 for y in y_pred]"
      ],
      "execution_count": 14,
      "outputs": []
    },
    {
      "cell_type": "code",
      "metadata": {
        "colab": {
          "base_uri": "https://localhost:8080/"
        },
        "id": "GkNCMbBkQgaL",
        "outputId": "43744ede-f321-4638-bcef-a42d226866f0"
      },
      "source": [
        "print(y_pred)"
      ],
      "execution_count": 15,
      "outputs": [
        {
          "output_type": "stream",
          "text": [
            "[0, 0, 1, 0, 0, 0, 0, 1, 0, 0, 0, 1, 0, 0, 0, 0, 0, 1, 0, 0, 1, 1, 1, 1, 1, 1, 0, 0, 1, 0, 0, 1, 0, 1, 1, 0, 0, 0, 1, 0, 0, 0, 1, 1, 1, 0, 0, 1, 0, 1, 0, 1, 1, 0, 1, 1, 0, 0, 1, 1, 1, 0, 0, 1, 0, 0, 0, 0, 1, 1, 0, 0, 0, 0, 1, 1, 0, 0, 0, 0, 0, 1, 0, 1, 1, 0, 1, 0, 0, 0, 1, 0, 0, 0, 1, 0, 0, 0, 1, 1, 0, 1, 1, 0, 1, 1, 1, 0, 0, 1, 1, 0, 1, 1, 1, 1, 1, 1, 0, 0, 0, 1, 1, 0, 0, 0, 0, 0, 1, 1, 0, 0, 1, 1, 0, 0, 0, 0, 1, 1, 0, 1, 1, 1, 0, 0, 1, 1, 0, 0, 1, 0, 0, 1, 0, 1, 1, 1, 0, 0, 0, 0, 1, 1, 1, 1, 0, 0, 0, 1, 0, 1, 0, 1, 1, 0, 1, 0, 1, 0, 0, 1, 1, 1, 1, 1, 0, 0, 1, 0, 0, 1, 0, 0, 0, 0, 1, 0, 0, 0, 1, 1, 1, 0, 0, 1, 0, 1, 0, 0, 1, 1, 1, 1, 0, 1, 0, 0, 0, 1, 1, 0, 1, 0, 0, 1, 1, 0, 0, 0, 0, 0, 0, 1, 1, 1, 1, 0, 0, 0, 1, 0, 0, 0, 0, 0, 0, 0, 0, 1, 1, 0, 0, 1, 0, 1, 0, 1, 1, 1, 1, 0, 1, 1, 0, 0, 1, 0, 1, 0, 1, 0, 1, 0, 0, 0, 1, 0, 1, 0, 0, 0, 1, 1, 1, 1, 1, 0, 1, 1, 0, 0, 0, 0, 0, 1, 1, 0, 0, 0, 0, 0, 0, 0, 0, 0, 1, 0, 1, 1, 0, 0, 0, 1, 0, 0, 1, 0, 0, 1, 0, 0, 0, 0, 0, 0, 0, 0, 0, 1, 0, 0, 1, 0, 0, 0, 0, 0, 0, 0, 0, 1, 1, 1, 0, 0, 0, 0, 0, 0, 1, 1, 0, 1, 0, 0, 0, 1, 0, 0, 0, 0, 1, 0, 0, 0, 1, 1, 1, 0, 0, 0, 1, 1, 1, 0, 0, 0, 1, 0, 0, 0, 1, 0, 0, 1, 1, 1, 0, 0, 1, 0, 0, 0, 0, 0, 0, 1, 0, 1, 1, 0, 1, 0, 1, 0, 0, 1, 0, 0, 1, 0, 0, 1, 1, 1, 1, 1, 1, 0, 1, 0, 1, 1, 1, 0, 0, 0, 1, 1, 0, 0, 0, 0, 0, 0, 0, 1, 0, 1, 0, 0, 1, 1, 0, 1, 0, 0, 1, 1, 0, 0, 1, 0, 1, 0, 0, 0, 0, 0, 0, 0, 0, 0, 0, 1, 1, 0, 1, 0, 0, 0, 0, 1, 1, 1, 1, 1, 1, 0, 0, 0, 1, 0, 0, 0, 1, 0, 0, 1, 0, 0, 0, 0, 0, 1, 0, 0, 1, 0, 0, 1, 0, 0, 0, 0, 0, 1, 1, 0, 0, 0, 0, 0, 1, 0, 1, 0, 1, 1, 0, 0, 1, 1, 1, 1, 0, 1, 0, 0, 0, 1, 0, 0, 0, 0, 0, 1, 1, 0, 1, 0, 1, 1, 1, 1, 1, 1, 0, 1, 1, 0, 1, 0, 1, 1, 0, 0, 0, 0, 0, 0, 0, 0, 0, 1, 1, 0, 1, 1, 0, 1, 1, 1, 1, 1, 1, 0, 0, 1, 1, 0, 0, 0, 1, 1, 0, 1, 1, 0, 0, 0, 0, 0, 0, 1, 1, 1, 1, 0, 0, 1, 1, 1, 0, 1, 1, 0, 1, 1, 0, 0, 1, 0, 0, 1, 0, 1, 1, 1, 0, 0, 0, 0, 0, 0, 1, 0, 0, 1, 1, 0, 1, 1, 0, 0, 0, 0, 0, 0, 0, 0, 1, 0, 1, 0, 1, 1, 1, 1, 0, 0, 1, 1, 1, 0, 0, 0, 0, 0, 0, 0, 0, 0, 0, 1, 1, 1, 0, 0, 0, 0, 1, 0, 1, 1, 0, 0, 0, 0, 1, 0, 0, 0, 0, 0, 0, 1, 0, 0, 1, 0, 1, 1, 1, 0, 0, 1, 0, 1, 1, 1, 1, 0, 0, 1, 1, 0, 1, 0, 1, 1, 0, 0, 0, 1, 1, 0, 0, 1, 0, 0, 1, 0, 0, 1, 0, 0, 0, 0, 1, 0, 0, 0, 0, 0, 1, 0, 1, 0, 1, 0, 1, 0, 1, 1, 1, 1, 1, 0, 1, 0, 0, 0, 0, 0, 0, 1, 0, 0, 0, 1, 1, 0, 1, 0, 0, 0, 0, 1, 0, 0, 1, 0, 1, 1, 0, 0, 1, 1, 1, 0, 0, 1, 0, 0, 0, 0, 0, 0, 1, 0, 1, 0, 0, 0, 0, 0, 1, 0, 0, 0, 0, 1, 1, 1, 1, 1, 0, 1, 1, 0, 1, 0, 0, 1, 0, 0, 1, 0, 1, 1, 0, 0, 0, 1, 1, 0, 0, 0, 1, 1, 0, 0, 0, 1, 0, 0, 0, 1, 1, 0, 1, 1, 0, 0, 1, 1, 1, 0, 0, 1, 0, 0, 1, 0, 0, 1, 1, 1, 0, 1, 0, 1, 1, 0, 0, 0, 1, 0, 1, 1, 0, 0, 1, 0, 1, 0, 1, 1, 1, 1, 1, 0, 1, 0, 0, 0, 1, 0, 0, 1, 0, 1, 1, 0, 0, 1, 0, 0, 0, 0, 0, 1, 0, 1, 0, 0, 0, 1, 0, 1, 0, 0, 0, 0, 1, 0, 0, 0, 0, 0, 1, 1, 0, 0, 1, 1, 0, 0, 1, 1, 0, 1, 0, 0, 0, 1, 0, 0, 1, 0, 0, 1, 0, 0, 1, 0, 1, 1, 1, 0, 1, 0, 0, 0, 0, 1, 0, 0, 0, 0, 1, 1, 1, 0, 0, 1, 0, 0, 1, 1, 0, 1, 0, 0, 0, 0, 0, 1, 0, 1, 1, 0, 0, 0, 0, 1, 0, 0, 0, 0, 0, 1, 0, 0, 0, 1, 0, 1, 1, 1, 0, 0, 1, 1, 1, 1, 0, 1, 0, 1, 0, 0, 0, 1, 0, 0, 0, 0, 0, 1, 0, 0, 0, 0, 1, 1, 1, 0, 0, 1, 0, 0, 0, 0, 1, 0, 1, 0, 1, 1, 0, 0, 1, 1, 1, 0, 0, 0, 1, 0, 0, 0, 0, 0, 0, 0, 1, 0, 0, 1, 1, 1, 1, 0, 0, 1, 0, 0, 0, 1, 1, 0, 1, 0, 1, 0, 0, 0, 0, 0, 0, 0, 0, 0, 1, 0, 1, 1, 1, 0, 1, 1, 0, 0, 0, 0, 1, 1, 0, 0, 1, 1, 1, 0, 0, 0, 1, 1, 1, 0, 0, 0, 0, 0, 0, 0, 0, 0, 0, 0, 0, 0, 1, 0, 0, 1, 1, 1, 0, 1, 0, 0, 0, 1, 0, 1, 1, 0, 0, 1, 1, 1, 0, 0, 1, 0, 0, 0, 0, 0, 0, 0, 1, 1, 0, 0, 0, 0, 1, 0, 0, 0, 1, 1, 1, 1, 0, 1, 1, 1, 1, 0, 0, 1, 0, 0, 0, 0, 0, 1, 0, 1, 0, 0, 0, 0, 0, 1, 0, 1, 0, 1, 1, 1, 0, 0, 1, 0, 0, 1, 0, 0, 1, 0, 1, 1, 0, 1, 0, 0, 1, 0, 0, 0, 0, 1, 0, 1, 1, 1, 1, 1, 0, 0, 1, 1, 1, 0, 0, 1, 0, 0, 0, 1, 0, 1, 0, 1, 0, 1, 1, 0, 1, 0, 1, 1, 1, 0, 0, 0, 0, 0, 0, 1, 0, 0, 0, 0, 1, 0, 0, 0, 0, 0, 0, 1, 0, 0, 0, 1, 1, 0, 0, 0, 0, 0, 0, 1, 0, 0, 1, 0, 1, 1, 1, 1, 1, 0, 0, 0, 0, 1, 0, 0, 1, 0, 0, 0, 0, 1, 0, 1, 0, 0, 1, 0, 0, 0, 0, 0, 1, 0, 1, 1, 1, 0, 0, 0, 1, 0, 1, 1, 1, 0, 1, 0, 0, 0, 1, 1, 0, 0, 0, 1, 0, 0, 0, 1, 0, 0, 0, 0, 0, 1, 0, 1, 0, 0, 0, 1, 0, 0, 0, 1, 1, 0, 0, 0, 1, 0, 1, 0, 0, 0, 1, 0, 0, 0, 0, 1, 0, 1, 0, 1, 1, 0, 0, 1, 0, 0, 1, 1, 0, 0, 0, 1, 0, 0, 0, 0, 0, 0, 0, 1, 1, 0, 1, 1, 0, 0, 1, 0, 0, 0, 0, 1, 1, 0, 0, 1, 0, 1, 0, 1, 0, 0, 1, 1, 1, 1, 0, 0, 0, 0, 0, 0, 1, 0, 1, 1, 0, 0, 1, 1, 0, 1, 0, 0, 1, 0, 0, 0, 1, 1, 0, 0, 1, 1, 0, 0, 0, 0, 0, 0, 0, 1, 0, 1, 1, 0, 1, 0, 1, 0, 0, 1, 1, 1, 0, 0, 1, 1, 1, 0, 0, 0, 0, 1, 1, 0, 0, 0, 0, 1, 0, 1, 0, 1, 0, 0, 0, 1, 1, 1, 1, 1, 1, 0, 0, 1, 1, 1, 0, 0, 0, 1, 0, 1, 0, 1, 0, 0, 0, 1, 0, 1, 0, 0, 0, 1, 1, 1, 0, 0, 0, 0, 0, 0, 1, 1, 0, 1, 1, 1, 1, 0, 1, 0, 0, 0, 0, 0, 1, 0, 0, 1, 0, 1, 1, 1, 1, 0, 0, 0, 0, 1, 1, 0, 0, 0, 1, 1, 0, 0, 0, 1, 0, 0, 0, 1, 1, 0, 0, 0, 0, 1, 0, 0, 0, 0, 0, 0, 0, 1, 0, 0, 1, 0, 0, 0, 1, 1, 0, 0, 0, 0, 1, 1, 1, 1, 0, 0, 0, 0, 0, 0, 0, 1, 0, 1, 1, 1, 0, 0, 0, 0, 1, 1, 0, 0, 0, 0, 1, 0, 0, 0, 0, 0, 0, 0, 0, 0, 1, 0, 0, 1, 0, 0, 0, 1, 1, 1, 0, 1, 1, 0, 1, 1, 1, 0, 0, 0, 0, 1, 0, 0, 0, 0, 1, 0, 0, 0, 0, 0, 0, 0, 1, 1, 0, 1, 0, 1, 1, 0, 1, 0, 0, 1, 1, 1, 1, 1, 1, 1, 0, 0, 1, 0, 0, 1, 0, 1, 0, 0, 1, 1, 1, 1, 0, 1, 1, 0, 1, 1, 0, 1, 1, 1, 1, 1, 1, 1, 0, 0, 0, 0, 0, 1, 0, 0, 1, 0, 1, 0, 0, 1, 0, 0, 1, 0, 1, 1, 0, 0, 1, 0, 0, 0, 0, 0, 0, 0, 0, 1, 0, 1, 0, 1, 0, 0, 0, 0, 1, 0, 0, 0, 0, 0, 0, 0, 0, 0, 0, 0, 0, 0, 1, 1, 1, 0, 1, 1, 0, 0, 0, 1, 0, 0, 1, 0, 0, 0, 0, 0, 1, 0, 0, 1, 1, 1, 0, 0, 0, 0, 0, 0, 1, 1, 0, 0, 0, 1, 0, 1, 0, 0, 0, 0, 0, 0, 1, 1, 0, 0, 1, 0, 0, 0, 0, 0, 0, 1, 1, 0, 1, 0, 0, 1, 0, 0, 0, 1, 0, 1, 0, 0, 0, 1, 0, 0, 0, 1, 1, 1, 0, 1, 1, 0, 0, 1, 1, 1, 1, 1, 1, 0, 0, 0, 0, 0, 0, 0, 1, 1, 1, 0, 0, 1, 1, 0, 0, 1, 1, 1, 1, 1, 0, 1, 1, 0, 0, 1, 0, 0, 0, 1, 1, 0, 1, 0, 1, 0, 1, 1, 0, 0, 0, 0, 0, 0, 0, 1, 1, 0, 1, 0, 0, 0, 0, 0, 1, 1, 1, 1, 0, 0, 1, 0, 1, 0, 0, 1, 0, 0, 1, 0, 0, 1, 1, 1, 1, 0, 0, 1, 0, 1, 0, 0, 1, 0, 0, 1, 1, 0, 0, 0, 0, 0, 1, 1, 0, 1, 1, 1, 1, 0, 0, 0, 1, 0, 1, 1, 1, 0, 1, 1, 1, 1, 0, 0, 0, 1, 0, 1, 0, 0, 1, 1, 0, 0, 1, 0, 1, 1, 0, 1, 1, 0, 0, 0, 0, 0, 0, 1, 1, 1, 1, 0, 0, 1, 1, 1, 0, 0, 1, 0, 0, 0, 0, 0, 0, 0, 0, 1, 1, 1, 1, 1, 0, 1, 1, 0, 0, 0, 1, 1, 1, 1, 1, 1, 1, 0, 0, 0, 1, 1, 0, 0, 0, 0, 0, 1, 1, 1, 0, 0, 0, 0, 1, 0, 0, 1, 1, 0, 0, 0, 0, 0, 1, 1, 1, 0, 1, 0, 1, 0, 0, 0, 1, 0, 0, 0, 1, 0, 1, 1, 0, 1, 1, 0, 1, 1, 0, 0, 1, 1, 1, 1, 0, 1, 1, 1, 1, 0, 1, 0, 1, 1, 0, 1, 0, 0, 1, 0, 1, 0, 0, 0, 0, 0, 0, 0, 1, 1, 1, 0, 0, 1, 1, 0, 0, 0, 1, 1, 1, 0, 0, 1, 0, 0, 0, 0, 1, 0, 0, 0, 0, 0, 1, 0, 0, 0, 0, 0, 1, 0, 1, 0, 0, 0, 1, 0, 0, 1, 0, 0, 0, 0, 0, 1, 1, 0, 0, 0, 1, 1, 1, 0, 0, 1, 1, 0, 0, 1, 0, 0, 0, 0, 1, 0, 1, 1, 0, 0, 1, 1, 0, 0, 1, 0, 1, 1, 1, 0, 0, 1, 1, 1, 1, 0, 0, 0, 0, 1, 0, 0, 1, 0, 1, 1, 0, 1, 1, 0, 0, 0, 0, 0, 0, 0, 1, 1, 1, 0, 1, 1, 1, 0, 0, 0, 0, 0, 1, 0, 1, 1, 0, 0, 1, 0, 0, 0, 0, 1, 0, 1, 1, 0, 0, 1, 1, 1, 1, 1, 0, 1, 0, 0, 0, 1, 0, 1, 0, 0, 1, 0, 0, 1, 1, 1, 0, 1, 0, 0, 0, 1, 0, 1, 0, 0, 1, 0, 1, 1, 1, 0, 0, 0, 0, 1, 1, 0, 1, 0, 0, 0, 0, 1, 0, 1, 0, 0, 1, 1, 0, 0, 1, 1, 0, 0, 1, 1, 0, 0, 0, 1, 1, 1, 0, 0, 0, 0, 0, 0, 0, 1, 1, 1, 0, 1, 0, 0, 1, 1, 0, 0, 1, 0, 1, 0, 1, 0, 0, 1, 1, 1, 0, 0, 0, 0, 0, 1, 0, 1, 0, 1, 0, 0, 0, 1, 1, 1, 0, 0, 0, 1, 0, 0, 0, 1, 1, 0, 0, 0, 0, 1, 0, 0, 0, 1, 0, 0, 0, 1, 0, 1, 0, 0, 0, 0, 0, 1, 0, 0, 0, 0, 0, 1, 0, 0, 1, 0, 0, 1, 1, 1, 0, 1, 0, 0, 0, 1, 1, 1, 0, 0, 1, 1, 0, 0, 1, 0, 0, 1, 0, 0, 0, 0, 1, 1, 1, 0, 1, 1, 1, 0, 0, 0, 1, 1, 1, 1, 0, 0, 0, 1, 1, 1, 0, 0, 1, 1, 1, 1, 1, 0, 0, 0, 0, 0, 0, 0, 1, 0, 0, 0, 0, 1, 0, 0, 1, 1, 0, 1, 1, 1, 1, 0, 0, 1, 1, 0, 1, 0, 0, 1, 0, 0, 1, 0, 0, 1, 1, 1, 0, 0, 0, 0, 0, 0, 0, 0, 0, 1, 0, 1, 0, 0, 0, 1, 0, 1, 0, 1, 1, 1, 0, 1, 1, 0, 0, 0, 0, 1, 0, 1, 1, 0, 0, 1, 1, 1, 0, 1, 1, 0, 1, 1, 1, 0, 0, 0, 0, 1, 1, 0, 0, 1, 1, 0, 0, 1, 0, 1, 0, 0, 1, 1, 0, 0, 0, 1, 0, 0, 0, 1, 0, 0, 1, 0, 0, 0, 1, 0, 0, 1, 1, 1, 1, 0, 0, 0, 0, 0, 0, 0, 1, 0, 0, 0, 1, 0, 0, 0, 0, 1, 0, 0, 1, 0, 1, 1, 0, 1, 0, 0, 0, 1, 0, 0, 0, 1, 0, 1, 0, 1, 0, 1, 0, 0, 0, 0, 0, 0, 0, 0, 0, 1, 0, 0, 1, 0, 0, 0, 0, 0, 0, 0, 1, 1, 1, 0, 0, 1, 0, 0, 1, 1, 0, 1, 1, 0, 1, 0, 1, 0, 0, 0, 0, 1, 0, 1, 0, 1, 1, 0, 1, 0, 1, 0, 0, 0, 0, 1, 1, 1, 1, 1, 0, 1, 0, 0, 0, 0, 0, 1, 0, 0, 0, 0, 1, 0, 0, 0, 0, 0, 0, 0, 1, 0, 0, 0, 0, 0, 1, 1, 0, 0, 0, 0, 1, 0, 0, 0, 1, 1, 1, 1, 1, 1, 0, 0, 1, 0, 1, 1, 0, 0, 0, 1, 1, 0, 1, 0, 0, 0, 1, 1, 0, 0, 0, 1, 1, 0, 0, 1, 0, 0, 0, 0, 1, 0, 0, 0, 1, 1, 0, 0, 1, 1, 0, 0, 0, 1, 0, 0, 1, 0, 0, 0, 0, 1, 0, 0, 1, 0, 1, 1, 1, 0, 0, 1, 0, 0, 1, 0, 0, 0, 0, 1, 1, 0, 0, 0, 0, 0, 1, 1, 1, 1, 0, 0, 1, 0, 0, 0, 1, 0, 0, 0, 1, 1, 1, 0, 1, 1, 1, 0, 1, 0, 0, 1, 0, 0, 1, 0, 0, 0, 0, 1, 1, 0, 0, 1, 0, 1, 0, 0, 0, 1, 0, 0, 1, 0, 0, 0, 0, 0, 1, 0, 1, 1, 1, 0, 0, 1, 1, 1, 0, 0, 0, 1, 0, 1, 1, 0, 0, 1, 0, 1, 0, 1, 0, 1, 0, 0, 0, 0, 1, 0, 1, 1, 0, 1, 0, 0, 1, 0, 1, 0, 1, 0, 0, 1, 0, 1, 1, 0, 1, 1, 0, 0, 0, 0, 0, 1, 1, 0, 1, 0, 1, 1, 1, 1, 1, 0, 1, 1, 0, 1, 0, 1, 0, 1, 0, 1, 1, 0, 0, 0, 0, 0, 1, 0, 0, 1, 1, 1, 0, 1, 0, 0, 0, 0, 1, 0, 1, 0, 1, 0, 0, 0, 0, 1, 0, 0, 0, 0, 0, 0, 0, 0, 0, 0, 0, 1, 0, 1, 1, 0, 0, 0, 0, 0, 0, 1, 0, 1, 0, 0, 1, 0, 1, 0, 0, 1, 1, 1, 1, 0, 0, 0, 0, 0, 1, 0, 0, 0, 1, 1, 1, 1, 0, 0, 1, 0, 0, 0, 1, 0, 0, 0, 1, 1, 1, 0, 1, 1, 1, 1, 0, 0, 0, 0, 0, 0, 1, 0, 0, 0, 1, 1, 0, 0, 1, 0, 1, 1, 0, 1, 0, 0, 1, 0, 1, 0, 0, 1, 0, 1, 0, 0, 1, 1, 1, 1, 1, 0, 0, 1, 1, 0, 1, 1, 0, 0, 1, 1, 0, 0, 1, 0, 1, 0, 0, 1, 0, 1, 0, 0, 0, 0, 0, 1, 0, 0, 0, 0, 0, 1, 0, 1, 0, 0, 1, 0, 1, 1, 1, 0, 0, 0, 1, 0, 1, 1, 0, 0, 0, 0, 1, 0, 1, 1, 0, 0, 0, 0, 0, 1, 1, 0, 0, 1, 0, 0, 1, 1, 0, 1, 1, 1, 0, 0, 0, 0, 0, 1, 0, 0, 0, 1, 0, 0, 0, 0, 0, 0, 1, 1, 0, 0, 1, 1, 0, 1, 0, 0, 1, 0, 1, 0, 0, 0, 1, 1, 1, 0, 1, 1, 0, 0, 0, 1, 1, 1, 0, 1, 0, 1, 0, 0, 1, 0, 0, 0, 1, 0, 0, 1, 1, 1, 0, 0, 1, 1, 0, 0, 0, 1, 0, 0, 0, 1, 1, 1, 0, 0, 0, 0, 1, 0, 1, 0, 1, 0, 1, 1, 0, 0, 1, 1, 1, 0, 1, 0, 0, 0, 1, 0, 1, 1, 0, 0, 0, 1, 1, 0, 0, 0, 0, 1, 1, 1, 1, 0, 0, 1, 1, 0, 1, 1, 0, 1, 1, 1, 0, 0, 0, 0, 1, 0, 0, 1, 0, 1, 1, 1, 0, 0, 1, 0, 0, 0, 0, 0, 1, 1, 0, 0, 0, 0, 0, 0, 1, 1, 1, 0, 0, 0, 0, 1, 1, 1, 1, 1, 1, 1, 0, 0, 1, 0, 1, 0, 0, 0, 1, 1, 0, 1, 0, 0, 0, 0, 0, 0, 1, 0, 0, 1, 0, 1, 0, 1, 0, 0, 0, 1, 1, 0, 1, 1, 0, 1, 1, 0, 0, 0, 1, 0, 0, 1, 0, 1, 1, 1, 0, 0, 1, 0, 1, 1, 0, 0, 0, 1, 0, 1, 0, 0, 0, 1, 1, 0, 0, 0, 1, 0, 0, 0, 1, 1, 0, 0, 1, 0, 0, 0, 1, 1, 1, 1, 1, 1, 1, 1, 0, 1, 1, 1, 1, 0, 1, 1, 0, 1, 1, 1, 0, 1, 0, 0, 1, 0, 0, 1, 0, 0, 1, 0, 1, 0, 0, 0, 0, 0, 1, 1, 1, 0, 1, 0, 0, 0, 1, 1, 1, 0, 1, 0, 0, 1, 0, 0, 1, 0, 0, 0, 1, 0, 0, 0, 0, 0, 1, 1, 0, 0, 1, 0, 1, 1, 0, 1, 1, 0, 1, 0, 1, 1, 0, 1, 1, 1, 0, 0, 1, 0, 0, 0, 0, 1, 0, 0, 1, 0, 1, 0, 0, 0, 0, 0, 1, 0, 1, 1, 1, 1, 1, 1, 1, 1, 1, 0, 1, 1, 0, 1, 0, 0, 0, 0, 0, 0, 1, 1, 0, 0, 0, 0, 1, 1, 1, 0, 1, 0, 0, 0, 1, 0, 1, 1, 0, 0, 0, 1, 0, 0, 0, 0, 1, 0, 1, 1, 1, 1, 0, 0, 0, 0, 1, 1, 0, 0, 0, 0, 0, 0, 0, 0, 0, 0, 1, 0, 1, 0, 1, 1, 0, 1, 0, 1, 0, 1, 1, 0, 1, 0, 0, 1, 1, 1, 0, 1, 0, 1, 1, 0, 0, 0, 0, 1, 0, 1, 0, 0, 0, 0, 1, 0, 0, 0, 1, 0, 0, 1, 0, 0, 0, 0, 0, 1, 1, 1, 1, 0, 1, 0, 0, 1, 1, 0, 0, 1, 1, 0, 0, 0, 1, 0, 1, 0, 0, 0, 1, 0, 1, 1, 0, 1, 0, 1, 1, 0, 0, 0, 0, 0, 0, 0, 0, 0, 1, 0, 0, 1, 1, 1, 0, 1, 1, 1, 0, 0, 1, 0, 1, 1, 0, 0, 1, 0, 1, 0, 0, 0, 0, 0, 0, 0, 1, 1, 1, 0, 0, 1, 1, 0, 0, 1, 0, 0, 0, 0, 1, 0, 0, 1, 0, 1, 1, 1, 0, 1, 1, 1, 1, 0, 1, 0, 0, 0, 0, 1, 1, 0, 1, 0, 1, 0, 0, 1, 1, 0, 1, 0, 0, 0, 1, 0, 1, 1, 0, 0, 0, 1, 1, 1, 1, 1, 1, 0, 0, 0, 1, 0, 1, 1, 0, 0, 0, 1, 0, 1, 1, 0, 0, 1, 1, 0, 0, 0, 0, 1, 1, 1, 0, 1, 0, 0, 0, 1, 0, 0, 0, 1, 0, 1, 1, 0, 0, 0, 0, 1, 0, 1, 1, 0, 0, 0, 1, 1, 1, 0, 1, 1, 1, 0, 0, 0, 1, 1, 1, 0, 0, 1, 0, 0, 1, 1, 1, 0, 0, 1, 1, 1, 1, 1, 1, 0, 0, 0, 1, 1, 0, 1, 0, 0, 0, 1, 0, 0, 0, 0, 0, 1, 0, 1, 1, 0, 0, 1, 1, 1, 0, 1, 1, 0, 1, 0, 0, 0, 1, 1, 1, 0, 1, 0, 1, 0, 0, 0, 0, 1, 0, 0, 0, 1, 1, 0, 0, 0, 0, 0, 1, 0, 1, 0, 0, 1, 1, 1, 0, 1, 1, 1, 0, 0, 1, 1, 1, 0, 1, 0, 0, 1, 0, 1, 0, 0, 0, 0, 0, 0, 0, 0, 1, 0, 1, 1, 1, 0, 0, 1, 0, 1, 0, 1, 1, 1, 1, 0, 0, 1, 1, 1, 1, 1, 0, 1, 1, 0, 1, 1, 0, 1, 0, 1, 1, 1, 0, 1, 1, 0, 1, 1, 1, 1, 0, 1, 0, 0, 1, 0, 1, 1, 0, 0, 1, 0, 1, 0, 0, 1, 0, 0, 0, 1, 0, 1, 0, 0, 0, 0, 0, 1, 1, 0, 1, 1, 1, 1, 0, 0, 0, 1, 0, 0, 0, 0, 0, 1, 1, 0, 1, 0, 1, 1, 1, 0, 0, 1, 0, 0, 0, 0, 0, 0, 1, 0, 0, 1, 1, 0, 1, 1, 0, 0, 0, 1, 1, 1, 1, 0, 1, 0, 0, 1, 0, 0, 1, 1, 1, 0, 0, 0, 0, 0, 0, 1, 0, 0, 1, 1, 0, 1, 1, 0, 0, 0, 1, 0, 0, 1, 0, 1, 0, 1, 0, 0, 1, 0, 0, 0, 0, 0, 0, 0, 0, 1, 0, 0, 1, 1, 0, 0, 0, 1, 1, 0, 0, 0, 1, 0, 0, 0, 1, 1, 1, 0, 0, 1, 0, 1, 0, 0, 1, 0, 0, 0, 0, 0, 0, 0, 0, 1, 0, 0, 0, 0, 0, 0, 1, 0, 1, 1, 1, 0, 1, 1, 1, 0, 1, 1, 0, 1, 1, 1, 0, 1, 0, 0, 0, 0, 0, 0, 0, 0, 1, 1, 1, 1, 0, 1, 0, 1, 0, 0, 0, 1, 1, 1, 0, 1, 0, 0, 0, 1, 1, 0, 0, 1, 0, 1, 0, 0, 0, 1, 0, 0, 0, 0, 1, 0, 1, 1, 1, 0, 1, 1, 0, 0, 1, 0, 0, 0, 0, 0, 0, 0, 1, 1, 1, 1, 0, 1, 1, 0, 0, 1, 1, 1, 1, 0, 0, 0, 1, 1, 1, 0, 1, 0, 0, 0, 0, 1, 1, 0, 0, 1, 1, 0, 0, 0, 1, 1, 1, 0, 0, 0, 0, 0, 1, 1, 1, 1, 1, 0, 0, 1, 0, 0, 0, 1, 1, 0, 0, 1, 0, 0, 0, 1, 1, 0, 0, 0, 1, 1, 0, 0, 0, 1, 1, 1, 1, 1, 0, 0, 0, 0, 1, 1, 0, 0, 0, 1, 0, 0, 1, 1, 0, 0, 0, 1, 1, 0, 1, 0, 1, 0, 1, 0, 1, 1, 1, 0, 0, 1, 0, 1, 1, 0, 1, 0, 1, 1, 1, 0, 0, 0, 0, 0, 1, 0, 0, 0, 1, 1, 0, 1, 0, 0, 0, 1, 1, 1, 0, 1, 0, 0, 0, 0, 0, 0, 0, 0, 1, 0, 0, 1, 0, 0, 1, 0, 1, 0, 1, 0, 0, 0, 1, 0, 1, 1, 1, 0, 0, 0, 1, 0, 1, 0, 1, 0, 1, 0, 1, 0, 1, 0, 0, 0, 0, 1, 0, 0, 0, 0, 0, 1, 0, 1, 1, 1, 0, 1, 0, 1, 1, 0, 0, 0, 0, 0, 1, 0, 0, 0, 0, 0, 1, 1, 1, 0, 1, 0, 0, 0, 0, 1, 1, 1, 1, 1, 0, 0, 0, 0, 0, 0, 1, 0, 1, 1, 0, 0, 1, 1, 1, 1, 1, 0, 0, 0, 0, 0, 1, 0, 1, 1, 1, 0, 0, 0, 1, 0, 0, 1, 0, 0, 0, 0, 0, 0, 1, 1, 0, 0, 0, 1, 0, 0, 1, 0, 1, 0, 0, 0, 0, 0, 0, 0, 0, 0, 0, 1, 0, 0, 1, 1, 1, 1, 0, 0, 0, 0, 0, 0, 0, 1, 0, 1, 1, 0, 1, 0, 1, 0, 1, 1, 0, 0, 1, 0, 1, 1, 0, 0, 0, 1, 0, 0, 0, 1, 0, 0, 1, 1, 1, 0, 1, 0, 1, 1, 0, 0, 0, 1, 0, 0, 1, 1, 0, 1, 0, 0, 1, 0, 0, 0, 1, 1, 0, 1, 1, 0, 0, 0, 1, 0, 1, 1, 0, 0, 0, 0, 0, 1, 0, 1, 1, 0, 0, 0, 0, 1, 1, 1, 0, 0, 0, 0, 0, 0, 1, 0, 0, 0, 0, 1, 1, 0, 0, 0, 0, 0, 1, 0, 0, 0, 0, 1, 1, 1, 0, 1, 1, 1, 0, 0, 1, 0, 1, 1, 0, 1, 1, 1, 1, 1, 1, 0, 1, 0, 1, 0, 1, 0, 1, 0, 0, 0, 1, 0, 0, 0, 0, 1, 1, 0, 1, 0, 0, 0, 0, 0, 0, 0, 0, 0, 1, 0, 0, 0, 1, 1, 0, 0, 0, 1, 1, 1, 1, 1, 0, 0, 1, 1, 1, 0, 0, 1, 1, 1, 0, 0, 1, 0, 0, 0, 1, 0, 1, 1, 0, 1, 0, 1, 0, 0, 0, 0, 0, 1, 0, 0, 1, 0, 1, 1, 0, 1, 0, 0, 0, 0, 0, 0, 0, 1, 0, 1, 1, 0, 1, 0, 1, 1, 0, 0, 0, 1, 0, 0, 0, 0, 0, 0, 0, 0, 1, 0, 1, 0, 1, 1, 1, 0, 0, 0, 1, 0, 1, 0, 1, 0, 0, 1, 0, 0, 1, 1, 1, 1, 0, 1, 0, 1, 1, 0, 0, 0, 0, 1, 1, 1, 1, 1, 1, 0, 1, 1, 0, 0, 1, 1, 1, 1, 1, 1, 1, 0, 1, 0, 1, 0, 1, 1, 1, 1, 0, 0, 0, 0, 0, 0, 0, 0, 0, 0, 0, 1, 0, 1, 0, 1, 0, 0, 0, 0, 0, 0, 0, 1, 0, 1, 1, 1, 0, 1, 0, 1, 1, 1, 0, 1, 0, 0, 0, 0, 0, 0, 1, 0, 0, 0, 1, 0, 0, 1, 1, 1, 1, 0, 1, 0, 1, 0, 0, 1, 0, 1, 1, 0, 1, 0, 0, 0, 1, 0, 1, 1, 1, 1, 0, 0, 1, 1, 0, 0, 1, 1, 0, 1, 0, 0, 1, 0, 0, 0, 0, 1, 0, 1, 0, 0, 0, 1, 1, 0, 1, 0, 1, 0, 0, 0, 1, 1, 1, 0, 1, 1, 0, 1, 0, 0, 0, 0, 0, 1, 1, 0, 0, 0, 1, 0, 0, 0, 0, 0, 0, 0, 1, 0, 0, 0, 1, 1, 1, 0, 1, 0, 1, 1, 0, 1, 0, 1, 1, 0, 1, 0, 1, 0, 1, 0, 0, 1, 0, 0, 0, 0, 0, 0, 1, 0, 1, 1, 1, 1, 0, 1, 1, 1, 1, 1, 0, 1, 0, 0, 0, 0, 1, 0, 0, 0, 0, 1, 0, 0, 1, 0, 1, 0, 0, 0, 0, 1, 0, 1, 1, 1, 0, 1, 0, 0, 1, 0, 1, 0, 1, 1, 1, 0, 0, 0, 0, 0, 1, 0, 0, 1, 1, 0, 0, 1, 1, 1, 0, 1, 1, 1, 0, 0, 0, 1, 1, 0, 1, 0, 1, 0, 0, 0, 1, 1, 0, 0, 0, 0, 0, 0, 1, 1, 0, 1, 0, 1, 1, 0, 0, 0, 1, 0, 1, 1, 1, 1, 0, 1, 0, 0, 0, 1, 0, 0, 1, 0, 0, 1, 1, 0, 1, 0, 1, 1, 1, 0, 0, 1, 0, 0, 0, 0, 1, 0, 0, 0, 1, 0, 0, 0, 0, 1, 0, 0, 0, 1, 0, 0, 0, 1, 0, 0, 0, 0, 0, 1, 0, 1, 0, 0, 0, 1, 0, 1, 1, 0, 0, 0, 0, 0, 0, 1, 1, 0, 0, 1, 0]\n"
          ],
          "name": "stdout"
        }
      ]
    },
    {
      "cell_type": "code",
      "metadata": {
        "colab": {
          "base_uri": "https://localhost:8080/"
        },
        "id": "edZ_OnuEQiDq",
        "outputId": "f017482f-17b9-4736-b859-82a20575cc84"
      },
      "source": [
        "from sklearn.metrics import confusion_matrix,accuracy_score\n",
        "cm = confusion_matrix(y_test,y_pred)\n",
        "print(cm)\n",
        "print(accuracy_score(y_test,y_pred))"
      ],
      "execution_count": 16,
      "outputs": [
        {
          "output_type": "stream",
          "text": [
            "[[2975    0]\n",
            " [   0 2136]]\n",
            "1.0\n"
          ],
          "name": "stdout"
        }
      ]
    },
    {
      "cell_type": "code",
      "metadata": {
        "id": "6Nem-AzqRIzq"
      },
      "source": [
        ""
      ],
      "execution_count": 16,
      "outputs": []
    }
  ]
}