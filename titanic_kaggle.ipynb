{
  "nbformat": 4,
  "nbformat_minor": 0,
  "metadata": {
    "colab": {
      "name": "titanic_kaggle.ipynb",
      "provenance": [],
      "collapsed_sections": [],
      "authorship_tag": "ABX9TyNPX94g6hKYTkOzKhlBgSaF",
      "include_colab_link": true
    },
    "kernelspec": {
      "name": "python3",
      "display_name": "Python 3"
    }
  },
  "cells": [
    {
      "cell_type": "markdown",
      "metadata": {
        "id": "view-in-github",
        "colab_type": "text"
      },
      "source": [
        "<a href=\"https://colab.research.google.com/github/shila121/projects/blob/main/titanic_kaggle.ipynb\" target=\"_parent\"><img src=\"https://colab.research.google.com/assets/colab-badge.svg\" alt=\"Open In Colab\"/></a>"
      ]
    },
    {
      "cell_type": "code",
      "metadata": {
        "id": "TJr3K4TgkogB"
      },
      "source": [
        ""
      ],
      "execution_count": null,
      "outputs": []
    },
    {
      "cell_type": "markdown",
      "metadata": {
        "id": "lDAuADKz72Jt"
      },
      "source": [
        "# 1.Framing the Problem Statement\r\n",
        "Here we are trying to predict which customers will buy the banking products or not. Target variable is 'Survived'"
      ]
    },
    {
      "cell_type": "code",
      "metadata": {
        "id": "5o-AKQsV75NF"
      },
      "source": [
        ""
      ],
      "execution_count": null,
      "outputs": []
    },
    {
      "cell_type": "markdown",
      "metadata": {
        "id": "fXehYckG78i_"
      },
      "source": [
        "# 2.Data Analysis\r\n",
        "we will try to understand the data by following ways\r\n",
        "\r\n",
        "1.   hypothesis testing\r\n",
        "2.   univariate/bivariate analysis\r\n",
        "3.   missing data\r\n",
        "4.   numerical data\r\n",
        "5.   outliers\r\n",
        "6.   categorical data\r\n",
        "\r\n",
        "\r\n",
        "\r\n",
        "\r\n",
        "\r\n"
      ]
    },
    {
      "cell_type": "code",
      "metadata": {
        "id": "EWPWwm_e790g"
      },
      "source": [
        ""
      ],
      "execution_count": null,
      "outputs": []
    },
    {
      "cell_type": "markdown",
      "metadata": {
        "id": "9gNhyGyK8anN"
      },
      "source": [
        "# Step 1:Hypothesis testing"
      ]
    },
    {
      "cell_type": "code",
      "metadata": {
        "colab": {
          "base_uri": "https://localhost:8080/"
        },
        "id": "OIaC6zyw8cLn",
        "outputId": "9bad2526-97e6-423e-e9a9-18c3b3df3daf"
      },
      "source": [
        "# import the libraries\r\n",
        "\r\n",
        "import pandas as pd\r\n",
        "import numpy as np\r\n",
        "import matplotlib.pyplot as plt\r\n",
        "\r\n",
        "# import dataset\r\n",
        "\r\n",
        "train = pd.read_csv('train.csv')\r\n",
        "test = pd.read_csv('test.csv')\r\n",
        "\r\n",
        "print('train shape:',train.shape)\r\n",
        "print('test shape:',test.shape)\r\n",
        "\r\n",
        "print('train columns:',train.columns)\r\n",
        "print('test columns:',test.columns)\r\n",
        "train['source']='train'\r\n",
        "test['source']='test'\r\n",
        "\r\n",
        "# combined dataset\r\n",
        "data = pd.concat((train,test),sort=False).reset_index(drop=True)\r\n",
        "# data = train.copy()\r\n",
        "print(data.columns,data.shape)\r\n",
        "\r\n",
        "\r\n",
        "print('data visualization')\r\n",
        "print('*'*80)\r\n",
        "print(data.head())\r\n",
        "print(data.columns,len(data.columns))\r\n",
        "print(data.shape)\r\n",
        "print('*'*80)\r\n",
        "\r\n",
        "# get the categorical columns from the data\r\n",
        "catCols = data.select_dtypes('object').columns\r\n",
        "print('categorical columns',catCols,len(catCols))\r\n",
        "print('*'*80)\r\n",
        "\r\n",
        "\r\n",
        "# get numerical columns from the data\r\n",
        "numCols = data.select_dtypes('number').columns\r\n",
        "print('numeric columns',numCols,len(numCols))\r\n",
        "print('*'*80)\r\n",
        "\r\n",
        "print(data['Survived'].unique())\r\n"
      ],
      "execution_count": 1,
      "outputs": [
        {
          "output_type": "stream",
          "text": [
            "train shape: (891, 12)\n",
            "test shape: (418, 11)\n",
            "train columns: Index(['PassengerId', 'Survived', 'Pclass', 'Name', 'Sex', 'Age', 'SibSp',\n",
            "       'Parch', 'Ticket', 'Fare', 'Cabin', 'Embarked'],\n",
            "      dtype='object')\n",
            "test columns: Index(['PassengerId', 'Pclass', 'Name', 'Sex', 'Age', 'SibSp', 'Parch',\n",
            "       'Ticket', 'Fare', 'Cabin', 'Embarked'],\n",
            "      dtype='object')\n",
            "Index(['PassengerId', 'Survived', 'Pclass', 'Name', 'Sex', 'Age', 'SibSp',\n",
            "       'Parch', 'Ticket', 'Fare', 'Cabin', 'Embarked', 'source'],\n",
            "      dtype='object') (1309, 13)\n",
            "data visualization\n",
            "********************************************************************************\n",
            "   PassengerId  Survived  Pclass  ... Cabin Embarked  source\n",
            "0            1       0.0       3  ...   NaN        S   train\n",
            "1            2       1.0       1  ...   C85        C   train\n",
            "2            3       1.0       3  ...   NaN        S   train\n",
            "3            4       1.0       1  ...  C123        S   train\n",
            "4            5       0.0       3  ...   NaN        S   train\n",
            "\n",
            "[5 rows x 13 columns]\n",
            "Index(['PassengerId', 'Survived', 'Pclass', 'Name', 'Sex', 'Age', 'SibSp',\n",
            "       'Parch', 'Ticket', 'Fare', 'Cabin', 'Embarked', 'source'],\n",
            "      dtype='object') 13\n",
            "(1309, 13)\n",
            "********************************************************************************\n",
            "categorical columns Index(['Name', 'Sex', 'Ticket', 'Cabin', 'Embarked', 'source'], dtype='object') 6\n",
            "********************************************************************************\n",
            "numeric columns Index(['PassengerId', 'Survived', 'Pclass', 'Age', 'SibSp', 'Parch', 'Fare'], dtype='object') 7\n",
            "********************************************************************************\n",
            "[ 0.  1. nan]\n"
          ],
          "name": "stdout"
        }
      ]
    },
    {
      "cell_type": "code",
      "metadata": {
        "colab": {
          "base_uri": "https://localhost:8080/"
        },
        "id": "JJk-230Q8_5P",
        "outputId": "1c417e4c-a3ab-4840-dc92-66304f27b0ee"
      },
      "source": [
        "# we will carry out z-test on the numerical columns to know their impact\r\n",
        "from statsmodels.stats import weightstats as stests\r\n",
        "\r\n",
        "significant_numCols,in_significant_numCols = [],[]\r\n",
        "\r\n",
        "for i in numCols:\r\n",
        "  p_val = stests.ztest(data[i],data.Survived)\r\n",
        "  p_val = p_val[1]\r\n",
        "  print('column:',i,'p_val:',p_val)\r\n",
        "  if p_val < 0.05:\r\n",
        "    status = \"Reject Null Hypothesis,Significant predictor\"\r\n",
        "    print('status',status)\r\n",
        "    print('*'*80)\r\n",
        "    significant_numCols.append(i)\r\n",
        "  else:\r\n",
        "    status = 'Accept Null Hypothesis,Insignificant predictor'\r\n",
        "    print('status',status)\r\n",
        "    in_significant_numCols.append(i)\r\n",
        "    print('*'*80)\r\n",
        "\r\n",
        "print('significant numeric columns:',significant_numCols,len(significant_numCols))\r\n",
        "print('in_significant numeric columns:',in_significant_numCols,len(in_significant_numCols))"
      ],
      "execution_count": 2,
      "outputs": [
        {
          "output_type": "stream",
          "text": [
            "/usr/local/lib/python3.6/dist-packages/statsmodels/tools/_testing.py:19: FutureWarning: pandas.util.testing is deprecated. Use the functions in the public API at pandas.testing instead.\n",
            "  import pandas.util.testing as tm\n"
          ],
          "name": "stderr"
        },
        {
          "output_type": "stream",
          "text": [
            "column: PassengerId p_val: nan\n",
            "status Accept Null Hypothesis,Insignificant predictor\n",
            "********************************************************************************\n",
            "column: Survived p_val: nan\n",
            "status Accept Null Hypothesis,Insignificant predictor\n",
            "********************************************************************************\n",
            "column: Pclass p_val: nan\n",
            "status Accept Null Hypothesis,Insignificant predictor\n",
            "********************************************************************************\n",
            "column: Age p_val: nan\n",
            "status Accept Null Hypothesis,Insignificant predictor\n",
            "********************************************************************************\n",
            "column: SibSp p_val: nan\n",
            "status Accept Null Hypothesis,Insignificant predictor\n",
            "********************************************************************************\n",
            "column: Parch p_val: nan\n",
            "status Accept Null Hypothesis,Insignificant predictor\n",
            "********************************************************************************\n",
            "column: Fare p_val: nan\n",
            "status Accept Null Hypothesis,Insignificant predictor\n",
            "********************************************************************************\n",
            "significant numeric columns: [] 0\n",
            "in_significant numeric columns: ['PassengerId', 'Survived', 'Pclass', 'Age', 'SibSp', 'Parch', 'Fare'] 7\n"
          ],
          "name": "stdout"
        }
      ]
    },
    {
      "cell_type": "code",
      "metadata": {
        "colab": {
          "base_uri": "https://localhost:8080/"
        },
        "id": "Rhs_BZrE-d_2",
        "outputId": "9cac4f52-ef5f-433d-cbe7-8c77db00be03"
      },
      "source": [
        "# wew will carry out chi-square test on categorical columns to know the significance\r\n",
        "\r\n",
        "significant_catCols,in_significant_catCols = [],[]\r\n",
        "\r\n",
        "from scipy.stats import chi2_contingency\r\n",
        "\r\n",
        "for i in catCols:\r\n",
        "  if i != 'Survived':\r\n",
        "    stat,p_val,dof,ex = chi2_contingency(pd.crosstab(data[i],data.Survived))\r\n",
        "    print('column:',i,',p_val:',p_val)\r\n",
        "    if p_val < 0.05:\r\n",
        "      status = \"Reject Null Hypothesis,Significant predictor\"\r\n",
        "      print('status',status)\r\n",
        "      print('*'*80)\r\n",
        "      significant_catCols.append(i)\r\n",
        "    else:\r\n",
        "      status = 'Accept Null Hypothesis,Insignificant predictor'\r\n",
        "      print('status',status)\r\n",
        "      in_significant_catCols.append(i)\r\n",
        "      print('*'*80)\r\n",
        "\r\n",
        "print('significant categorical columns:',significant_catCols,len(significant_catCols))\r\n",
        "print('in_significant categorical columns:',in_significant_catCols,len(in_significant_catCols))"
      ],
      "execution_count": 3,
      "outputs": [
        {
          "output_type": "stream",
          "text": [
            "column: Name ,p_val: 0.484248151973633\n",
            "status Accept Null Hypothesis,Insignificant predictor\n",
            "********************************************************************************\n",
            "column: Sex ,p_val: 1.1973570627755645e-58\n",
            "status Reject Null Hypothesis,Significant predictor\n",
            "********************************************************************************\n",
            "column: Ticket ,p_val: 0.01152729601163775\n",
            "status Reject Null Hypothesis,Significant predictor\n",
            "********************************************************************************\n",
            "column: Cabin ,p_val: 0.18357354976388165\n",
            "status Accept Null Hypothesis,Insignificant predictor\n",
            "********************************************************************************\n",
            "column: Embarked ,p_val: 1.769922284120912e-06\n",
            "status Reject Null Hypothesis,Significant predictor\n",
            "********************************************************************************\n",
            "column: source ,p_val: 1.0\n",
            "status Accept Null Hypothesis,Insignificant predictor\n",
            "********************************************************************************\n",
            "significant categorical columns: ['Sex', 'Ticket', 'Embarked'] 3\n",
            "in_significant categorical columns: ['Name', 'Cabin', 'source'] 3\n"
          ],
          "name": "stdout"
        }
      ]
    },
    {
      "cell_type": "code",
      "metadata": {
        "id": "zcK03FeM_CWi"
      },
      "source": [
        ""
      ],
      "execution_count": 3,
      "outputs": []
    },
    {
      "cell_type": "markdown",
      "metadata": {
        "id": "ZlOY1KZV_H9i"
      },
      "source": [
        "# Step 2:Univariate/Bivariate analysis"
      ]
    },
    {
      "cell_type": "code",
      "metadata": {
        "colab": {
          "base_uri": "https://localhost:8080/",
          "height": 1000
        },
        "id": "VYhyh13d_JLe",
        "outputId": "b29ac26f-9e86-4f05-9328-51791466a685"
      },
      "source": [
        "# univariate analysis of numeric columns with histogram and boxplot\r\n",
        "\r\n",
        "for i in numCols:\r\n",
        "  plt.subplot(1,2,1)\r\n",
        "  plt.hist(data[i],bins =50)\r\n",
        "  plt.xlabel(i)\r\n",
        "  plt.ylabel('unit')\r\n",
        "\r\n",
        "  plt.subplot(1,2,2)\r\n",
        "  plt.boxplot(data[i])\r\n",
        "  plt.xlabel(i)\r\n",
        "  plt.ylabel('unit')\r\n",
        "\r\n",
        "  plt.show()"
      ],
      "execution_count": 4,
      "outputs": [
        {
          "output_type": "display_data",
          "data": {
            "image/png": "[encoded data removed]",
            "text/plain": [
              "<Figure size 432x288 with 2 Axes>"
            ]
          },
          "metadata": {
            "tags": [],
            "needs_background": "light"
          }
        },
        {
          "output_type": "display_data",
          "data": {
            "image/png": "[encoded data removed]",
            "text/plain": [
              "<Figure size 432x288 with 2 Axes>"
            ]
          },
          "metadata": {
            "tags": [],
            "needs_background": "light"
          }
        },
        {
          "output_type": "display_data",
          "data": {
            "image/png": "[encoded data removed]",
            "text/plain": [
              "<Figure size 432x288 with 2 Axes>"
            ]
          },
          "metadata": {
            "tags": [],
            "needs_background": "light"
          }
        },
        {
          "output_type": "display_data",
          "data": {
            "image/png": "[encoded data removed]",
            "text/plain": [
              "<Figure size 432x288 with 2 Axes>"
            ]
          },
          "metadata": {
            "tags": [],
            "needs_background": "light"
          }
        },
        {
          "output_type": "display_data",
          "data": {
            "image/png": "[encoded data removed]",
            "text/plain": [
              "<Figure size 432x288 with 2 Axes>"
            ]
          },
          "metadata": {
            "tags": [],
            "needs_background": "light"
          }
        },
        {
          "output_type": "display_data",
          "data": {
            "image/png": "[encoded data removed]",
            "text/plain": [
              "<Figure size 432x288 with 2 Axes>"
            ]
          },
          "metadata": {
            "tags": [],
            "needs_background": "light"
          }
        },
        {
          "output_type": "display_data",
          "data": {
            "image/png": "[encoded data removed]",
            "text/plain": [
              "<Figure size 432x288 with 2 Axes>"
            ]
          },
          "metadata": {
            "tags": [],
            "needs_background": "light"
          }
        }
      ]
    },
    {
      "cell_type": "code",
      "metadata": {
        "colab": {
          "base_uri": "https://localhost:8080/"
        },
        "id": "3dNeKSQb_MWi",
        "outputId": "6823cf72-cb1c-4c1c-ccdf-0bc70be2148e"
      },
      "source": [
        "# noted that outliers are present in the data\r\n",
        "\r\n",
        "# univariate analysis of categorical columns with value counts\r\n",
        "\r\n",
        "for i in catCols:\r\n",
        "  print('column:',i)\r\n",
        "  print(data[i].value_counts())\r\n",
        "  print('*'*80)"
      ],
      "execution_count": 5,
      "outputs": [
        {
          "output_type": "stream",
          "text": [
            "column: Name\n",
            "Connolly, Miss. Kate                                               2\n",
            "Kelly, Mr. James                                                   2\n",
            "Torfa, Mr. Assad                                                   1\n",
            "Jefferys, Mr. Ernest Wilfred                                       1\n",
            "Cardeza, Mrs. James Warburton Martinez (Charlotte Wardle Drake)    1\n",
            "                                                                  ..\n",
            "Pulbaum, Mr. Franz                                                 1\n",
            "Silven, Miss. Lyyli Karoliina                                      1\n",
            "Bailey, Mr. Percy Andrew                                           1\n",
            "Theobald, Mr. Thomas Leonard                                       1\n",
            "Dahlberg, Miss. Gerda Ulrika                                       1\n",
            "Name: Name, Length: 1307, dtype: int64\n",
            "********************************************************************************\n",
            "column: Sex\n",
            "male      843\n",
            "female    466\n",
            "Name: Sex, dtype: int64\n",
            "********************************************************************************\n",
            "column: Ticket\n",
            "CA. 2343              11\n",
            "CA 2144                8\n",
            "1601                   8\n",
            "347077                 7\n",
            "PC 17608               7\n",
            "                      ..\n",
            "SOTON/O.Q. 3101262     1\n",
            "235509                 1\n",
            "PC 17613               1\n",
            "W./C. 14258            1\n",
            "240276                 1\n",
            "Name: Ticket, Length: 929, dtype: int64\n",
            "********************************************************************************\n",
            "column: Cabin\n",
            "C23 C25 C27        6\n",
            "G6                 5\n",
            "B57 B59 B63 B66    5\n",
            "C78                4\n",
            "F33                4\n",
            "                  ..\n",
            "B38                1\n",
            "A6                 1\n",
            "B86                1\n",
            "A11                1\n",
            "D56                1\n",
            "Name: Cabin, Length: 186, dtype: int64\n",
            "********************************************************************************\n",
            "column: Embarked\n",
            "S    914\n",
            "C    270\n",
            "Q    123\n",
            "Name: Embarked, dtype: int64\n",
            "********************************************************************************\n",
            "column: source\n",
            "train    891\n",
            "test     418\n",
            "Name: source, dtype: int64\n",
            "********************************************************************************\n"
          ],
          "name": "stdout"
        }
      ]
    },
    {
      "cell_type": "code",
      "metadata": {
        "colab": {
          "base_uri": "https://localhost:8080/",
          "height": 507
        },
        "id": "uiK3sqPeAbts",
        "outputId": "4ebbeada-6ca2-4645-e1f6-11469e0a676f"
      },
      "source": [
        "# Bi-variate analysis of numeric data by Co-relation matrix\r\n",
        "import seaborn as sns\r\n",
        "matrix = data.corr()\r\n",
        "print(matrix)\r\n",
        "\r\n",
        "sns.heatmap(matrix,annot = True)"
      ],
      "execution_count": 6,
      "outputs": [
        {
          "output_type": "stream",
          "text": [
            "             PassengerId  Survived    Pclass  ...     SibSp     Parch      Fare\n",
            "PassengerId     1.000000 -0.005007 -0.038354  ... -0.055224  0.008942  0.031428\n",
            "Survived       -0.005007  1.000000 -0.338481  ... -0.035322  0.081629  0.257307\n",
            "Pclass         -0.038354 -0.338481  1.000000  ...  0.060832  0.018322 -0.558629\n",
            "Age             0.028814 -0.077221 -0.408106  ... -0.243699 -0.150917  0.178740\n",
            "SibSp          -0.055224 -0.035322  0.060832  ...  1.000000  0.373587  0.160238\n",
            "Parch           0.008942  0.081629  0.018322  ...  0.373587  1.000000  0.221539\n",
            "Fare            0.031428  0.257307 -0.558629  ...  0.160238  0.221539  1.000000\n",
            "\n",
            "[7 rows x 7 columns]\n"
          ],
          "name": "stdout"
        },
        {
          "output_type": "execute_result",
          "data": {
            "text/plain": [
              "<matplotlib.axes._subplots.AxesSubplot at 0x7f8ef95d2e10>"
            ]
          },
          "metadata": {
            "tags": []
          },
          "execution_count": 6
        },
        {
          "output_type": "display_data",
          "data": {
            "image/png": "[encoded data removed]",
            "text/plain": [
              "<Figure size 432x288 with 2 Axes>"
            ]
          },
          "metadata": {
            "tags": [],
            "needs_background": "light"
          }
        }
      ]
    },
    {
      "cell_type": "code",
      "metadata": {
        "colab": {
          "base_uri": "https://localhost:8080/",
          "height": 1000
        },
        "id": "dV4IGeCUAihd",
        "outputId": "f444e448-5b11-4fea-8fe0-bafd8a8e81a6"
      },
      "source": [
        "# Bi-variate analysis of categorical columns\r\n",
        "\r\n",
        "for i in catCols:\r\n",
        "  category = pd.crosstab(data[i],data['Survived'])\r\n",
        "  category.div(category.sum(1).astype(float),axis =0 ).plot(kind = 'bar',stacked = True)\r\n",
        "  plt.show()"
      ],
      "execution_count": 7,
      "outputs": [
        {
          "output_type": "display_data",
          "data": {
            "image/png": "[encoded data removed]",
            "text/plain": [
              "<Figure size 432x288 with 1 Axes>"
            ]
          },
          "metadata": {
            "tags": [],
            "needs_background": "light"
          }
        },
        {
          "output_type": "display_data",
          "data": {
            "image/png": "[encoded data removed]",
            "text/plain": [
              "<Figure size 432x288 with 1 Axes>"
            ]
          },
          "metadata": {
            "tags": [],
            "needs_background": "light"
          }
        },
        {
          "output_type": "display_data",
          "data": {
            "image/png": "[encoded data removed]",
            "text/plain": [
              "<Figure size 432x288 with 1 Axes>"
            ]
          },
          "metadata": {
            "tags": [],
            "needs_background": "light"
          }
        },
        {
          "output_type": "display_data",
          "data": {
            "image/png": "[encoded data removed]",
            "text/plain": [
              "<Figure size 432x288 with 1 Axes>"
            ]
          },
          "metadata": {
            "tags": [],
            "needs_background": "light"
          }
        },
        {
          "output_type": "display_data",
          "data": {
            "image/png": "[encoded data removed]",
            "text/plain": [
              "<Figure size 432x288 with 1 Axes>"
            ]
          },
          "metadata": {
            "tags": [],
            "needs_background": "light"
          }
        },
        {
          "output_type": "display_data",
          "data": {
            "image/png": "[encoded data removed]",
            "text/plain": [
              "<Figure size 432x288 with 1 Axes>"
            ]
          },
          "metadata": {
            "tags": [],
            "needs_background": "light"
          }
        }
      ]
    },
    {
      "cell_type": "code",
      "metadata": {
        "id": "bv900VWUAozd"
      },
      "source": [
        ""
      ],
      "execution_count": 7,
      "outputs": []
    },
    {
      "cell_type": "markdown",
      "metadata": {
        "id": "yjNTiR3sAzmW"
      },
      "source": [
        "# Step 3:Missing Value"
      ]
    },
    {
      "cell_type": "code",
      "metadata": {
        "colab": {
          "base_uri": "https://localhost:8080/"
        },
        "id": "7Rxtk51QA0wt",
        "outputId": "b34ace37-0cac-4c3f-ff8f-44e4f1280d12"
      },
      "source": [
        "# lets analyse if there is any missing values\r\n",
        "\r\n",
        "#  drop the Survived as it is target and Id column as it is unique for eaach row and irrevelant in prediction\r\n",
        "# data.drop(['Survived'],axis =1,inplace = True)\r\n",
        "# data.drop(['PassengerId'],axis=1,inplace = True)\r\n",
        "# data.drop(['Name'],axis=1,inplace = True)\r\n",
        "print(data.columns,data.shape)\r\n",
        "print('Total size of data is:',data.shape)\r\n",
        "print(data.isnull().sum())"
      ],
      "execution_count": 8,
      "outputs": [
        {
          "output_type": "stream",
          "text": [
            "Index(['PassengerId', 'Survived', 'Pclass', 'Name', 'Sex', 'Age', 'SibSp',\n",
            "       'Parch', 'Ticket', 'Fare', 'Cabin', 'Embarked', 'source'],\n",
            "      dtype='object') (1309, 13)\n",
            "Total size of data is: (1309, 13)\n",
            "PassengerId       0\n",
            "Survived        418\n",
            "Pclass            0\n",
            "Name              0\n",
            "Sex               0\n",
            "Age             263\n",
            "SibSp             0\n",
            "Parch             0\n",
            "Ticket            0\n",
            "Fare              1\n",
            "Cabin          1014\n",
            "Embarked          2\n",
            "source            0\n",
            "dtype: int64\n"
          ],
          "name": "stdout"
        }
      ]
    },
    {
      "cell_type": "markdown",
      "metadata": {
        "id": "nEaDsI5HDqZI"
      },
      "source": [
        ""
      ]
    },
    {
      "cell_type": "code",
      "metadata": {
        "colab": {
          "base_uri": "https://localhost:8080/"
        },
        "id": "bMeSAYUdA3PJ",
        "outputId": "b232d03b-b575-4ad5-86e2-b265bd8353cb"
      },
      "source": [
        "print(data.isnull().mean()*100)"
      ],
      "execution_count": 9,
      "outputs": [
        {
          "output_type": "stream",
          "text": [
            "PassengerId     0.000000\n",
            "Survived       31.932773\n",
            "Pclass          0.000000\n",
            "Name            0.000000\n",
            "Sex             0.000000\n",
            "Age            20.091673\n",
            "SibSp           0.000000\n",
            "Parch           0.000000\n",
            "Ticket          0.000000\n",
            "Fare            0.076394\n",
            "Cabin          77.463713\n",
            "Embarked        0.152788\n",
            "source          0.000000\n",
            "dtype: float64\n"
          ],
          "name": "stdout"
        }
      ]
    },
    {
      "cell_type": "code",
      "metadata": {
        "id": "o4Kdi7gQBucw"
      },
      "source": [
        "# #  we will drop 'Cabin'as it is having more than 70% missing data\r\n",
        "# data.drop(['Cabin'],axis=1,inplace = True)"
      ],
      "execution_count": 10,
      "outputs": []
    },
    {
      "cell_type": "code",
      "metadata": {
        "colab": {
          "base_uri": "https://localhost:8080/",
          "height": 1000
        },
        "id": "fkJvZ3ngCFNf",
        "outputId": "e24d0970-e595-4e87-e7b6-c67003985df6"
      },
      "source": [
        "# we will visualize the columns having missing values\r\n",
        "vars_with_na = [var for var in data.columns if data[var].isnull().sum() > 0]\r\n",
        "\r\n",
        "print('columns with missing values:',vars_with_na,len(vars_with_na))\r\n",
        "\r\n",
        "# visualize the percentage of missing values in each column\r\n",
        "print(data[vars_with_na].isnull().mean()*100)\r\n",
        "\r\n",
        "# visualize if there is any relationship between target and missing value columns\r\n",
        "\r\n",
        "def analyse_na_value(df,var):\r\n",
        "  df = df.copy()\r\n",
        "\r\n",
        "  # lets make a variable that makes 1 for missing values and 0 otherwise\r\n",
        "  df[var] = np.where(df[var].isnull(),1,0)\r\n",
        "\r\n",
        "  df.groupby(var)['Survived'].mean().plot.bar()\r\n",
        "  plt.title(var)\r\n",
        "  plt.show()\r\n",
        "\r\n",
        "for i in vars_with_na:\r\n",
        "  analyse_na_value(data,i)"
      ],
      "execution_count": 11,
      "outputs": [
        {
          "output_type": "stream",
          "text": [
            "columns with missing values: ['Survived', 'Age', 'Fare', 'Cabin', 'Embarked'] 5\n",
            "Survived    31.932773\n",
            "Age         20.091673\n",
            "Fare         0.076394\n",
            "Cabin       77.463713\n",
            "Embarked     0.152788\n",
            "dtype: float64\n"
          ],
          "name": "stdout"
        },
        {
          "output_type": "display_data",
          "data": {
            "image/png": "[encoded data removed]",
            "text/plain": [
              "<Figure size 432x288 with 1 Axes>"
            ]
          },
          "metadata": {
            "tags": [],
            "needs_background": "light"
          }
        },
        {
          "output_type": "display_data",
          "data": {
            "image/png": "[encoded data removed]",
            "text/plain": [
              "<Figure size 432x288 with 1 Axes>"
            ]
          },
          "metadata": {
            "tags": [],
            "needs_background": "light"
          }
        },
        {
          "output_type": "display_data",
          "data": {
            "image/png": "[encoded data removed]",
            "text/plain": [
              "<Figure size 432x288 with 1 Axes>"
            ]
          },
          "metadata": {
            "tags": [],
            "needs_background": "light"
          }
        },
        {
          "output_type": "display_data",
          "data": {
            "image/png": "[encoded data removed]",
            "text/plain": [
              "<Figure size 432x288 with 1 Axes>"
            ]
          },
          "metadata": {
            "tags": [],
            "needs_background": "light"
          }
        },
        {
          "output_type": "display_data",
          "data": {
            "image/png": "[encoded data removed]",
            "text/plain": [
              "<Figure size 432x288 with 1 Axes>"
            ]
          },
          "metadata": {
            "tags": [],
            "needs_background": "light"
          }
        }
      ]
    },
    {
      "cell_type": "code",
      "metadata": {
        "id": "MreWz3KUCcqr"
      },
      "source": [
        ""
      ],
      "execution_count": 11,
      "outputs": []
    },
    {
      "cell_type": "markdown",
      "metadata": {
        "id": "A3j0i3KwDJxa"
      },
      "source": [
        "# Step 4:Numerical Data Analysis"
      ]
    },
    {
      "cell_type": "code",
      "metadata": {
        "colab": {
          "base_uri": "https://localhost:8080/"
        },
        "id": "VxGDpp1rDKzh",
        "outputId": "5bb7af5e-ad94-4918-b35a-3f562121d193"
      },
      "source": [
        "print('numerical columns:',numCols,len(numCols))\r\n",
        "\r\n",
        "# ->1. visualize the numerical columns\r\n",
        "print(data[numCols].head())\r\n",
        "print('-'*60)\r\n",
        "\r\n",
        "# ->2.make a list of discrete numerical columns\r\n",
        "discrete_numCols = [var for var in numCols if len(data[var].unique())<20]\r\n",
        "print('discrete numerical columns:',discrete_numCols,len(discrete_numCols))\r\n",
        "print('-'*60)\r\n",
        "\r\n",
        "# ->3.visualize discrete numerical columns\r\n",
        "print(data[discrete_numCols].head())\r\n",
        "print('-'*60)\r\n",
        "\r\n",
        "# ->4. make a list of continuous numerical columns\r\n",
        "continuous_numCols =[ var for var in numCols if len(data[var].unique())>20]\r\n",
        "print('continuous numerical columns:',continuous_numCols,len(continuous_numCols))\r\n",
        "print('-'*60)\r\n",
        "\r\n",
        "# ->5.visualize the continuous numerical columns\r\n",
        "print(data[continuous_numCols].head())\r\n",
        "print('-'*60)"
      ],
      "execution_count": 12,
      "outputs": [
        {
          "output_type": "stream",
          "text": [
            "numerical columns: Index(['PassengerId', 'Survived', 'Pclass', 'Age', 'SibSp', 'Parch', 'Fare'], dtype='object') 7\n",
            "   PassengerId  Survived  Pclass   Age  SibSp  Parch     Fare\n",
            "0            1       0.0       3  22.0      1      0   7.2500\n",
            "1            2       1.0       1  38.0      1      0  71.2833\n",
            "2            3       1.0       3  26.0      0      0   7.9250\n",
            "3            4       1.0       1  35.0      1      0  53.1000\n",
            "4            5       0.0       3  35.0      0      0   8.0500\n",
            "------------------------------------------------------------\n",
            "discrete numerical columns: ['Survived', 'Pclass', 'SibSp', 'Parch'] 4\n",
            "------------------------------------------------------------\n",
            "   Survived  Pclass  SibSp  Parch\n",
            "0       0.0       3      1      0\n",
            "1       1.0       1      1      0\n",
            "2       1.0       3      0      0\n",
            "3       1.0       1      1      0\n",
            "4       0.0       3      0      0\n",
            "------------------------------------------------------------\n",
            "continuous numerical columns: ['PassengerId', 'Age', 'Fare'] 3\n",
            "------------------------------------------------------------\n",
            "   PassengerId   Age     Fare\n",
            "0            1  22.0   7.2500\n",
            "1            2  38.0  71.2833\n",
            "2            3  26.0   7.9250\n",
            "3            4  35.0  53.1000\n",
            "4            5  35.0   8.0500\n",
            "------------------------------------------------------------\n"
          ],
          "name": "stdout"
        }
      ]
    },
    {
      "cell_type": "code",
      "metadata": {
        "id": "gLgD_oZQDO42"
      },
      "source": [
        ""
      ],
      "execution_count": 12,
      "outputs": []
    },
    {
      "cell_type": "markdown",
      "metadata": {
        "id": "xyIRy-g_DrxG"
      },
      "source": [
        "# Step 5:Outliers analysis"
      ]
    },
    {
      "cell_type": "code",
      "metadata": {
        "colab": {
          "base_uri": "https://localhost:8080/",
          "height": 809
        },
        "id": "-D54i5jnDs6c",
        "outputId": "afb342f2-e8d9-4bde-81d1-9d30317b7cb3"
      },
      "source": [
        "def find_outliers(df,var):\r\n",
        "  df = df.copy()\r\n",
        "  df.boxplot(column = var)\r\n",
        "  plt.title(var)\r\n",
        "  plt.show()\r\n",
        "\r\n",
        "\r\n",
        "for i in continuous_numCols:\r\n",
        "  find_outliers(data,i)"
      ],
      "execution_count": 13,
      "outputs": [
        {
          "output_type": "display_data",
          "data": {
            "image/png": "[encoded data removed]",
            "text/plain": [
              "<Figure size 432x288 with 1 Axes>"
            ]
          },
          "metadata": {
            "tags": [],
            "needs_background": "light"
          }
        },
        {
          "output_type": "display_data",
          "data": {
            "image/png": "[encoded data removed]",
            "text/plain": [
              "<Figure size 432x288 with 1 Axes>"
            ]
          },
          "metadata": {
            "tags": [],
            "needs_background": "light"
          }
        },
        {
          "output_type": "display_data",
          "data": {
            "image/png": "[encoded data removed]",
            "text/plain": [
              "<Figure size 432x288 with 1 Axes>"
            ]
          },
          "metadata": {
            "tags": [],
            "needs_background": "light"
          }
        }
      ]
    },
    {
      "cell_type": "code",
      "metadata": {
        "id": "JVlnSz3pDvSw"
      },
      "source": [
        ""
      ],
      "execution_count": 13,
      "outputs": []
    },
    {
      "cell_type": "markdown",
      "metadata": {
        "id": "E2nrvGI_D0xn"
      },
      "source": [
        "# Step 6:Categorical data analysis"
      ]
    },
    {
      "cell_type": "code",
      "metadata": {
        "colab": {
          "base_uri": "https://localhost:8080/"
        },
        "id": "g3EokpeSD13x",
        "outputId": "f1ec66c5-4134-4783-a589-4d01baff0e99"
      },
      "source": [
        "# ->1.visualize the categorical data\r\n",
        "print('categorical columns:',catCols,len(catCols))\r\n",
        "print('-'*60)\r\n",
        "print(data[catCols].head())\r\n",
        "print('-'*60)\r\n",
        "\r\n",
        "# ->2.cardinality of the categorical data\r\n",
        "print(data[catCols].nunique())\r\n",
        "print('-'*60)\r\n",
        "\r\n",
        "# ->3 analyse rare labels\r\n",
        "def analyse_rare_vars(df,var,rare_percentage):\r\n",
        "  df = df.copy()\r\n",
        "  tmp = df.groupby(var)['Survived'].count()/len(df)\r\n",
        "  return tmp[tmp < rare_percentage]\r\n",
        "\r\n",
        "for i in catCols:\r\n",
        "  print(analyse_rare_vars(data,i,0.01)) #here we,consider rare percent as 1%\r\n",
        "  print()"
      ],
      "execution_count": 14,
      "outputs": [
        {
          "output_type": "stream",
          "text": [
            "categorical columns: Index(['Name', 'Sex', 'Ticket', 'Cabin', 'Embarked', 'source'], dtype='object') 6\n",
            "------------------------------------------------------------\n",
            "                                                Name     Sex  ... Embarked source\n",
            "0                            Braund, Mr. Owen Harris    male  ...        S  train\n",
            "1  Cumings, Mrs. John Bradley (Florence Briggs Th...  female  ...        C  train\n",
            "2                             Heikkinen, Miss. Laina  female  ...        S  train\n",
            "3       Futrelle, Mrs. Jacques Heath (Lily May Peel)  female  ...        S  train\n",
            "4                           Allen, Mr. William Henry    male  ...        S  train\n",
            "\n",
            "[5 rows x 6 columns]\n",
            "------------------------------------------------------------\n",
            "Name        1307\n",
            "Sex            2\n",
            "Ticket       929\n",
            "Cabin        186\n",
            "Embarked       3\n",
            "source         2\n",
            "dtype: int64\n",
            "------------------------------------------------------------\n",
            "Name\n",
            "Abbing, Mr. Anthony                              0.000764\n",
            "Abbott, Master. Eugene Joseph                    0.000000\n",
            "Abbott, Mr. Rossmore Edward                      0.000764\n",
            "Abbott, Mrs. Stanton (Rosa Hunt)                 0.000764\n",
            "Abelseth, Miss. Karen Marie                      0.000000\n",
            "                                                   ...   \n",
            "del Carlo, Mrs. Sebastiano (Argenia Genovesi)    0.000000\n",
            "van Billiard, Master. James William              0.000000\n",
            "van Billiard, Master. Walter John                0.000000\n",
            "van Billiard, Mr. Austin Blyler                  0.000764\n",
            "van Melkebeke, Mr. Philemon                      0.000764\n",
            "Name: Survived, Length: 1307, dtype: float64\n",
            "\n",
            "Series([], Name: Survived, dtype: float64)\n",
            "\n",
            "Ticket\n",
            "110152         0.002292\n",
            "110413         0.002292\n",
            "110465         0.001528\n",
            "110469         0.000000\n",
            "110489         0.000000\n",
            "                 ...   \n",
            "W./C. 6608     0.003056\n",
            "W./C. 6609     0.000764\n",
            "W.E.P. 5734    0.000764\n",
            "W/C 14208      0.000764\n",
            "WE/P 5735      0.001528\n",
            "Name: Survived, Length: 929, dtype: float64\n",
            "\n",
            "Cabin\n",
            "A10    0.000764\n",
            "A11    0.000000\n",
            "A14    0.000764\n",
            "A16    0.000764\n",
            "A18    0.000000\n",
            "         ...   \n",
            "F33    0.002292\n",
            "F38    0.000764\n",
            "F4     0.001528\n",
            "G6     0.003056\n",
            "T      0.000764\n",
            "Name: Survived, Length: 186, dtype: float64\n",
            "\n",
            "Series([], Name: Survived, dtype: float64)\n",
            "\n",
            "source\n",
            "test    0.0\n",
            "Name: Survived, dtype: float64\n",
            "\n"
          ],
          "name": "stdout"
        }
      ]
    },
    {
      "cell_type": "markdown",
      "metadata": {
        "id": "k3RFtJSaEVQ1"
      },
      "source": [
        "# 3.Feature Engineering\r\n",
        "Here,we will deal with all the problems like\r\n",
        "\r\n",
        "1.   train_test split\r\n",
        "2.   missing value treatment\r\n",
        "3.   outlier treatment\r\n",
        "4.   rare category treatment\r\n",
        "5.   caterical data encoding\r\n",
        "6.   feature scaling\r\n",
        "7.   feature selection\r\n",
        "\r\n",
        "\r\n",
        "\r\n",
        "\r\n",
        "\r\n",
        "\r\n",
        "\r\n"
      ]
    },
    {
      "cell_type": "code",
      "metadata": {
        "colab": {
          "base_uri": "https://localhost:8080/"
        },
        "id": "Oim57Wp6E1C5",
        "outputId": "5390ed3d-1788-4ce5-97a7-84342ae6e51f"
      },
      "source": [
        "# ->1. Train test split\r\n",
        "# from sklearn.model_selection import train_test_split\r\n",
        "# X_train,X_test,y_train,y_test = train_test_split(data,data['Survived'],random_state =0,test_size = 0.2)\r\n",
        "# print(X_train.shape,X_test.shape,y_train.shape,y_test.shape)\r\n",
        "# # X_train,y_train = data[data['source' == 'train']],data.Survived[data['source'=='train']]\r\n",
        "\r\n",
        "X_train = data[data.source == 'train']\r\n",
        "X_test = data[data.source == 'test']\r\n",
        "y_train = train['Survived'].values\r\n",
        "print('X_train',X_train.shape,y_train.shape)\r\n",
        "print('X_test',X_test.shape)\r\n",
        "\r\n",
        "X_test.drop(['source'],axis =1,inplace = True)\r\n",
        "X_train.drop(['source'],axis =1,inplace = True)\r\n",
        "# data.columns"
      ],
      "execution_count": 15,
      "outputs": [
        {
          "output_type": "stream",
          "text": [
            "X_train (891, 13) (891,)\n",
            "X_test (418, 13)\n"
          ],
          "name": "stdout"
        },
        {
          "output_type": "stream",
          "text": [
            "/usr/local/lib/python3.6/dist-packages/pandas/core/frame.py:4174: SettingWithCopyWarning: \n",
            "A value is trying to be set on a copy of a slice from a DataFrame\n",
            "\n",
            "See the caveats in the documentation: https://pandas.pydata.org/pandas-docs/stable/user_guide/indexing.html#returning-a-view-versus-a-copy\n",
            "  errors=errors,\n"
          ],
          "name": "stderr"
        }
      ]
    },
    {
      "cell_type": "code",
      "metadata": {
        "colab": {
          "base_uri": "https://localhost:8080/"
        },
        "id": "l7YKfTlVE88L",
        "outputId": "5c75b3a0-4d1c-4914-f991-d6ebdcc63518"
      },
      "source": [
        "# ->2. missing value treatmnet\r\n",
        "\r\n",
        "# get the categorical columns with na values\r\n",
        "\r\n",
        "cat_var_with_na = [var for var in data.columns if data[var].isnull().sum()>0 and data[var].dtypes == 'object']\r\n",
        "\r\n",
        "print('categorical columns with na values',cat_var_with_na,len(cat_var_with_na))\r\n",
        "\r\n",
        "# visualize categorical columns with na values and their percent contribution\r\n",
        "print(data[cat_var_with_na].isnull().mean()*100)\r\n",
        "print('-'*60)\r\n",
        "\r\n",
        "# replace missing values with 'missing'\r\n",
        "X_train[cat_var_with_na] = X_train[cat_var_with_na].fillna('Missing')\r\n",
        "X_test[cat_var_with_na] = X_test[cat_var_with_na].fillna('Missing')\r\n",
        "\r\n",
        "print(X_train[cat_var_with_na].isnull().sum())\r\n",
        "print('-'*60)\r\n",
        "print(X_test[cat_var_with_na].isnull().sum())\r\n",
        "print('-'*60)\r\n"
      ],
      "execution_count": 16,
      "outputs": [
        {
          "output_type": "stream",
          "text": [
            "categorical columns with na values ['Cabin', 'Embarked'] 2\n",
            "Cabin       77.463713\n",
            "Embarked     0.152788\n",
            "dtype: float64\n",
            "------------------------------------------------------------\n",
            "Cabin       0\n",
            "Embarked    0\n",
            "dtype: int64\n",
            "------------------------------------------------------------\n",
            "Cabin       0\n",
            "Embarked    0\n",
            "dtype: int64\n",
            "------------------------------------------------------------\n"
          ],
          "name": "stdout"
        },
        {
          "output_type": "stream",
          "text": [
            "/usr/local/lib/python3.6/dist-packages/pandas/core/frame.py:3069: SettingWithCopyWarning: \n",
            "A value is trying to be set on a copy of a slice from a DataFrame.\n",
            "Try using .loc[row_indexer,col_indexer] = value instead\n",
            "\n",
            "See the caveats in the documentation: https://pandas.pydata.org/pandas-docs/stable/user_guide/indexing.html#returning-a-view-versus-a-copy\n",
            "  self[k1] = value[k2]\n"
          ],
          "name": "stderr"
        }
      ]
    },
    {
      "cell_type": "code",
      "metadata": {
        "colab": {
          "base_uri": "https://localhost:8080/"
        },
        "id": "Y8qZbJGlFE6x",
        "outputId": "fe449ed8-a71f-46bd-efd4-af3c0f23bde2"
      },
      "source": [
        "# get the numerical columns with na values\r\n",
        "\r\n",
        "num_var_with_na = [var for var in data.columns if data[var].isnull().sum()>0 and data[var].dtypes != 'object']\r\n",
        "\r\n",
        "print('Numerical columns with na values',num_var_with_na,len(num_var_with_na))\r\n",
        "\r\n",
        "# visualize categorical columns with na values and their percent contribution\r\n",
        "print(data[num_var_with_na].isnull().mean()*100)\r\n",
        "print('-'*60)\r\n",
        "\r\n",
        "# replacing missing values with the median\r\n",
        "for var in num_var_with_na:\r\n",
        "  # median = X_train[var].median()\r\n",
        "\r\n",
        "  X_train[var+'_na'] = np.where(X_train[var].isnull(),1,0)\r\n",
        "  X_test[var+'_na'] = np.where(X_test[var].isnull(),1,0)\r\n",
        "\r\n",
        "\r\n",
        "for var in num_var_with_na:\r\n",
        "  median_train = X_train[var].median()\r\n",
        "  median_test = X_test[var].median()\r\n",
        "  X_train[var] = X_train[var].fillna(median_train)\r\n",
        "  X_test[var] = X_test[var].fillna(median_test) \r\n",
        "\r\n",
        "\r\n",
        "print(X_train.isnull().sum())\r\n",
        "print('-'*60)\r\n",
        "print(X_test.isnull().sum())\r\n",
        "print('-'*60)\r\n"
      ],
      "execution_count": 17,
      "outputs": [
        {
          "output_type": "stream",
          "text": [
            "Numerical columns with na values ['Survived', 'Age', 'Fare'] 3\n",
            "Survived    31.932773\n",
            "Age         20.091673\n",
            "Fare         0.076394\n",
            "dtype: float64\n",
            "------------------------------------------------------------\n",
            "PassengerId    0\n",
            "Survived       0\n",
            "Pclass         0\n",
            "Name           0\n",
            "Sex            0\n",
            "Age            0\n",
            "SibSp          0\n",
            "Parch          0\n",
            "Ticket         0\n",
            "Fare           0\n",
            "Cabin          0\n",
            "Embarked       0\n",
            "Survived_na    0\n",
            "Age_na         0\n",
            "Fare_na        0\n",
            "dtype: int64\n",
            "------------------------------------------------------------\n",
            "PassengerId      0\n",
            "Survived       418\n",
            "Pclass           0\n",
            "Name             0\n",
            "Sex              0\n",
            "Age              0\n",
            "SibSp            0\n",
            "Parch            0\n",
            "Ticket           0\n",
            "Fare             0\n",
            "Cabin            0\n",
            "Embarked         0\n",
            "Survived_na      0\n",
            "Age_na           0\n",
            "Fare_na          0\n",
            "dtype: int64\n",
            "------------------------------------------------------------\n"
          ],
          "name": "stdout"
        },
        {
          "output_type": "stream",
          "text": [
            "/usr/local/lib/python3.6/dist-packages/ipykernel_launcher.py:15: SettingWithCopyWarning: \n",
            "A value is trying to be set on a copy of a slice from a DataFrame.\n",
            "Try using .loc[row_indexer,col_indexer] = value instead\n",
            "\n",
            "See the caveats in the documentation: https://pandas.pydata.org/pandas-docs/stable/user_guide/indexing.html#returning-a-view-versus-a-copy\n",
            "  from ipykernel import kernelapp as app\n",
            "/usr/local/lib/python3.6/dist-packages/ipykernel_launcher.py:16: SettingWithCopyWarning: \n",
            "A value is trying to be set on a copy of a slice from a DataFrame.\n",
            "Try using .loc[row_indexer,col_indexer] = value instead\n",
            "\n",
            "See the caveats in the documentation: https://pandas.pydata.org/pandas-docs/stable/user_guide/indexing.html#returning-a-view-versus-a-copy\n",
            "  app.launch_new_instance()\n",
            "/usr/local/lib/python3.6/dist-packages/ipykernel_launcher.py:22: SettingWithCopyWarning: \n",
            "A value is trying to be set on a copy of a slice from a DataFrame.\n",
            "Try using .loc[row_indexer,col_indexer] = value instead\n",
            "\n",
            "See the caveats in the documentation: https://pandas.pydata.org/pandas-docs/stable/user_guide/indexing.html#returning-a-view-versus-a-copy\n",
            "/usr/local/lib/python3.6/dist-packages/ipykernel_launcher.py:23: SettingWithCopyWarning: \n",
            "A value is trying to be set on a copy of a slice from a DataFrame.\n",
            "Try using .loc[row_indexer,col_indexer] = value instead\n",
            "\n",
            "See the caveats in the documentation: https://pandas.pydata.org/pandas-docs/stable/user_guide/indexing.html#returning-a-view-versus-a-copy\n"
          ],
          "name": "stderr"
        }
      ]
    },
    {
      "cell_type": "code",
      "metadata": {
        "colab": {
          "base_uri": "https://localhost:8080/",
          "height": 809
        },
        "id": "Y8ux9z9kFM-a",
        "outputId": "c19eceba-e4fd-404e-fd75-4de32853fde3"
      },
      "source": [
        "# ->step 4. handling outliers\r\n",
        "\r\n",
        "\r\n",
        "for var in continuous_numCols:\r\n",
        "  find_outliers(data,var)"
      ],
      "execution_count": 18,
      "outputs": [
        {
          "output_type": "display_data",
          "data": {
            "image/png": "[encoded data removed]",
            "text/plain": [
              "<Figure size 432x288 with 1 Axes>"
            ]
          },
          "metadata": {
            "tags": [],
            "needs_background": "light"
          }
        },
        {
          "output_type": "display_data",
          "data": {
            "image/png": "[encoded data removed]",
            "text/plain": [
              "<Figure size 432x288 with 1 Axes>"
            ]
          },
          "metadata": {
            "tags": [],
            "needs_background": "light"
          }
        },
        {
          "output_type": "display_data",
          "data": {
            "image/png": "[encoded data removed]",
            "text/plain": [
              "<Figure size 432x288 with 1 Axes>"
            ]
          },
          "metadata": {
            "tags": [],
            "needs_background": "light"
          }
        }
      ]
    },
    {
      "cell_type": "code",
      "metadata": {
        "colab": {
          "base_uri": "https://localhost:8080/"
        },
        "id": "VERLgBpKFSer",
        "outputId": "8a531fe1-4387-47c6-a214-3b436640da80"
      },
      "source": [
        "# ->handling rare labels\r\n",
        "\r\n",
        "print('categorical columns:',catCols,len(catCols))"
      ],
      "execution_count": 19,
      "outputs": [
        {
          "output_type": "stream",
          "text": [
            "categorical columns: Index(['Name', 'Sex', 'Ticket', 'Cabin', 'Embarked', 'source'], dtype='object') 6\n"
          ],
          "name": "stdout"
        }
      ]
    },
    {
      "cell_type": "code",
      "metadata": {
        "colab": {
          "base_uri": "https://localhost:8080/"
        },
        "id": "dFVLzTSKFWs2",
        "outputId": "ae85d695-bbbd-43e1-d506-e2a026494d85"
      },
      "source": [
        "cat_vars = [var for var in X_train.columns if X_train[var].dtype == 'O']\r\n",
        "\r\n",
        "def find_frequent_labels(df,var,rare_percent):\r\n",
        "  df = df.copy()\r\n",
        "  tmp = df.groupby(var)['Survived'].count()/len(df)\r\n",
        "  return tmp[tmp>rare_percent].index\r\n",
        "\r\n",
        "print('categorical variables:',cat_vars,len(cat_vars))\r\n",
        "\r\n",
        "for var in cat_vars:\r\n",
        "\r\n",
        "  # find the frequent categories\r\n",
        "  frequent_ls = find_frequent_labels(X_train,var,0.01)\r\n",
        "\r\n",
        "  # replace rarecategorical columns with 'Rare' labels\r\n",
        "  X_train[var] = np.where(X_train[var].isin(frequent_ls),X_train[var],'Rare')\r\n",
        "\r\n",
        "  X_test[var] = np.where(X_test[var].isin(frequent_ls),X_test[var],'Rare')"
      ],
      "execution_count": 20,
      "outputs": [
        {
          "output_type": "stream",
          "text": [
            "categorical variables: ['Name', 'Sex', 'Ticket', 'Cabin', 'Embarked'] 5\n"
          ],
          "name": "stdout"
        },
        {
          "output_type": "stream",
          "text": [
            "/usr/local/lib/python3.6/dist-packages/ipykernel_launcher.py:16: SettingWithCopyWarning: \n",
            "A value is trying to be set on a copy of a slice from a DataFrame.\n",
            "Try using .loc[row_indexer,col_indexer] = value instead\n",
            "\n",
            "See the caveats in the documentation: https://pandas.pydata.org/pandas-docs/stable/user_guide/indexing.html#returning-a-view-versus-a-copy\n",
            "  app.launch_new_instance()\n",
            "/usr/local/lib/python3.6/dist-packages/ipykernel_launcher.py:18: SettingWithCopyWarning: \n",
            "A value is trying to be set on a copy of a slice from a DataFrame.\n",
            "Try using .loc[row_indexer,col_indexer] = value instead\n",
            "\n",
            "See the caveats in the documentation: https://pandas.pydata.org/pandas-docs/stable/user_guide/indexing.html#returning-a-view-versus-a-copy\n",
            "/usr/local/lib/python3.6/dist-packages/ipykernel_launcher.py:16: SettingWithCopyWarning: \n",
            "A value is trying to be set on a copy of a slice from a DataFrame.\n",
            "Try using .loc[row_indexer,col_indexer] = value instead\n",
            "\n",
            "See the caveats in the documentation: https://pandas.pydata.org/pandas-docs/stable/user_guide/indexing.html#returning-a-view-versus-a-copy\n",
            "  app.launch_new_instance()\n",
            "/usr/local/lib/python3.6/dist-packages/ipykernel_launcher.py:18: SettingWithCopyWarning: \n",
            "A value is trying to be set on a copy of a slice from a DataFrame.\n",
            "Try using .loc[row_indexer,col_indexer] = value instead\n",
            "\n",
            "See the caveats in the documentation: https://pandas.pydata.org/pandas-docs/stable/user_guide/indexing.html#returning-a-view-versus-a-copy\n",
            "/usr/local/lib/python3.6/dist-packages/ipykernel_launcher.py:16: SettingWithCopyWarning: \n",
            "A value is trying to be set on a copy of a slice from a DataFrame.\n",
            "Try using .loc[row_indexer,col_indexer] = value instead\n",
            "\n",
            "See the caveats in the documentation: https://pandas.pydata.org/pandas-docs/stable/user_guide/indexing.html#returning-a-view-versus-a-copy\n",
            "  app.launch_new_instance()\n",
            "/usr/local/lib/python3.6/dist-packages/ipykernel_launcher.py:18: SettingWithCopyWarning: \n",
            "A value is trying to be set on a copy of a slice from a DataFrame.\n",
            "Try using .loc[row_indexer,col_indexer] = value instead\n",
            "\n",
            "See the caveats in the documentation: https://pandas.pydata.org/pandas-docs/stable/user_guide/indexing.html#returning-a-view-versus-a-copy\n",
            "/usr/local/lib/python3.6/dist-packages/ipykernel_launcher.py:16: SettingWithCopyWarning: \n",
            "A value is trying to be set on a copy of a slice from a DataFrame.\n",
            "Try using .loc[row_indexer,col_indexer] = value instead\n",
            "\n",
            "See the caveats in the documentation: https://pandas.pydata.org/pandas-docs/stable/user_guide/indexing.html#returning-a-view-versus-a-copy\n",
            "  app.launch_new_instance()\n",
            "/usr/local/lib/python3.6/dist-packages/ipykernel_launcher.py:18: SettingWithCopyWarning: \n",
            "A value is trying to be set on a copy of a slice from a DataFrame.\n",
            "Try using .loc[row_indexer,col_indexer] = value instead\n",
            "\n",
            "See the caveats in the documentation: https://pandas.pydata.org/pandas-docs/stable/user_guide/indexing.html#returning-a-view-versus-a-copy\n",
            "/usr/local/lib/python3.6/dist-packages/ipykernel_launcher.py:16: SettingWithCopyWarning: \n",
            "A value is trying to be set on a copy of a slice from a DataFrame.\n",
            "Try using .loc[row_indexer,col_indexer] = value instead\n",
            "\n",
            "See the caveats in the documentation: https://pandas.pydata.org/pandas-docs/stable/user_guide/indexing.html#returning-a-view-versus-a-copy\n",
            "  app.launch_new_instance()\n",
            "/usr/local/lib/python3.6/dist-packages/ipykernel_launcher.py:18: SettingWithCopyWarning: \n",
            "A value is trying to be set on a copy of a slice from a DataFrame.\n",
            "Try using .loc[row_indexer,col_indexer] = value instead\n",
            "\n",
            "See the caveats in the documentation: https://pandas.pydata.org/pandas-docs/stable/user_guide/indexing.html#returning-a-view-versus-a-copy\n"
          ],
          "name": "stderr"
        }
      ]
    },
    {
      "cell_type": "code",
      "metadata": {
        "colab": {
          "base_uri": "https://localhost:8080/"
        },
        "id": "ptgBVZz8Facw",
        "outputId": "2b55ebc8-c403-4bc0-cbfe-b0cac7831c1f"
      },
      "source": [
        "# ->6.Encoding categorical variables\r\n",
        "\r\n",
        "def replace_categories(train,test,var,target):\r\n",
        "\r\n",
        "  ordered_labels = train.groupby([var])[target].mean().sort_values().index\r\n",
        "\r\n",
        "  ordinal_label ={k:i for i,k in enumerate(ordered_labels,0)}\r\n",
        "\r\n",
        "  train[var] = train[var].map(ordinal_label)\r\n",
        "  test[var] = test[var].map(ordinal_label)\r\n",
        "\r\n",
        "for var in cat_vars:\r\n",
        "  replace_categories(X_train, X_test, var, 'Survived')\r\n",
        "\r\n",
        "print(X_train.shape,X_test.shape)\r\n",
        "print(X_train.head())"
      ],
      "execution_count": 21,
      "outputs": [
        {
          "output_type": "stream",
          "text": [
            "(891, 15) (418, 15)\n",
            "   PassengerId  Survived  Pclass  Name  ...  Embarked  Survived_na  Age_na  Fare_na\n",
            "0            1       0.0       3     0  ...         0            0       0        0\n",
            "1            2       1.0       1     0  ...         2            0       0        0\n",
            "2            3       1.0       3     0  ...         0            0       0        0\n",
            "3            4       1.0       1     0  ...         0            0       0        0\n",
            "4            5       0.0       3     0  ...         0            0       0        0\n",
            "\n",
            "[5 rows x 15 columns]\n"
          ],
          "name": "stdout"
        },
        {
          "output_type": "stream",
          "text": [
            "/usr/local/lib/python3.6/dist-packages/ipykernel_launcher.py:9: SettingWithCopyWarning: \n",
            "A value is trying to be set on a copy of a slice from a DataFrame.\n",
            "Try using .loc[row_indexer,col_indexer] = value instead\n",
            "\n",
            "See the caveats in the documentation: https://pandas.pydata.org/pandas-docs/stable/user_guide/indexing.html#returning-a-view-versus-a-copy\n",
            "  if __name__ == '__main__':\n",
            "/usr/local/lib/python3.6/dist-packages/ipykernel_launcher.py:10: SettingWithCopyWarning: \n",
            "A value is trying to be set on a copy of a slice from a DataFrame.\n",
            "Try using .loc[row_indexer,col_indexer] = value instead\n",
            "\n",
            "See the caveats in the documentation: https://pandas.pydata.org/pandas-docs/stable/user_guide/indexing.html#returning-a-view-versus-a-copy\n",
            "  # Remove the CWD from sys.path while we load stuff.\n"
          ],
          "name": "stderr"
        }
      ]
    },
    {
      "cell_type": "code",
      "metadata": {
        "colab": {
          "base_uri": "https://localhost:8080/"
        },
        "id": "wQehY9WlFhTx",
        "outputId": "3acfd5f1-92d5-4b2e-e0e1-63b960ef5e28"
      },
      "source": [
        "# ->7 Feature scaling\r\n",
        "train_vars = [var for var in X_train.columns if var not in ['Survived']]\r\n",
        "print(train_vars,len(train_vars))\r\n",
        "\r\n",
        "# import the scale\r\n",
        "from sklearn.preprocessing import RobustScaler\r\n",
        "scaler = RobustScaler()\r\n",
        "\r\n",
        "scaler.fit(X_train[train_vars])\r\n",
        "\r\n",
        "# transform the train and test set\r\n",
        "X_train[train_vars] = scaler.transform(X_train[train_vars])\r\n",
        "\r\n",
        "# X_test[train_vars] = scaler.transform(X_test[train_vars])"
      ],
      "execution_count": 22,
      "outputs": [
        {
          "output_type": "stream",
          "text": [
            "['PassengerId', 'Pclass', 'Name', 'Sex', 'Age', 'SibSp', 'Parch', 'Ticket', 'Fare', 'Cabin', 'Embarked', 'Survived_na', 'Age_na', 'Fare_na'] 14\n"
          ],
          "name": "stdout"
        },
        {
          "output_type": "stream",
          "text": [
            "/usr/local/lib/python3.6/dist-packages/ipykernel_launcher.py:12: SettingWithCopyWarning: \n",
            "A value is trying to be set on a copy of a slice from a DataFrame.\n",
            "Try using .loc[row_indexer,col_indexer] = value instead\n",
            "\n",
            "See the caveats in the documentation: https://pandas.pydata.org/pandas-docs/stable/user_guide/indexing.html#returning-a-view-versus-a-copy\n",
            "  if sys.path[0] == '':\n",
            "/usr/local/lib/python3.6/dist-packages/pandas/core/indexing.py:1734: SettingWithCopyWarning: \n",
            "A value is trying to be set on a copy of a slice from a DataFrame.\n",
            "Try using .loc[row_indexer,col_indexer] = value instead\n",
            "\n",
            "See the caveats in the documentation: https://pandas.pydata.org/pandas-docs/stable/user_guide/indexing.html#returning-a-view-versus-a-copy\n",
            "  isetter(loc, value[:, i].tolist())\n"
          ],
          "name": "stderr"
        }
      ]
    },
    {
      "cell_type": "code",
      "metadata": {
        "colab": {
          "base_uri": "https://localhost:8080/"
        },
        "id": "5t6ROQO1F1c_",
        "outputId": "0d75ccc9-be8e-4312-d35a-66ffb5cf53bd"
      },
      "source": [
        "# ->7. feature selection\r\n",
        "from sklearn.linear_model import Lasso\r\n",
        "from sklearn.feature_selection import SelectFromModel\r\n",
        "print(X_train.head())\r\n",
        "\r\n",
        "y_train = X_train['Survived']\r\n",
        "y_test = X_test['Survived']\r\n",
        "\r\n",
        "# drop unnecessary variables from our training and testing sets\r\n",
        "X_train.drop(['Survived'], axis=1, inplace=True)\r\n",
        "X_test.drop(['Survived'], axis=1, inplace=True)\r\n",
        "\r\n",
        "# remember to set the seed, the random state in this function\r\n",
        "sel_ = SelectFromModel(Lasso(alpha=0.005, random_state=0))\r\n",
        "\r\n",
        "# train Lasso model and select features\r\n",
        "sel_.fit(X_train, y_train)"
      ],
      "execution_count": 23,
      "outputs": [
        {
          "output_type": "stream",
          "text": [
            "   PassengerId  Survived  Pclass  Name  ...  Embarked  Survived_na  Age_na  Fare_na\n",
            "0    -1.000000       0.0     0.0   0.0  ...       0.0          0.0     0.0      0.0\n",
            "1    -0.997753       1.0    -2.0   0.0  ...       2.0          0.0     0.0      0.0\n",
            "2    -0.995506       1.0     0.0   0.0  ...       0.0          0.0     0.0      0.0\n",
            "3    -0.993258       1.0    -2.0   0.0  ...       0.0          0.0     0.0      0.0\n",
            "4    -0.991011       0.0     0.0   0.0  ...       0.0          0.0     0.0      0.0\n",
            "\n",
            "[5 rows x 15 columns]\n"
          ],
          "name": "stdout"
        },
        {
          "output_type": "stream",
          "text": [
            "/usr/local/lib/python3.6/dist-packages/pandas/core/frame.py:4174: SettingWithCopyWarning: \n",
            "A value is trying to be set on a copy of a slice from a DataFrame\n",
            "\n",
            "See the caveats in the documentation: https://pandas.pydata.org/pandas-docs/stable/user_guide/indexing.html#returning-a-view-versus-a-copy\n",
            "  errors=errors,\n"
          ],
          "name": "stderr"
        },
        {
          "output_type": "execute_result",
          "data": {
            "text/plain": [
              "SelectFromModel(estimator=Lasso(alpha=0.005, copy_X=True, fit_intercept=True,\n",
              "                                max_iter=1000, normalize=False, positive=False,\n",
              "                                precompute=False, random_state=0,\n",
              "                                selection='cyclic', tol=0.0001,\n",
              "                                warm_start=False),\n",
              "                max_features=None, norm_order=1, prefit=False, threshold=None)"
            ]
          },
          "metadata": {
            "tags": []
          },
          "execution_count": 23
        }
      ]
    },
    {
      "cell_type": "code",
      "metadata": {
        "colab": {
          "base_uri": "https://localhost:8080/"
        },
        "id": "jQ-NaVkQGJlD",
        "outputId": "05272383-b84c-453f-97db-79d6a8a71bfc"
      },
      "source": [
        "sel_.get_support()"
      ],
      "execution_count": 24,
      "outputs": [
        {
          "output_type": "execute_result",
          "data": {
            "text/plain": [
              "array([False,  True, False,  True,  True,  True,  True, False,  True,\n",
              "        True,  True, False,  True, False])"
            ]
          },
          "metadata": {
            "tags": []
          },
          "execution_count": 24
        }
      ]
    },
    {
      "cell_type": "code",
      "metadata": {
        "colab": {
          "base_uri": "https://localhost:8080/"
        },
        "id": "vomrH-4DGhUo",
        "outputId": "bf50954b-00f5-496e-bbe4-4912462a0717"
      },
      "source": [
        "# let's print the number of total and selected features\r\n",
        "\r\n",
        "# this is how we can make a list of the selected features\r\n",
        "selected_feats = X_train.columns[(sel_.get_support())]\r\n",
        "\r\n",
        "# let's print some stats\r\n",
        "print('total features: {}'.format((X_train.shape[1])))\r\n",
        "print('selected features: {}'.format(len(selected_feats)))\r\n",
        "print('features with coefficients shrank to zero: {}'.format(\r\n",
        "    np.sum(sel_.estimator_.coef_ == 0)))"
      ],
      "execution_count": 25,
      "outputs": [
        {
          "output_type": "stream",
          "text": [
            "total features: 14\n",
            "selected features: 9\n",
            "features with coefficients shrank to zero: 5\n"
          ],
          "name": "stdout"
        }
      ]
    },
    {
      "cell_type": "code",
      "metadata": {
        "colab": {
          "base_uri": "https://localhost:8080/"
        },
        "id": "2Pcsf0dkGwTs",
        "outputId": "f0add826-1505-408e-b493-5a3f1adbe66d"
      },
      "source": [
        "# print the selected features\r\n",
        "selected_feats"
      ],
      "execution_count": 26,
      "outputs": [
        {
          "output_type": "execute_result",
          "data": {
            "text/plain": [
              "Index(['Pclass', 'Sex', 'Age', 'SibSp', 'Parch', 'Fare', 'Cabin', 'Embarked',\n",
              "       'Age_na'],\n",
              "      dtype='object')"
            ]
          },
          "metadata": {
            "tags": []
          },
          "execution_count": 26
        }
      ]
    },
    {
      "cell_type": "code",
      "metadata": {
        "colab": {
          "base_uri": "https://localhost:8080/",
          "height": 419
        },
        "id": "4iSvkCTQG4W2",
        "outputId": "d7a09f2f-7ea4-4c4b-ad68-8027e1b46300"
      },
      "source": [
        "X_test"
      ],
      "execution_count": 27,
      "outputs": [
        {
          "output_type": "execute_result",
          "data": {
            "text/html": [
              "<div>\n",
              "<style scoped>\n",
              "    .dataframe tbody tr th:only-of-type {\n",
              "        vertical-align: middle;\n",
              "    }\n",
              "\n",
              "    .dataframe tbody tr th {\n",
              "        vertical-align: top;\n",
              "    }\n",
              "\n",
              "    .dataframe thead th {\n",
              "        text-align: right;\n",
              "    }\n",
              "</style>\n",
              "<table border=\"1\" class=\"dataframe\">\n",
              "  <thead>\n",
              "    <tr style=\"text-align: right;\">\n",
              "      <th></th>\n",
              "      <th>PassengerId</th>\n",
              "      <th>Pclass</th>\n",
              "      <th>Name</th>\n",
              "      <th>Sex</th>\n",
              "      <th>Age</th>\n",
              "      <th>SibSp</th>\n",
              "      <th>Parch</th>\n",
              "      <th>Ticket</th>\n",
              "      <th>Fare</th>\n",
              "      <th>Cabin</th>\n",
              "      <th>Embarked</th>\n",
              "      <th>Survived_na</th>\n",
              "      <th>Age_na</th>\n",
              "      <th>Fare_na</th>\n",
              "    </tr>\n",
              "  </thead>\n",
              "  <tbody>\n",
              "    <tr>\n",
              "      <th>891</th>\n",
              "      <td>892</td>\n",
              "      <td>3</td>\n",
              "      <td>0</td>\n",
              "      <td>0</td>\n",
              "      <td>34.5</td>\n",
              "      <td>0</td>\n",
              "      <td>0</td>\n",
              "      <td>0</td>\n",
              "      <td>7.8292</td>\n",
              "      <td>0</td>\n",
              "      <td>1</td>\n",
              "      <td>1</td>\n",
              "      <td>0</td>\n",
              "      <td>0</td>\n",
              "    </tr>\n",
              "    <tr>\n",
              "      <th>892</th>\n",
              "      <td>893</td>\n",
              "      <td>3</td>\n",
              "      <td>0</td>\n",
              "      <td>1</td>\n",
              "      <td>47.0</td>\n",
              "      <td>1</td>\n",
              "      <td>0</td>\n",
              "      <td>0</td>\n",
              "      <td>7.0000</td>\n",
              "      <td>0</td>\n",
              "      <td>0</td>\n",
              "      <td>1</td>\n",
              "      <td>0</td>\n",
              "      <td>0</td>\n",
              "    </tr>\n",
              "    <tr>\n",
              "      <th>893</th>\n",
              "      <td>894</td>\n",
              "      <td>2</td>\n",
              "      <td>0</td>\n",
              "      <td>0</td>\n",
              "      <td>62.0</td>\n",
              "      <td>0</td>\n",
              "      <td>0</td>\n",
              "      <td>0</td>\n",
              "      <td>9.6875</td>\n",
              "      <td>0</td>\n",
              "      <td>1</td>\n",
              "      <td>1</td>\n",
              "      <td>0</td>\n",
              "      <td>0</td>\n",
              "    </tr>\n",
              "    <tr>\n",
              "      <th>894</th>\n",
              "      <td>895</td>\n",
              "      <td>3</td>\n",
              "      <td>0</td>\n",
              "      <td>0</td>\n",
              "      <td>27.0</td>\n",
              "      <td>0</td>\n",
              "      <td>0</td>\n",
              "      <td>0</td>\n",
              "      <td>8.6625</td>\n",
              "      <td>0</td>\n",
              "      <td>0</td>\n",
              "      <td>1</td>\n",
              "      <td>0</td>\n",
              "      <td>0</td>\n",
              "    </tr>\n",
              "    <tr>\n",
              "      <th>895</th>\n",
              "      <td>896</td>\n",
              "      <td>3</td>\n",
              "      <td>0</td>\n",
              "      <td>1</td>\n",
              "      <td>22.0</td>\n",
              "      <td>1</td>\n",
              "      <td>1</td>\n",
              "      <td>0</td>\n",
              "      <td>12.2875</td>\n",
              "      <td>0</td>\n",
              "      <td>0</td>\n",
              "      <td>1</td>\n",
              "      <td>0</td>\n",
              "      <td>0</td>\n",
              "    </tr>\n",
              "    <tr>\n",
              "      <th>...</th>\n",
              "      <td>...</td>\n",
              "      <td>...</td>\n",
              "      <td>...</td>\n",
              "      <td>...</td>\n",
              "      <td>...</td>\n",
              "      <td>...</td>\n",
              "      <td>...</td>\n",
              "      <td>...</td>\n",
              "      <td>...</td>\n",
              "      <td>...</td>\n",
              "      <td>...</td>\n",
              "      <td>...</td>\n",
              "      <td>...</td>\n",
              "      <td>...</td>\n",
              "    </tr>\n",
              "    <tr>\n",
              "      <th>1304</th>\n",
              "      <td>1305</td>\n",
              "      <td>3</td>\n",
              "      <td>0</td>\n",
              "      <td>0</td>\n",
              "      <td>27.0</td>\n",
              "      <td>0</td>\n",
              "      <td>0</td>\n",
              "      <td>0</td>\n",
              "      <td>8.0500</td>\n",
              "      <td>0</td>\n",
              "      <td>0</td>\n",
              "      <td>1</td>\n",
              "      <td>1</td>\n",
              "      <td>0</td>\n",
              "    </tr>\n",
              "    <tr>\n",
              "      <th>1305</th>\n",
              "      <td>1306</td>\n",
              "      <td>1</td>\n",
              "      <td>0</td>\n",
              "      <td>1</td>\n",
              "      <td>39.0</td>\n",
              "      <td>0</td>\n",
              "      <td>0</td>\n",
              "      <td>0</td>\n",
              "      <td>108.9000</td>\n",
              "      <td>1</td>\n",
              "      <td>2</td>\n",
              "      <td>1</td>\n",
              "      <td>0</td>\n",
              "      <td>0</td>\n",
              "    </tr>\n",
              "    <tr>\n",
              "      <th>1306</th>\n",
              "      <td>1307</td>\n",
              "      <td>3</td>\n",
              "      <td>0</td>\n",
              "      <td>0</td>\n",
              "      <td>38.5</td>\n",
              "      <td>0</td>\n",
              "      <td>0</td>\n",
              "      <td>0</td>\n",
              "      <td>7.2500</td>\n",
              "      <td>0</td>\n",
              "      <td>0</td>\n",
              "      <td>1</td>\n",
              "      <td>0</td>\n",
              "      <td>0</td>\n",
              "    </tr>\n",
              "    <tr>\n",
              "      <th>1307</th>\n",
              "      <td>1308</td>\n",
              "      <td>3</td>\n",
              "      <td>0</td>\n",
              "      <td>0</td>\n",
              "      <td>27.0</td>\n",
              "      <td>0</td>\n",
              "      <td>0</td>\n",
              "      <td>0</td>\n",
              "      <td>8.0500</td>\n",
              "      <td>0</td>\n",
              "      <td>0</td>\n",
              "      <td>1</td>\n",
              "      <td>1</td>\n",
              "      <td>0</td>\n",
              "    </tr>\n",
              "    <tr>\n",
              "      <th>1308</th>\n",
              "      <td>1309</td>\n",
              "      <td>3</td>\n",
              "      <td>0</td>\n",
              "      <td>0</td>\n",
              "      <td>27.0</td>\n",
              "      <td>1</td>\n",
              "      <td>1</td>\n",
              "      <td>0</td>\n",
              "      <td>22.3583</td>\n",
              "      <td>0</td>\n",
              "      <td>2</td>\n",
              "      <td>1</td>\n",
              "      <td>1</td>\n",
              "      <td>0</td>\n",
              "    </tr>\n",
              "  </tbody>\n",
              "</table>\n",
              "<p>418 rows × 14 columns</p>\n",
              "</div>"
            ],
            "text/plain": [
              "      PassengerId  Pclass  Name  Sex  ...  Embarked  Survived_na  Age_na  Fare_na\n",
              "891           892       3     0    0  ...         1            1       0        0\n",
              "892           893       3     0    1  ...         0            1       0        0\n",
              "893           894       2     0    0  ...         1            1       0        0\n",
              "894           895       3     0    0  ...         0            1       0        0\n",
              "895           896       3     0    1  ...         0            1       0        0\n",
              "...           ...     ...   ...  ...  ...       ...          ...     ...      ...\n",
              "1304         1305       3     0    0  ...         0            1       1        0\n",
              "1305         1306       1     0    1  ...         2            1       0        0\n",
              "1306         1307       3     0    0  ...         0            1       0        0\n",
              "1307         1308       3     0    0  ...         0            1       1        0\n",
              "1308         1309       3     0    0  ...         2            1       1        0\n",
              "\n",
              "[418 rows x 14 columns]"
            ]
          },
          "metadata": {
            "tags": []
          },
          "execution_count": 27
        }
      ]
    },
    {
      "cell_type": "markdown",
      "metadata": {
        "id": "pyn0hQIgG-MR"
      },
      "source": [
        "# Checking which model will perform better"
      ]
    },
    {
      "cell_type": "code",
      "metadata": {
        "colab": {
          "base_uri": "https://localhost:8080/"
        },
        "id": "ZWfyxAuCHAcp",
        "outputId": "5ab16905-e74f-4aaa-c378-b77fb624a7a0"
      },
      "source": [
        "# we will evaluate different machine learning classification models \r\n",
        "from sklearn.model_selection import cross_val_score\r\n",
        "\r\n",
        "\r\n",
        "# 1- Logistic Regression\r\n",
        "# 2- K-nearest neighbors classification\r\n",
        "# 3- support vector machine\r\n",
        "# 4- naive bayes\r\n",
        "# 5- random forest classification\r\n",
        "# -----------------------------------\r\n",
        "# Function to calculate mean absolute error\r\n",
        "\r\n",
        "def cross_val(X_train,X_test,model):\r\n",
        "  accuracies = cross_val_score(estimator = model,X=X_train,y=y_train,cv=5)\r\n",
        "  return accuracies.mean()\r\n",
        "\r\n",
        "\r\n",
        "def fit_and_evaluate(model):\r\n",
        "\r\n",
        "  # train the model\r\n",
        "  model.fit(X_train,y_train)\r\n",
        "\r\n",
        "  # model_pred = model.predict(X_test)\r\n",
        "  model_cross = cross_val(X_train,y_train,model)\r\n",
        "  return model_cross\r\n",
        "\r\n",
        "# Evaluating various models\r\n",
        "# ----------------------------------------\r\n",
        "\r\n",
        "from sklearn import model_selection\r\n",
        "from numpy import abs\r\n",
        "from sklearn.linear_model import LogisticRegression\r\n",
        "from sklearn.svm import SVC, LinearSVC\r\n",
        "from sklearn.ensemble import RandomForestClassifier\r\n",
        "from sklearn.neighbors import KNeighborsClassifier\r\n",
        "from sklearn.naive_bayes import GaussianNB\r\n",
        "from sklearn.linear_model import Perceptron\r\n",
        "from sklearn.linear_model import SGDClassifier\r\n",
        "from sklearn.tree import DecisionTreeClassifier\r\n",
        "from xgboost import XGBClassifier\r\n",
        "models = []\r\n",
        "names = []\r\n",
        "score = []\r\n",
        "\r\n",
        "models.append(('Logistic Regression',LogisticRegression()))\r\n",
        "models.append(('Linear svc',LinearSVC()))\r\n",
        "models.append(('Random forest classifier',RandomForestClassifier()))\r\n",
        "models.append(('knn ',KNeighborsClassifier()))\r\n",
        "models.append(('Guassian NB ',GaussianNB()))\r\n",
        "models.append(('Decision TreeClassifier',DecisionTreeClassifier()))\r\n",
        "models.append((\"xg booster\",XGBClassifier()))\r\n",
        "\r\n",
        "for name,model in models:\r\n",
        "  # print('Name:',name)\r\n",
        "  logr_cross = fit_and_evaluate(model)\r\n",
        "  print(\"Name:\",name,',Cross Validation Score = %0.4f' % logr_cross)\r\n",
        "  score.append(logr_cross)\r\n"
      ],
      "execution_count": 28,
      "outputs": [
        {
          "output_type": "stream",
          "text": [
            "Name: Logistic Regression ,Cross Validation Score = 0.7845\n"
          ],
          "name": "stdout"
        },
        {
          "output_type": "stream",
          "text": [
            "/usr/local/lib/python3.6/dist-packages/sklearn/svm/_base.py:947: ConvergenceWarning: Liblinear failed to converge, increase the number of iterations.\n",
            "  \"the number of iterations.\", ConvergenceWarning)\n",
            "/usr/local/lib/python3.6/dist-packages/sklearn/svm/_base.py:947: ConvergenceWarning: Liblinear failed to converge, increase the number of iterations.\n",
            "  \"the number of iterations.\", ConvergenceWarning)\n",
            "/usr/local/lib/python3.6/dist-packages/sklearn/svm/_base.py:947: ConvergenceWarning: Liblinear failed to converge, increase the number of iterations.\n",
            "  \"the number of iterations.\", ConvergenceWarning)\n",
            "/usr/local/lib/python3.6/dist-packages/sklearn/svm/_base.py:947: ConvergenceWarning: Liblinear failed to converge, increase the number of iterations.\n",
            "  \"the number of iterations.\", ConvergenceWarning)\n",
            "/usr/local/lib/python3.6/dist-packages/sklearn/svm/_base.py:947: ConvergenceWarning: Liblinear failed to converge, increase the number of iterations.\n",
            "  \"the number of iterations.\", ConvergenceWarning)\n",
            "/usr/local/lib/python3.6/dist-packages/sklearn/svm/_base.py:947: ConvergenceWarning: Liblinear failed to converge, increase the number of iterations.\n",
            "  \"the number of iterations.\", ConvergenceWarning)\n"
          ],
          "name": "stderr"
        },
        {
          "output_type": "stream",
          "text": [
            "Name: Linear svc ,Cross Validation Score = 0.7901\n",
            "Name: Random forest classifier ,Cross Validation Score = 0.8003\n",
            "Name: knn  ,Cross Validation Score = 0.7980\n",
            "Name: Guassian NB  ,Cross Validation Score = 0.7711\n",
            "Name: Decision TreeClassifier ,Cross Validation Score = 0.7443\n",
            "Name: xg booster ,Cross Validation Score = 0.7712\n"
          ],
          "name": "stdout"
        }
      ]
    },
    {
      "cell_type": "code",
      "metadata": {
        "colab": {
          "base_uri": "https://localhost:8080/",
          "height": 163
        },
        "id": "cXn1gI2Tl4ks",
        "outputId": "69be89ae-01a6-4daa-fbe2-cc259c05e17a"
      },
      "source": [
        "# np.all(np.isfinite(mat))"
      ],
      "execution_count": 29,
      "outputs": [
        {
          "output_type": "error",
          "ename": "NameError",
          "evalue": "ignored",
          "traceback": [
            "\u001b[0;31m---------------------------------------------------------------------------\u001b[0m",
            "\u001b[0;31mNameError\u001b[0m                                 Traceback (most recent call last)",
            "\u001b[0;32m<ipython-input-29-e5cb0f65ea64>\u001b[0m in \u001b[0;36m<module>\u001b[0;34m()\u001b[0m\n\u001b[0;32m----> 1\u001b[0;31m \u001b[0mnp\u001b[0m\u001b[0;34m.\u001b[0m\u001b[0mall\u001b[0m\u001b[0;34m(\u001b[0m\u001b[0mnp\u001b[0m\u001b[0;34m.\u001b[0m\u001b[0misfinite\u001b[0m\u001b[0;34m(\u001b[0m\u001b[0mmat\u001b[0m\u001b[0;34m)\u001b[0m\u001b[0;34m)\u001b[0m\u001b[0;34m\u001b[0m\u001b[0;34m\u001b[0m\u001b[0m\n\u001b[0m",
            "\u001b[0;31mNameError\u001b[0m: name 'mat' is not defined"
          ]
        }
      ]
    },
    {
      "cell_type": "code",
      "metadata": {
        "colab": {
          "base_uri": "https://localhost:8080/",
          "height": 300
        },
        "id": "z9sbi6T7HNOU",
        "outputId": "0cca48b4-8f4d-4e72-c67c-af713112e24f"
      },
      "source": [
        "model_comparison = pd.DataFrame({'model':['Logistic Regression','Linear svc','Random forest classifier','KNN','Guassian NB','Descision Tree','XG Booster'],'Score':score})\r\n",
        "\r\n",
        "# horizontal bar  chart\r\n",
        "model_comparison.sort_values('Score',ascending=True).plot(x = 'model', y = 'Score', kind = 'barh')\r\n",
        "plt.xlabel('K-Fold Cross Validation')\r\n",
        "plt.title('Model Comparison on Score', size = 20);\r\n",
        "plt.show()"
      ],
      "execution_count": 30,
      "outputs": [
        {
          "output_type": "display_data",
          "data": {
            "image/png": "[encoded data removed]",
            "text/plain": [
              "<Figure size 432x288 with 1 Axes>"
            ]
          },
          "metadata": {
            "tags": [],
            "needs_background": "light"
          }
        }
      ]
    },
    {
      "cell_type": "code",
      "metadata": {
        "id": "NRXpmGELHVK6"
      },
      "source": [
        "# Model selected:Random forest classifier"
      ],
      "execution_count": null,
      "outputs": []
    },
    {
      "cell_type": "code",
      "metadata": {
        "colab": {
          "base_uri": "https://localhost:8080/"
        },
        "id": "A835jif1HaN0",
        "outputId": "a7b439a1-221b-4b7a-9b93-dbb2369e983b"
      },
      "source": [
        "n_estimators = [int(x) for x in np.linspace(start = 5 , stop = 15, num = 10)] # returns 10 numbers \r\n",
        "max_features = ['auto', 'log2']\r\n",
        "max_depth = [int(x) for x in np.linspace(5, 10, num = 2)] \r\n",
        "max_depth.append(None)\r\n",
        "bootstrap = [True, False]\r\n",
        "\r\n",
        "r_grid = {'n_estimators': n_estimators,\r\n",
        "\r\n",
        "               'max_features': max_features,\r\n",
        "\r\n",
        "               'max_depth': max_depth,\r\n",
        "\r\n",
        "               'bootstrap': bootstrap}\r\n",
        "\r\n",
        "print(r_grid)\r\n",
        "rfr = RandomForestClassifier(random_state = 1)"
      ],
      "execution_count": 31,
      "outputs": [
        {
          "output_type": "stream",
          "text": [
            "{'n_estimators': [5, 6, 7, 8, 9, 10, 11, 12, 13, 15], 'max_features': ['auto', 'log2'], 'max_depth': [5, 10, None], 'bootstrap': [True, False]}\n"
          ],
          "name": "stdout"
        }
      ]
    },
    {
      "cell_type": "code",
      "metadata": {
        "colab": {
          "base_uri": "https://localhost:8080/"
        },
        "id": "DtKWDJ6fHdKl",
        "outputId": "7d24ed8f-a021-49eb-9ed7-2fb45373b11d"
      },
      "source": [
        "# Fit on the traing model\r\n",
        "from sklearn.model_selection import RandomizedSearchCV\r\n",
        "rfr_random = RandomizedSearchCV(estimator=rfr, param_distributions=r_grid, n_iter = 20, scoring='neg_mean_absolute_error', cv = 3, verbose=2, random_state=42, n_jobs=-1, return_train_score=True)\r\n",
        "\r\n",
        "rfr_random.fit(X_train, y_train);"
      ],
      "execution_count": 32,
      "outputs": [
        {
          "output_type": "stream",
          "text": [
            "Fitting 3 folds for each of 20 candidates, totalling 60 fits\n"
          ],
          "name": "stdout"
        },
        {
          "output_type": "stream",
          "text": [
            "[Parallel(n_jobs=-1)]: Using backend LokyBackend with 2 concurrent workers.\n",
            "[Parallel(n_jobs=-1)]: Done  60 out of  60 | elapsed:    2.7s finished\n"
          ],
          "name": "stderr"
        }
      ]
    },
    {
      "cell_type": "code",
      "metadata": {
        "colab": {
          "base_uri": "https://localhost:8080/"
        },
        "id": "voBfExwzHhAc",
        "outputId": "a4b51e16-941e-451e-f2e4-e81080df439c"
      },
      "source": [
        "print(rfr_random.best_params_)"
      ],
      "execution_count": 33,
      "outputs": [
        {
          "output_type": "stream",
          "text": [
            "{'n_estimators': 10, 'max_features': 'log2', 'max_depth': None, 'bootstrap': True}\n"
          ],
          "name": "stdout"
        }
      ]
    },
    {
      "cell_type": "code",
      "metadata": {
        "colab": {
          "base_uri": "https://localhost:8080/"
        },
        "id": "fh2QV4ZaHzog",
        "outputId": "aafeb42e-cf40-4721-82a8-3c42c48ff85b"
      },
      "source": [
        "# print(rfr_random.score(X_test , y_test))\r\n",
        "print(rfr_random.score(X_train , y_train))\r\n",
        "# X_test\r\n",
        "# y_test.shape\r\n",
        "print(X_test.shape)\r\n",
        "\r\n",
        "\r\n",
        "# np.all(np.isfinite(X_test))"
      ],
      "execution_count": 40,
      "outputs": [
        {
          "output_type": "stream",
          "text": [
            "-0.020202020202020204\n",
            "(418, 14)\n"
          ],
          "name": "stdout"
        }
      ]
    },
    {
      "cell_type": "code",
      "metadata": {
        "colab": {
          "base_uri": "https://localhost:8080/"
        },
        "id": "T120l87JH27d",
        "outputId": "98a8cd62-3e24-40a2-d06b-70a6a8d3a55d"
      },
      "source": [
        "random_forest = RandomForestClassifier(n_estimators= 15, max_features= 'auto', max_depth=10, bootstrap= False)\r\n",
        "random_forest.fit(X_train,y_train)\r\n",
        "Y_pred = random_forest.predict(X_test)\r\n",
        "random_forest.score(X_train, y_train)\r\n",
        "acc_random_forest = round(random_forest.score(X_train, y_train) * 100, 2)\r\n",
        "acc_random_forest"
      ],
      "execution_count": 41,
      "outputs": [
        {
          "output_type": "execute_result",
          "data": {
            "text/plain": [
              "96.18"
            ]
          },
          "metadata": {
            "tags": []
          },
          "execution_count": 41
        }
      ]
    },
    {
      "cell_type": "code",
      "metadata": {
        "colab": {
          "base_uri": "https://localhost:8080/"
        },
        "id": "8_yJffP0KZD2",
        "outputId": "8214af01-55c2-497a-a5ad-bd40973a055e"
      },
      "source": [
        "# print(X_test.shape)\r\n",
        "# print(test.shape)\r\n",
        "\r\n",
        "# test_file = data[data['source'] == 'test']\r\n",
        "# print(test_file.shape)\r\n",
        "# Y_pred_input = random_forest.predict(test)\r\n",
        "random_forest.score(X_test, Y_pred)\r\n",
        "acc_random_forest = round(random_forest.score(X_test, Y_pred) * 100, 2)\r\n",
        "acc_random_forest"
      ],
      "execution_count": 42,
      "outputs": [
        {
          "output_type": "execute_result",
          "data": {
            "text/plain": [
              "100.0"
            ]
          },
          "metadata": {
            "tags": []
          },
          "execution_count": 42
        }
      ]
    },
    {
      "cell_type": "code",
      "metadata": {
        "colab": {
          "base_uri": "https://localhost:8080/"
        },
        "id": "SBzd44d_H93C",
        "outputId": "56ec0278-8a30-47af-97e9-e4e6cfe597cb"
      },
      "source": [
        "# from sklearn.metrics import classification_report,confusion_matrix,accuracy_score\r\n",
        "# # cm = confusion_matrix(y_test,Y_pred)\r\n",
        "# # print(cm)\r\n",
        "# # print(accuracy_score(y_test,Y_pred))\r\n",
        "\r\n",
        "\r\n",
        "# # \r\n",
        "# print(y_test)"
      ],
      "execution_count": 44,
      "outputs": [
        {
          "output_type": "stream",
          "text": [
            "891    NaN\n",
            "892    NaN\n",
            "893    NaN\n",
            "894    NaN\n",
            "895    NaN\n",
            "        ..\n",
            "1304   NaN\n",
            "1305   NaN\n",
            "1306   NaN\n",
            "1307   NaN\n",
            "1308   NaN\n",
            "Name: Survived, Length: 418, dtype: float64\n"
          ],
          "name": "stdout"
        }
      ]
    },
    {
      "cell_type": "code",
      "metadata": {
        "id": "LPK58swjIBM1"
      },
      "source": [
        "# print(classification_report(y_test, Y_pred))"
      ],
      "execution_count": null,
      "outputs": []
    },
    {
      "cell_type": "code",
      "metadata": {
        "id": "0rJSN1ALIEAU"
      },
      "source": [
        "\r\n",
        "# submission\r\n",
        "submission = pd.DataFrame({\r\n",
        "        \"PassengerId\": X_test[\"PassengerId\"],\r\n",
        "        \"Survived\": Y_pred\r\n",
        "    })"
      ],
      "execution_count": 45,
      "outputs": []
    },
    {
      "cell_type": "code",
      "metadata": {
        "colab": {
          "base_uri": "https://localhost:8080/"
        },
        "id": "LcJB6t4dIQYf",
        "outputId": "31071d7b-daa2-489a-e33c-9008be55eaaa"
      },
      "source": [
        "!pip install fsspec\r\n",
        "submission.to_csv('submission.csv', index=False)"
      ],
      "execution_count": 49,
      "outputs": [
        {
          "output_type": "stream",
          "text": [
            "Requirement already satisfied: fsspec in /usr/local/lib/python3.6/dist-packages (0.8.5)\n"
          ],
          "name": "stdout"
        }
      ]
    },
    {
      "cell_type": "code",
      "metadata": {
        "id": "QCTivAh8IaJ5"
      },
      "source": [
        ""
      ],
      "execution_count": null,
      "outputs": []
    },
    {
      "cell_type": "code",
      "metadata": {
        "id": "RC5hQwTMIgfo"
      },
      "source": [
        "k_Train = data[:na]\r\n",
        "k_Test = data[na:]\r\n",
        "\r\n",
        "# print(data_update.shape)\r\n",
        "print(k_Train.shape)\r\n",
        "print(k_Test.shape)"
      ],
      "execution_count": null,
      "outputs": []
    },
    {
      "cell_type": "code",
      "metadata": {
        "id": "WsQ8Hp2tQHB2"
      },
      "source": [
        ""
      ],
      "execution_count": null,
      "outputs": []
    }
  ]
}