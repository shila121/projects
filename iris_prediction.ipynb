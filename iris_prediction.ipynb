{
  "nbformat": 4,
  "nbformat_minor": 0,
  "metadata": {
    "colab": {
      "name": "iris_prediction.ipynb",
      "provenance": [],
      "collapsed_sections": []
    },
    "kernelspec": {
      "name": "python3",
      "display_name": "Python 3"
    }
  },
  "cells": [
    {
      "cell_type": "markdown",
      "metadata": {
        "id": "TXgxGIpUERli"
      },
      "source": [
        "**1. Framing the problem statement**\n",
        "\n",
        "Here we are atrying the predict the iris category.It is a classification modelling.Target variable is **Species**"
      ]
    },
    {
      "cell_type": "code",
      "metadata": {
        "colab": {
          "base_uri": "https://localhost:8080/"
        },
        "id": "jzRlwEquEajW",
        "outputId": "e4495017-7dfc-4816-bc32-fb30e7a30023"
      },
      "source": [
        "# importing libraries\n",
        "import pandas as pd\n",
        "import numpy as np\n",
        "import matplotlib.pyplot as plt\n",
        "\n",
        "# importing dataset\n",
        "data = pd.read_csv('Iris.csv')\n",
        "\n",
        "print(data.head())\n",
        "print(data.shape)\n",
        "print(data.columns)\n",
        "\n",
        "test_copy= pd.read_csv('Iris.csv')\n",
        "\n",
        "# we will remove the Id as it is unique and is irrelevant\n",
        "# data.drop('Id',axis = 1,inplace = True)\n",
        "\n",
        "\n",
        "\n",
        "print(data.shape)\n",
        "print(data.columns)\n"
      ],
      "execution_count": 15,
      "outputs": [
        {
          "output_type": "stream",
          "text": [
            "   Id  SepalLengthCm  SepalWidthCm  PetalLengthCm  PetalWidthCm      Species\n",
            "0   1            5.1           3.5            1.4           0.2  Iris-setosa\n",
            "1   2            4.9           3.0            1.4           0.2  Iris-setosa\n",
            "2   3            4.7           3.2            1.3           0.2  Iris-setosa\n",
            "3   4            4.6           3.1            1.5           0.2  Iris-setosa\n",
            "4   5            5.0           3.6            1.4           0.2  Iris-setosa\n",
            "(150, 6)\n",
            "Index(['Id', 'SepalLengthCm', 'SepalWidthCm', 'PetalLengthCm', 'PetalWidthCm',\n",
            "       'Species'],\n",
            "      dtype='object')\n",
            "(150, 6)\n",
            "Index(['Id', 'SepalLengthCm', 'SepalWidthCm', 'PetalLengthCm', 'PetalWidthCm',\n",
            "       'Species'],\n",
            "      dtype='object')\n"
          ],
          "name": "stdout"
        }
      ]
    },
    {
      "cell_type": "code",
      "metadata": {
        "colab": {
          "base_uri": "https://localhost:8080/"
        },
        "id": "BAt0jAXSFZTb",
        "outputId": "aab4e643-9aed-4db6-d544-21a43975a347"
      },
      "source": [
        "# categorical columns \n",
        "catCols = data.select_dtypes('object').columns\n",
        "catCols=list(set(catCols))\n",
        "# we will remove the Species as it is unique and is irrelevant\n",
        "catCols.remove('Species')\n",
        "print('categorical columns:',catCols)\n",
        "\n",
        "numCols = data.select_dtypes('number').columns\n",
        "numCols = list(set(numCols))\n",
        "numCols.remove('Id')\n",
        "print('numerical columns:',numCols)\n",
        "\n",
        "\n",
        "# apply label encoder on y\n",
        "\n",
        "from sklearn.preprocessing import LabelEncoder\n",
        "labelencoder = LabelEncoder()\n",
        "data['Species'] = labelencoder.fit_transform(data['Species'])\n",
        "y = data['Species']\n",
        "\n",
        "print(data['Species'].value_counts())\n"
      ],
      "execution_count": 16,
      "outputs": [
        {
          "output_type": "stream",
          "text": [
            "categorical columns: []\n",
            "numerical columns: ['PetalWidthCm', 'PetalLengthCm', 'SepalLengthCm', 'SepalWidthCm']\n",
            "2    50\n",
            "1    50\n",
            "0    50\n",
            "Name: Species, dtype: int64\n"
          ],
          "name": "stdout"
        }
      ]
    },
    {
      "cell_type": "code",
      "metadata": {
        "id": "zFXfRM7wH6Oi"
      },
      "source": [
        ""
      ],
      "execution_count": 2,
      "outputs": []
    },
    {
      "cell_type": "markdown",
      "metadata": {
        "id": "sv0O4fvOIS3J"
      },
      "source": [
        "**2.  Hypothesis Testing**\n",
        "-------------------------------------------------------------------Null Hypothesis:there is no relationship between predictor and target\n",
        "\n",
        "Alternate Hypothesis:There is significant relationship between predictor and target."
      ]
    },
    {
      "cell_type": "code",
      "metadata": {
        "colab": {
          "base_uri": "https://localhost:8080/"
        },
        "id": "D6CVRdtHIZis",
        "outputId": "37506fc5-5d38-49e2-fd24-8d38664fe5de"
      },
      "source": [
        "# we will carry out z-test as below for numeric columns\n",
        "from statsmodels.stats import weightstats as stests\n",
        "\n",
        "\n",
        "significant_num = []\n",
        "in_significant_num = []\n",
        "for i in numCols:\n",
        "  p_val = stests.ztest(data[i],data['Species'])\n",
        "  p_val = p_val[1]\n",
        "  print('columns:',i)\n",
        "  print('p val:',p_val)\n",
        "\n",
        "  if p_val < 0.05 :\n",
        "    status = \"Reject Null Hypothesis,Significant predictors\"\n",
        "    print('status:',status)\n",
        "    significant_num.append(i)\n",
        "  else:\n",
        "    status = 'Accept Null Hypothesis,Insignificant predictors'\n",
        "    print('status:',status)\n",
        "    in_significant_num.append(i)\n",
        "\n",
        "print(\"significant:\",significant_num,len(significant_num))\n",
        "print(\"Insignificant:\",in_significant_num,len(in_significant_num))\n"
      ],
      "execution_count": 17,
      "outputs": [
        {
          "output_type": "stream",
          "text": [
            "columns: PetalWidthCm\n",
            "p val: 0.029765570131652826\n",
            "status: Reject Null Hypothesis,Significant predictors\n",
            "columns: PetalLengthCm\n",
            "p val: 1.4405345778729125e-67\n",
            "status: Reject Null Hypothesis,Significant predictors\n",
            "columns: SepalLengthCm\n",
            "p val: 0.0\n",
            "status: Reject Null Hypothesis,Significant predictors\n",
            "columns: SepalWidthCm\n",
            "p val: 3.3059906723078414e-162\n",
            "status: Reject Null Hypothesis,Significant predictors\n",
            "significant: ['PetalWidthCm', 'PetalLengthCm', 'SepalLengthCm', 'SepalWidthCm'] 4\n",
            "Insignificant: [] 0\n"
          ],
          "name": "stdout"
        }
      ]
    },
    {
      "cell_type": "code",
      "metadata": {
        "colab": {
          "base_uri": "https://localhost:8080/"
        },
        "id": "FEu8KiUJKTB8",
        "outputId": "81d3286c-4ea1-4768-b8f3-e0e1826f6079"
      },
      "source": [
        "# as there is no categorical feature,we can easily see the ols summary\n",
        "import statsmodels.api as sm\n",
        "a = data[['SepalLengthCm', 'SepalWidthCm', 'PetalLengthCm', 'PetalWidthCm']]\n",
        "print(a)\n",
        "model = sm.OLS(data['Species'],a).fit()\n",
        "model_prediction = model.predict(a)\n",
        "model.details = model.summary()\n",
        "print(model.details)"
      ],
      "execution_count": 18,
      "outputs": [
        {
          "output_type": "stream",
          "text": [
            "     SepalLengthCm  SepalWidthCm  PetalLengthCm  PetalWidthCm\n",
            "0              5.1           3.5            1.4           0.2\n",
            "1              4.9           3.0            1.4           0.2\n",
            "2              4.7           3.2            1.3           0.2\n",
            "3              4.6           3.1            1.5           0.2\n",
            "4              5.0           3.6            1.4           0.2\n",
            "..             ...           ...            ...           ...\n",
            "145            6.7           3.0            5.2           2.3\n",
            "146            6.3           2.5            5.0           1.9\n",
            "147            6.5           3.0            5.2           2.0\n",
            "148            6.2           3.4            5.4           2.3\n",
            "149            5.9           3.0            5.1           1.8\n",
            "\n",
            "[150 rows x 4 columns]\n",
            "                                 OLS Regression Results                                \n",
            "=======================================================================================\n",
            "Dep. Variable:                Species   R-squared (uncentered):                   0.972\n",
            "Model:                            OLS   Adj. R-squared (uncentered):              0.971\n",
            "Method:                 Least Squares   F-statistic:                              1267.\n",
            "Date:                Tue, 01 Dec 2020   Prob (F-statistic):                   3.16e-112\n",
            "Time:                        03:59:36   Log-Likelihood:                          17.013\n",
            "No. Observations:                 150   AIC:                                     -26.03\n",
            "Df Residuals:                     146   BIC:                                     -13.98\n",
            "Df Model:                           4                                                  \n",
            "Covariance Type:            nonrobust                                                  \n",
            "=================================================================================\n",
            "                    coef    std err          t      P>|t|      [0.025      0.975]\n",
            "---------------------------------------------------------------------------------\n",
            "SepalLengthCm    -0.0815      0.049     -1.654      0.100      -0.179       0.016\n",
            "SepalWidthCm     -0.0272      0.057     -0.476      0.635      -0.140       0.086\n",
            "PetalLengthCm     0.2232      0.057      3.928      0.000       0.111       0.336\n",
            "PetalWidthCm      0.5997      0.094      6.393      0.000       0.414       0.785\n",
            "==============================================================================\n",
            "Omnibus:                        0.374   Durbin-Watson:                   1.143\n",
            "Prob(Omnibus):                  0.829   Jarque-Bera (JB):                0.122\n",
            "Skew:                          -0.026   Prob(JB):                        0.941\n",
            "Kurtosis:                       3.129   Cond. No.                         51.1\n",
            "==============================================================================\n",
            "\n",
            "Warnings:\n",
            "[1] Standard Errors assume that the covariance matrix of the errors is correctly specified.\n"
          ],
          "name": "stdout"
        }
      ]
    },
    {
      "cell_type": "markdown",
      "metadata": {
        "id": "CckynMo-MDDM"
      },
      "source": [
        "3.Exploratory Data Analysis (EDA)\n",
        "-----------------------------------------------------------------"
      ]
    },
    {
      "cell_type": "code",
      "metadata": {
        "colab": {
          "base_uri": "https://localhost:8080/",
          "height": 1000
        },
        "id": "w-uUupyiMXKe",
        "outputId": "2b32661c-48a9-4fc3-8ea7-e0e26804168a"
      },
      "source": [
        "# 1.Univariate analysis of numerical columns with  histogram/distplot\n",
        "\n",
        "for i in numCols:\n",
        "  plt.subplot(1,2,1)\n",
        "  plt.hist(data[i],bins = 50)\n",
        "  plt.xlabel(i)\n",
        "  plt.ylabel('values')\n",
        "\n",
        "  plt.subplot(1,2,2)\n",
        "  plt.boxplot(data[i])\n",
        "  plt.xlabel(i)\n",
        "  plt.ylabel('values')\n",
        "  plt.show()\n"
      ],
      "execution_count": 19,
      "outputs": [
        {
          "output_type": "display_data",
          "data": {
            "image/png": "[encoded data removed]",
            "text/plain": [
              "<Figure size 432x288 with 2 Axes>"
            ]
          },
          "metadata": {
            "tags": [],
            "needs_background": "light"
          }
        },
        {
          "output_type": "display_data",
          "data": {
            "image/png": "[encoded data removed]",
            "text/plain": [
              "<Figure size 432x288 with 2 Axes>"
            ]
          },
          "metadata": {
            "tags": [],
            "needs_background": "light"
          }
        },
        {
          "output_type": "display_data",
          "data": {
            "image/png": "[encoded data removed]",
            "text/plain": [
              "<Figure size 432x288 with 2 Axes>"
            ]
          },
          "metadata": {
            "tags": [],
            "needs_background": "light"
          }
        },
        {
          "output_type": "display_data",
          "data": {
            "image/png": "[encoded data removed]",
            "text/plain": [
              "<Figure size 432x288 with 2 Axes>"
            ]
          },
          "metadata": {
            "tags": [],
            "needs_background": "light"
          }
        }
      ]
    },
    {
      "cell_type": "code",
      "metadata": {
        "colab": {
          "base_uri": "https://localhost:8080/",
          "height": 508
        },
        "id": "sVyMRkXkNLta",
        "outputId": "635d4d94-9957-4937-fb11-72615d284e94"
      },
      "source": [
        "# noted:outliers are present in SepalWidthCm\n",
        "\n",
        "# 2.Bivariate analysis of numerical columns with  correlation matrix\n",
        "\n",
        "import seaborn as sns\n",
        "matrix = data.corr()\n",
        "print(matrix)\n",
        "\n",
        "fig,ax = plt.subplots(figsize = (4,4))\n",
        "sns.heatmap(matrix,annot = True)"
      ],
      "execution_count": 20,
      "outputs": [
        {
          "output_type": "stream",
          "text": [
            "                     Id  SepalLengthCm  ...  PetalWidthCm   Species\n",
            "Id             1.000000       0.716676  ...      0.899759  0.942830\n",
            "SepalLengthCm  0.716676       1.000000  ...      0.817954  0.782561\n",
            "SepalWidthCm  -0.397729      -0.109369  ...     -0.356544 -0.419446\n",
            "PetalLengthCm  0.882747       0.871754  ...      0.962757  0.949043\n",
            "PetalWidthCm   0.899759       0.817954  ...      1.000000  0.956464\n",
            "Species        0.942830       0.782561  ...      0.956464  1.000000\n",
            "\n",
            "[6 rows x 6 columns]\n"
          ],
          "name": "stdout"
        },
        {
          "output_type": "execute_result",
          "data": {
            "text/plain": [
              "<matplotlib.axes._subplots.AxesSubplot at 0x7f13da84d438>"
            ]
          },
          "metadata": {
            "tags": []
          },
          "execution_count": 20
        },
        {
          "output_type": "display_data",
          "data": {
            "image/png": "[encoded data removed]",
            "text/plain": [
              "<Figure size 288x288 with 2 Axes>"
            ]
          },
          "metadata": {
            "tags": [],
            "needs_background": "light"
          }
        }
      ]
    },
    {
      "cell_type": "markdown",
      "metadata": {
        "id": "TrcA1elnPGS2"
      },
      "source": [
        "**5.Missing Values**\n",
        "-------------------------------------------------------------"
      ]
    },
    {
      "cell_type": "code",
      "metadata": {
        "colab": {
          "base_uri": "https://localhost:8080/"
        },
        "id": "-xhyjy6NPEI3",
        "outputId": "175db047-9424-4264-a4e0-667e07e7638d"
      },
      "source": [
        "data.isnull().sum()\n",
        "# no null values ,so we can proceed"
      ],
      "execution_count": 21,
      "outputs": [
        {
          "output_type": "execute_result",
          "data": {
            "text/plain": [
              "Id               0\n",
              "SepalLengthCm    0\n",
              "SepalWidthCm     0\n",
              "PetalLengthCm    0\n",
              "PetalWidthCm     0\n",
              "Species          0\n",
              "dtype: int64"
            ]
          },
          "metadata": {
            "tags": []
          },
          "execution_count": 21
        }
      ]
    },
    {
      "cell_type": "code",
      "metadata": {
        "id": "zqZ38lUgPKrT"
      },
      "source": [
        ""
      ],
      "execution_count": 7,
      "outputs": []
    },
    {
      "cell_type": "markdown",
      "metadata": {
        "id": "z6v0Te4TaLBn"
      },
      "source": [
        "**6. Towards building models**\n",
        "--------------------------------------------------------------"
      ]
    },
    {
      "cell_type": "code",
      "metadata": {
        "colab": {
          "base_uri": "https://localhost:8080/"
        },
        "id": "ApL_W1IuaP6P",
        "outputId": "6ae49a86-ffbe-4a9f-f70c-a61d3f5839b7"
      },
      "source": [
        "# split dataset into train test\n",
        "\n",
        "from sklearn.model_selection import train_test_split\n",
        "from sklearn.neighbors import LocalOutlierFactor\n",
        "X_train,X_test,y_train,y_test=train_test_split(data,y,random_state =0,test_size =0.2)\n",
        "print(X_train.shape, y_train.shape)\n",
        "print(X_test.shape,y_test.shape)\n",
        "\n",
        "# print(X_train.shape, y_train.shape)"
      ],
      "execution_count": 22,
      "outputs": [
        {
          "output_type": "stream",
          "text": [
            "(120, 6) (120,)\n",
            "(30, 6) (30,)\n"
          ],
          "name": "stdout"
        }
      ]
    },
    {
      "cell_type": "code",
      "metadata": {
        "colab": {
          "base_uri": "https://localhost:8080/"
        },
        "id": "9VwBhw7aayoI",
        "outputId": "50e7d44d-637d-4e84-a6e3-f6413aa10b28"
      },
      "source": [
        "# we will import robust scaler as its is powerfulagainst outliers\n",
        "from sklearn.preprocessing import RobustScaler\n",
        "scaler= RobustScaler()\n",
        "\n",
        "\n",
        "x_train = scaler.fit_transform(X_train)\n",
        "x_test = scaler.transform(X_test)\n",
        "\n"
      ],
      "execution_count": 28,
      "outputs": [
        {
          "output_type": "stream",
          "text": [
            "[[ 0.43809524  0.         -0.4         0.20833333  0.6875      0.5       ]\n",
            " [-0.22222222  0.14285714 -1.6        -0.09722222 -0.1875      0.        ]\n",
            " [-0.59047619 -0.21428571  2.4        -0.81944444 -0.6875     -0.5       ]\n",
            " [ 0.34920635  1.07142857 -0.2         0.54166667  0.3125      0.5       ]\n",
            " [-0.92063492 -0.57142857  0.8        -0.79166667 -0.6875     -0.5       ]\n",
            " [ 0.26031746  0.35714286  0.6         0.45833333  0.75        0.5       ]\n",
            " [-0.5015873  -0.57142857  1.         -0.84722222 -0.625      -0.5       ]\n",
            " [ 0.08253968  0.64285714  0.2         0.09722222  0.125       0.        ]\n",
            " [-0.04444444  0.71428571 -0.4         0.125       0.0625      0.        ]\n",
            " [-0.10793651  0.21428571 -0.4        -0.09722222  0.          0.        ]\n",
            " [ 0.69206349  0.21428571 -0.8         0.34722222  0.0625      0.5       ]\n",
            " [-0.36190476  0.42857143  0.4         0.04166667  0.125       0.        ]\n",
            " [-0.08253968  0.21428571 -0.4         0.09722222 -0.0625      0.        ]\n",
            " [-0.32380952  0.5        -0.4         0.06944444  0.125       0.        ]\n",
            " [-0.20952381  0.21428571 -0.2         0.09722222  0.0625      0.        ]\n",
            " [-0.53968254 -0.64285714  0.2        -0.79166667 -0.75       -0.5       ]\n",
            " [-0.01904762  0.14285714 -0.2         0.04166667  0.125       0.        ]\n",
            " [ 0.13333333 -0.21428571 -0.8         0.01388889 -0.0625      0.        ]\n",
            " [-0.43809524 -0.71428571  0.         -0.81944444 -0.625      -0.5       ]\n",
            " [-0.80634921 -0.28571429  1.8        -0.84722222 -0.5625     -0.5       ]\n",
            " [ 0.52698413 -0.14285714 -0.4         0.15277778  0.4375      0.5       ]\n",
            " [-0.17142857 -0.14285714  0.          0.04166667  0.125       0.        ]\n",
            " [-0.7047619  -0.71428571  0.8        -0.68055556 -0.6875     -0.5       ]\n",
            " [-0.90793651 -1.         -0.2        -0.81944444 -0.6875     -0.5       ]\n",
            " [ 0.59047619  0.28571429 -0.4         0.125       0.3125      0.5       ]\n",
            " [-0.73015873 -0.85714286  1.2        -0.93055556 -0.6875     -0.5       ]\n",
            " [-0.45079365 -0.5         1.6        -0.68055556 -0.5625     -0.5       ]\n",
            " [ 0.22222222  0.28571429 -0.2        -0.01388889  0.          0.        ]\n",
            " [ 0.17142857 -0.57142857 -1.4        -0.29166667 -0.1875      0.        ]\n",
            " [-0.67936508 -0.57142857  0.8        -0.76388889 -0.5625     -0.5       ]]\n"
          ],
          "name": "stdout"
        }
      ]
    },
    {
      "cell_type": "code",
      "metadata": {
        "colab": {
          "base_uri": "https://localhost:8080/"
        },
        "id": "vRFzr1M5cAtp",
        "outputId": "e6372117-8a51-4692-db18-e8d169c8f9f4"
      },
      "source": [
        "from sklearn import model_selection\n",
        "from numpy import abs\n",
        "\n",
        "from sklearn.linear_model import LogisticRegression\n",
        "from sklearn.svm import SVC, LinearSVC\n",
        "from sklearn.ensemble import RandomForestClassifier\n",
        "from sklearn.neighbors import KNeighborsClassifier\n",
        "from sklearn.naive_bayes import GaussianNB\n",
        "from sklearn.linear_model import Perceptron\n",
        "from sklearn.linear_model import SGDClassifier\n",
        "from sklearn.tree import DecisionTreeClassifier\n",
        "\n",
        "models = []\n",
        "names = []\n",
        "\n",
        "models.append(('Logistic Regression',LogisticRegression()))\n",
        "models.append(('Linear svc',LinearSVC()))\n",
        "models.append(('Random forest classifier',RandomForestClassifier()))\n",
        "models.append(('knn ',KNeighborsClassifier()))\n",
        "models.append(('Guassian NB ',GaussianNB()))\n",
        "models.append(('Decision TreeClassifier',DecisionTreeClassifier()))\n",
        "\n",
        "\n",
        "for name,model in models:\n",
        "  cv_score = model_selection.cross_val_score(model,x_train,y_train,cv = 20,scoring='accuracy')\n",
        "  cv_score = np.sqrt(np.abs(cv_score))\n",
        "\n",
        "  \n",
        "  print(\"name:--->>\",name)\n",
        "  print(\"----------------------------------\")\n",
        "  print(\"CV mean Score :{0},CV min:{1},CV std :{2}\".format(np.mean(cv_score),np.min(cv_score),np.std(cv_score)))\n",
        "  print(\"----------------------------------\")"
      ],
      "execution_count": 24,
      "outputs": [
        {
          "output_type": "stream",
          "text": [
            "name:--->> Logistic Regression\n",
            "----------------------------------\n",
            "CV mean Score :0.9912870929175277,CV min:0.9128709291752769,CV std :0.026138721247416927\n",
            "----------------------------------\n",
            "name:--->> Linear svc\n",
            "----------------------------------\n",
            "CV mean Score :0.9956435464587639,CV min:0.9128709291752769,CV std :0.018989340738478303\n",
            "----------------------------------\n",
            "name:--->> Random forest classifier\n",
            "----------------------------------\n",
            "CV mean Score :1.0,CV min:1.0,CV std :0.0\n",
            "----------------------------------\n",
            "name:--->> knn \n",
            "----------------------------------\n",
            "CV mean Score :0.9869306393762916,CV min:0.9128709291752769,CV std :0.03111130116701005\n",
            "----------------------------------\n",
            "name:--->> Guassian NB \n",
            "----------------------------------\n",
            "CV mean Score :1.0,CV min:1.0,CV std :0.0\n",
            "----------------------------------\n",
            "name:--->> Decision TreeClassifier\n",
            "----------------------------------\n",
            "CV mean Score :1.0,CV min:1.0,CV std :0.0\n",
            "----------------------------------\n"
          ],
          "name": "stdout"
        }
      ]
    },
    {
      "cell_type": "code",
      "metadata": {
        "colab": {
          "base_uri": "https://localhost:8080/"
        },
        "id": "5vJ4mpsdcMvm",
        "outputId": "654f625b-b13c-4fb0-f4d4-70ab92c86e77"
      },
      "source": [
        "# Selecting a model\n",
        "# ------------------------------------------------------------------------\n",
        "\n",
        "random_forest = RandomForestClassifier(n_estimators=100)\n",
        "random_forest.fit(x_train, y_train)\n",
        "Y_pred = random_forest.predict(x_test)\n",
        "random_forest.score(x_train, y_train)\n",
        "acc_random_forest = round(random_forest.score(x_train, y_train) * 100, 2)\n",
        "acc_random_forest"
      ],
      "execution_count": 29,
      "outputs": [
        {
          "output_type": "execute_result",
          "data": {
            "text/plain": [
              "100.0"
            ]
          },
          "metadata": {
            "tags": []
          },
          "execution_count": 29
        }
      ]
    },
    {
      "cell_type": "code",
      "metadata": {
        "id": "oQP2I9K-cgzK"
      },
      "source": [
        ""
      ],
      "execution_count": 32,
      "outputs": []
    },
    {
      "cell_type": "code",
      "metadata": {
        "id": "BiCC5m5ddayA"
      },
      "source": [
        ""
      ],
      "execution_count": null,
      "outputs": []
    }
  ]
}