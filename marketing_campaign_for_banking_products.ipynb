{
  "nbformat": 4,
  "nbformat_minor": 0,
  "metadata": {
    "colab": {
      "name": "marketing_campaign_for_banking_products.ipynb",
      "provenance": [],
      "collapsed_sections": [],
      "toc_visible": true,
      "authorship_tag": "ABX9TyPam+WtFpfgfGKcVt/BEL69",
      "include_colab_link": true
    },
    "kernelspec": {
      "name": "python3",
      "display_name": "Python 3"
    }
  },
  "cells": [
    {
      "cell_type": "markdown",
      "metadata": {
        "id": "view-in-github",
        "colab_type": "text"
      },
      "source": [
        "<a href=\"https://colab.research.google.com/github/shila121/projects/blob/main/marketing_campaign_for_banking_products.ipynb\" target=\"_parent\"><img src=\"https://colab.research.google.com/assets/colab-badge.svg\" alt=\"Open In Colab\"/></a>"
      ]
    },
    {
      "cell_type": "markdown",
      "metadata": {
        "id": "2jVM1MVCsiC5"
      },
      "source": [
        "# 1.Framing the Problem Statement\r\n",
        "Here we are trying to predict which customers will buy the banking products or not.\r\n",
        "Target variable is 'deposit'"
      ]
    },
    {
      "cell_type": "markdown",
      "metadata": {
        "id": "1xrY4bbssz8p"
      },
      "source": [
        "# 2.Data Analysis\r\n",
        "we will try to understand the data by following ways\r\n",
        "\r\n",
        "\r\n",
        "1.   hypothesis testing\r\n",
        "2.   univariate/bivariate analysis\r\n",
        "3.   missing data\r\n",
        "4.   numerical data\r\n",
        "5.   outliers\r\n",
        "7.   categorical data\r\n",
        "\r\n",
        "\r\n",
        "\r\n",
        "\r\n",
        "\r\n"
      ]
    },
    {
      "cell_type": "markdown",
      "metadata": {
        "id": "XR8vNI5otS2y"
      },
      "source": [
        "# Step 1:Hypothesis testing"
      ]
    },
    {
      "cell_type": "code",
      "metadata": {
        "colab": {
          "base_uri": "https://localhost:8080/"
        },
        "id": "GztTdhUotW2S",
        "outputId": "9d3357e4-a173-4867-ccf1-d694b028fe0f"
      },
      "source": [
        "# import the libraries\r\n",
        "\r\n",
        "import pandas as pd\r\n",
        "import numpy as np\r\n",
        "import matplotlib.pyplot as plt\r\n",
        "\r\n",
        "# import dataset\r\n",
        "data = pd.read_csv('bank.csv')\r\n",
        "print('data visualization')\r\n",
        "print(data.head())\r\n",
        "print(data.columns,len(data.columns))\r\n",
        "print(data.shape)\r\n",
        "print('*'*80)\r\n",
        "\r\n",
        "# get the categorical columns from the data\r\n",
        "catCols = data.select_dtypes('object').columns\r\n",
        "print('categorical columns',catCols,len(catCols))\r\n",
        "print('*'*80)\r\n",
        "\r\n",
        "# get numerical columns from the data\r\n",
        "numCols = data.select_dtypes('number').columns\r\n",
        "print('numeric columns',numCols,len(numCols))\r\n",
        "print('*'*80)\r\n",
        "\r\n",
        "print(data['deposit'].unique())\r\n",
        "# change the deposit column to numeric value\r\n",
        "from sklearn.preprocessing import LabelEncoder\r\n",
        "le = LabelEncoder()\r\n",
        "data['deposit'] =le.fit_transform(data['deposit'])\r\n",
        "print(data['deposit'].unique())\r\n",
        "\r\n"
      ],
      "execution_count": 1,
      "outputs": [
        {
          "output_type": "stream",
          "text": [
            "data visualization\n",
            "   age         job  marital  education  ... pdays  previous poutcome deposit\n",
            "0   59      admin.  married  secondary  ...    -1         0  unknown     yes\n",
            "1   56      admin.  married  secondary  ...    -1         0  unknown     yes\n",
            "2   41  technician  married  secondary  ...    -1         0  unknown     yes\n",
            "3   55    services  married  secondary  ...    -1         0  unknown     yes\n",
            "4   54      admin.  married   tertiary  ...    -1         0  unknown     yes\n",
            "\n",
            "[5 rows x 17 columns]\n",
            "Index(['age', 'job', 'marital', 'education', 'default', 'balance', 'housing',\n",
            "       'loan', 'contact', 'day', 'month', 'duration', 'campaign', 'pdays',\n",
            "       'previous', 'poutcome', 'deposit'],\n",
            "      dtype='object') 17\n",
            "(11162, 17)\n",
            "********************************************************************************\n",
            "categorical columns Index(['job', 'marital', 'education', 'default', 'housing', 'loan', 'contact',\n",
            "       'month', 'poutcome', 'deposit'],\n",
            "      dtype='object') 10\n",
            "********************************************************************************\n",
            "numeric columns Index(['age', 'balance', 'day', 'duration', 'campaign', 'pdays', 'previous'], dtype='object') 7\n",
            "********************************************************************************\n",
            "['yes' 'no']\n",
            "[1 0]\n"
          ],
          "name": "stdout"
        }
      ]
    },
    {
      "cell_type": "code",
      "metadata": {
        "id": "gdz7nGDRtmik",
        "colab": {
          "base_uri": "https://localhost:8080/"
        },
        "outputId": "ae58e9dd-702a-45c1-a685-bc94b050864a"
      },
      "source": [
        "# we will carry out z-test on the numerical columns to know their impact\r\n",
        "from statsmodels.stats import weightstats as stests\r\n",
        "\r\n",
        "significant_numCols,in_significant_numCols = [],[]\r\n",
        "\r\n",
        "for i in numCols:\r\n",
        "  p_val = stests.ztest(data[i],data.deposit)\r\n",
        "  p_val = p_val[1]\r\n",
        "  print('column:',i,'p_val:',p_val)\r\n",
        "  if p_val < 0.05:\r\n",
        "    status = \"Reject Null Hypothesis,Significant predictor\"\r\n",
        "    print('status',status)\r\n",
        "    print('*'*80)\r\n",
        "    significant_numCols.append(i)\r\n",
        "  else:\r\n",
        "    status = 'Accept Null Hypothesis,Insignificant predictor'\r\n",
        "    print('status',status)\r\n",
        "    in_significant_numCols.append(i)\r\n",
        "    print('*'*80)\r\n",
        "\r\n",
        "print('significant numeric columns:',significant_numCols,len(significant_numCols))\r\n",
        "print('in_significant numeric columns:',in_significant_numCols,len(in_significant_numCols))"
      ],
      "execution_count": 2,
      "outputs": [
        {
          "output_type": "stream",
          "text": [
            "column: age p_val: 0.0\n",
            "status Reject Null Hypothesis,Significant predictor\n",
            "********************************************************************************\n",
            "column: balance p_val: 0.0\n",
            "status Reject Null Hypothesis,Significant predictor\n",
            "********************************************************************************\n",
            "column: day p_val: 0.0\n",
            "status Reject Null Hypothesis,Significant predictor\n",
            "********************************************************************************\n",
            "column: duration p_val: 0.0\n",
            "status Reject Null Hypothesis,Significant predictor\n",
            "********************************************************************************\n",
            "column: campaign p_val: 0.0\n",
            "status Reject Null Hypothesis,Significant predictor\n",
            "********************************************************************************\n",
            "column: pdays p_val: 0.0\n",
            "status Reject Null Hypothesis,Significant predictor\n",
            "********************************************************************************\n",
            "column: previous p_val: 1.0279444227850059e-58\n",
            "status Reject Null Hypothesis,Significant predictor\n",
            "********************************************************************************\n",
            "significant numeric columns: ['age', 'balance', 'day', 'duration', 'campaign', 'pdays', 'previous'] 7\n",
            "in_significant numeric columns: [] 0\n"
          ],
          "name": "stdout"
        },
        {
          "output_type": "stream",
          "text": [
            "/usr/local/lib/python3.6/dist-packages/statsmodels/tools/_testing.py:19: FutureWarning: pandas.util.testing is deprecated. Use the functions in the public API at pandas.testing instead.\n",
            "  import pandas.util.testing as tm\n"
          ],
          "name": "stderr"
        }
      ]
    },
    {
      "cell_type": "code",
      "metadata": {
        "colab": {
          "base_uri": "https://localhost:8080/"
        },
        "id": "cefh8aCD_ssZ",
        "outputId": "5a3e7255-9293-4f69-c68d-c27905e0232b"
      },
      "source": [
        "# wew will carry out chi-square test on categorical columns to know the significance\r\n",
        "\r\n",
        "significant_catCols,in_significant_catCols = [],[]\r\n",
        "\r\n",
        "from scipy.stats import chi2_contingency\r\n",
        "\r\n",
        "for i in catCols:\r\n",
        "  if i != 'deposit':\r\n",
        "    stat,p_val,dof,ex = chi2_contingency(pd.crosstab(data[i],data.deposit))\r\n",
        "    print('column:',i,',p_val:',p_val)\r\n",
        "    if p_val < 0.05:\r\n",
        "      status = \"Reject Null Hypothesis,Significant predictor\"\r\n",
        "      print('status',status)\r\n",
        "      print('*'*80)\r\n",
        "      significant_catCols.append(i)\r\n",
        "    else:\r\n",
        "      status = 'Accept Null Hypothesis,Insignificant predictor'\r\n",
        "      print('status',status)\r\n",
        "      in_significant_catCols.append(i)\r\n",
        "      print('*'*80)\r\n",
        "\r\n",
        "print('significant categorical columns:',significant_catCols,len(significant_catCols))\r\n",
        "print('in_significant categorical columns:',in_significant_catCols,len(in_significant_catCols))\r\n"
      ],
      "execution_count": 3,
      "outputs": [
        {
          "output_type": "stream",
          "text": [
            "column: job ,p_val: 2.741689587081072e-74\n",
            "status Reject Null Hypothesis,Significant predictor\n",
            "********************************************************************************\n",
            "column: marital ,p_val: 1.600576988089358e-24\n",
            "status Reject Null Hypothesis,Significant predictor\n",
            "********************************************************************************\n",
            "column: education ,p_val: 1.9534186354212715e-26\n",
            "status Reject Null Hypothesis,Significant predictor\n",
            "********************************************************************************\n",
            "column: default ,p_val: 2.4428001791928345e-05\n",
            "status Reject Null Hypothesis,Significant predictor\n",
            "********************************************************************************\n",
            "column: housing ,p_val: 9.724394114495535e-103\n",
            "status Reject Null Hypothesis,Significant predictor\n",
            "********************************************************************************\n",
            "column: loan ,p_val: 2.171286879630289e-31\n",
            "status Reject Null Hypothesis,Significant predictor\n",
            "********************************************************************************\n",
            "column: contact ,p_val: 1.0728032438445805e-160\n",
            "status Reject Null Hypothesis,Significant predictor\n",
            "********************************************************************************\n",
            "column: month ,p_val: 1.6420829584486923e-217\n",
            "status Reject Null Hypothesis,Significant predictor\n",
            "********************************************************************************\n",
            "column: poutcome ,p_val: 1.7761850102620281e-217\n",
            "status Reject Null Hypothesis,Significant predictor\n",
            "********************************************************************************\n",
            "significant categorical columns: ['job', 'marital', 'education', 'default', 'housing', 'loan', 'contact', 'month', 'poutcome'] 9\n",
            "in_significant categorical columns: [] 0\n"
          ],
          "name": "stdout"
        }
      ]
    },
    {
      "cell_type": "markdown",
      "metadata": {
        "id": "-Zzdfl4DEU7Q"
      },
      "source": [
        "# Step 2:Univariate/Bivariate analysis"
      ]
    },
    {
      "cell_type": "code",
      "metadata": {
        "colab": {
          "base_uri": "https://localhost:8080/",
          "height": 1000
        },
        "id": "kwLIQKRhEZux",
        "outputId": "98b7e578-924b-41ff-b89b-57be1d4f969f"
      },
      "source": [
        "# univariate analysis of numeric columns with histogram and boxplot\r\n",
        "\r\n",
        "for i in numCols:\r\n",
        "  plt.subplot(1,2,1)\r\n",
        "  plt.hist(data[i],bins =50)\r\n",
        "  plt.xlabel(i)\r\n",
        "  plt.ylabel('unit')\r\n",
        "\r\n",
        "  plt.subplot(1,2,2)\r\n",
        "  plt.boxplot(data[i])\r\n",
        "  plt.xlabel(i)\r\n",
        "  plt.ylabel('unit')\r\n",
        "\r\n",
        "  plt.show()\r\n",
        "\r\n",
        "\r\n"
      ],
      "execution_count": 4,
      "outputs": [
        {
          "output_type": "display_data",
          "data": {
            "image/png": "[encoded data removed]",
            "text/plain": [
              "<Figure size 432x288 with 2 Axes>"
            ]
          },
          "metadata": {
            "tags": [],
            "needs_background": "light"
          }
        },
        {
          "output_type": "display_data",
          "data": {
            "image/png": "[encoded data removed]",
            "text/plain": [
              "<Figure size 432x288 with 2 Axes>"
            ]
          },
          "metadata": {
            "tags": [],
            "needs_background": "light"
          }
        },
        {
          "output_type": "display_data",
          "data": {
            "image/png": "[encoded data removed]",
            "text/plain": [
              "<Figure size 432x288 with 2 Axes>"
            ]
          },
          "metadata": {
            "tags": [],
            "needs_background": "light"
          }
        },
        {
          "output_type": "display_data",
          "data": {
            "image/png": "[encoded data removed]",
            "text/plain": [
              "<Figure size 432x288 with 2 Axes>"
            ]
          },
          "metadata": {
            "tags": [],
            "needs_background": "light"
          }
        },
        {
          "output_type": "display_data",
          "data": {
            "image/png": "[encoded data removed]",
            "text/plain": [
              "<Figure size 432x288 with 2 Axes>"
            ]
          },
          "metadata": {
            "tags": [],
            "needs_background": "light"
          }
        },
        {
          "output_type": "display_data",
          "data": {
            "image/png": "[encoded data removed]",
            "text/plain": [
              "<Figure size 432x288 with 2 Axes>"
            ]
          },
          "metadata": {
            "tags": [],
            "needs_background": "light"
          }
        },
        {
          "output_type": "display_data",
          "data": {
            "image/png": "[encoded data removed]",
            "text/plain": [
              "<Figure size 432x288 with 2 Axes>"
            ]
          },
          "metadata": {
            "tags": [],
            "needs_background": "light"
          }
        }
      ]
    },
    {
      "cell_type": "code",
      "metadata": {
        "colab": {
          "base_uri": "https://localhost:8080/"
        },
        "id": "JIwvl-DwFCxU",
        "outputId": "60f0aed3-055c-4010-d84f-7eb9833b670d"
      },
      "source": [
        "# noted that outliers are present in the data\r\n",
        "\r\n",
        "# univariate analysis of categorical columns with value counts\r\n",
        "\r\n",
        "for i in catCols:\r\n",
        "  print('column:',i)\r\n",
        "  print(data[i].value_counts())\r\n",
        "  print('*'*80)\r\n"
      ],
      "execution_count": 5,
      "outputs": [
        {
          "output_type": "stream",
          "text": [
            "column: job\n",
            "management       2566\n",
            "blue-collar      1944\n",
            "technician       1823\n",
            "admin.           1334\n",
            "services          923\n",
            "retired           778\n",
            "self-employed     405\n",
            "student           360\n",
            "unemployed        357\n",
            "entrepreneur      328\n",
            "housemaid         274\n",
            "unknown            70\n",
            "Name: job, dtype: int64\n",
            "********************************************************************************\n",
            "column: marital\n",
            "married     6351\n",
            "single      3518\n",
            "divorced    1293\n",
            "Name: marital, dtype: int64\n",
            "********************************************************************************\n",
            "column: education\n",
            "secondary    5476\n",
            "tertiary     3689\n",
            "primary      1500\n",
            "unknown       497\n",
            "Name: education, dtype: int64\n",
            "********************************************************************************\n",
            "column: default\n",
            "no     10994\n",
            "yes      168\n",
            "Name: default, dtype: int64\n",
            "********************************************************************************\n",
            "column: housing\n",
            "no     5881\n",
            "yes    5281\n",
            "Name: housing, dtype: int64\n",
            "********************************************************************************\n",
            "column: loan\n",
            "no     9702\n",
            "yes    1460\n",
            "Name: loan, dtype: int64\n",
            "********************************************************************************\n",
            "column: contact\n",
            "cellular     8042\n",
            "unknown      2346\n",
            "telephone     774\n",
            "Name: contact, dtype: int64\n",
            "********************************************************************************\n",
            "column: month\n",
            "may    2824\n",
            "aug    1519\n",
            "jul    1514\n",
            "jun    1222\n",
            "nov     943\n",
            "apr     923\n",
            "feb     776\n",
            "oct     392\n",
            "jan     344\n",
            "sep     319\n",
            "mar     276\n",
            "dec     110\n",
            "Name: month, dtype: int64\n",
            "********************************************************************************\n",
            "column: poutcome\n",
            "unknown    8326\n",
            "failure    1228\n",
            "success    1071\n",
            "other       537\n",
            "Name: poutcome, dtype: int64\n",
            "********************************************************************************\n",
            "column: deposit\n",
            "0    5873\n",
            "1    5289\n",
            "Name: deposit, dtype: int64\n",
            "********************************************************************************\n"
          ],
          "name": "stdout"
        }
      ]
    },
    {
      "cell_type": "code",
      "metadata": {
        "colab": {
          "base_uri": "https://localhost:8080/",
          "height": 513
        },
        "id": "nTjaVHvYGZh5",
        "outputId": "fe08f810-a14b-428c-fd12-d58862a46945"
      },
      "source": [
        "# Bi-variate analysis of numeric data by Co-relation matrix\r\n",
        "import seaborn as sns\r\n",
        "matrix = data.corr()\r\n",
        "print(matrix)\r\n",
        "\r\n",
        "sns.heatmap(matrix,annot = True)\r\n"
      ],
      "execution_count": 6,
      "outputs": [
        {
          "output_type": "stream",
          "text": [
            "               age   balance       day  ...     pdays  previous   deposit\n",
            "age       1.000000  0.112300 -0.000762  ...  0.002774  0.020169  0.034901\n",
            "balance   0.112300  1.000000  0.010467  ...  0.017411  0.030805  0.081129\n",
            "day      -0.000762  0.010467  1.000000  ... -0.077232 -0.058981 -0.056326\n",
            "duration  0.000189  0.022436 -0.018511  ... -0.027392 -0.026716  0.451919\n",
            "campaign -0.005278 -0.013894  0.137007  ... -0.102726 -0.049699 -0.128081\n",
            "pdays     0.002774  0.017411 -0.077232  ...  1.000000  0.507272  0.151593\n",
            "previous  0.020169  0.030805 -0.058981  ...  0.507272  1.000000  0.139867\n",
            "deposit   0.034901  0.081129 -0.056326  ...  0.151593  0.139867  1.000000\n",
            "\n",
            "[8 rows x 8 columns]\n"
          ],
          "name": "stdout"
        },
        {
          "output_type": "execute_result",
          "data": {
            "text/plain": [
              "<matplotlib.axes._subplots.AxesSubplot at 0x7f1baf7d74a8>"
            ]
          },
          "metadata": {
            "tags": []
          },
          "execution_count": 6
        },
        {
          "output_type": "display_data",
          "data": {
            "image/png": "[encoded data removed]",
            "text/plain": [
              "<Figure size 432x288 with 2 Axes>"
            ]
          },
          "metadata": {
            "tags": [],
            "needs_background": "light"
          }
        }
      ]
    },
    {
      "cell_type": "code",
      "metadata": {
        "colab": {
          "base_uri": "https://localhost:8080/",
          "height": 1000
        },
        "id": "QiiZmnbHG5E9",
        "outputId": "fb726119-f2ee-44d0-c91b-91146bc6fa80"
      },
      "source": [
        "# Bi-variate analysis of categorical columns\r\n",
        "\r\n",
        "for i in catCols:\r\n",
        "  category = pd.crosstab(data[i],data['deposit'])\r\n",
        "  category.div(category.sum(1).astype(float),axis =0 ).plot(kind = 'bar',stacked = True)\r\n",
        "  plt.show()\r\n",
        "\r\n"
      ],
      "execution_count": 7,
      "outputs": [
        {
          "output_type": "display_data",
          "data": {
            "image/png": "[encoded data removed]",
            "text/plain": [
              "<Figure size 432x288 with 1 Axes>"
            ]
          },
          "metadata": {
            "tags": [],
            "needs_background": "light"
          }
        },
        {
          "output_type": "display_data",
          "data": {
            "image/png": "[encoded data removed]",
            "text/plain": [
              "<Figure size 432x288 with 1 Axes>"
            ]
          },
          "metadata": {
            "tags": [],
            "needs_background": "light"
          }
        },
        {
          "output_type": "display_data",
          "data": {
            "image/png": "[encoded data removed]",
            "text/plain": [
              "<Figure size 432x288 with 1 Axes>"
            ]
          },
          "metadata": {
            "tags": [],
            "needs_background": "light"
          }
        },
        {
          "output_type": "display_data",
          "data": {
            "image/png": "[encoded data removed]",
            "text/plain": [
              "<Figure size 432x288 with 1 Axes>"
            ]
          },
          "metadata": {
            "tags": [],
            "needs_background": "light"
          }
        },
        {
          "output_type": "display_data",
          "data": {
            "image/png": "[encoded data removed]",
            "text/plain": [
              "<Figure size 432x288 with 1 Axes>"
            ]
          },
          "metadata": {
            "tags": [],
            "needs_background": "light"
          }
        },
        {
          "output_type": "display_data",
          "data": {
            "image/png": "[encoded data removed]",
            "text/plain": [
              "<Figure size 432x288 with 1 Axes>"
            ]
          },
          "metadata": {
            "tags": [],
            "needs_background": "light"
          }
        },
        {
          "output_type": "display_data",
          "data": {
            "image/png": "[encoded data removed]",
            "text/plain": [
              "<Figure size 432x288 with 1 Axes>"
            ]
          },
          "metadata": {
            "tags": [],
            "needs_background": "light"
          }
        },
        {
          "output_type": "display_data",
          "data": {
            "image/png": "[encoded data removed]",
            "text/plain": [
              "<Figure size 432x288 with 1 Axes>"
            ]
          },
          "metadata": {
            "tags": [],
            "needs_background": "light"
          }
        },
        {
          "output_type": "display_data",
          "data": {
            "image/png": "[encoded data removed]",
            "text/plain": [
              "<Figure size 432x288 with 1 Axes>"
            ]
          },
          "metadata": {
            "tags": [],
            "needs_background": "light"
          }
        },
        {
          "output_type": "display_data",
          "data": {
            "image/png": "[encoded data removed]",
            "text/plain": [
              "<Figure size 432x288 with 1 Axes>"
            ]
          },
          "metadata": {
            "tags": [],
            "needs_background": "light"
          }
        }
      ]
    },
    {
      "cell_type": "markdown",
      "metadata": {
        "id": "pCeVDVhzQlmx"
      },
      "source": [
        "# Step 3:Missing Value "
      ]
    },
    {
      "cell_type": "code",
      "metadata": {
        "colab": {
          "base_uri": "https://localhost:8080/"
        },
        "id": "SU3Hfig1Qr26",
        "outputId": "4568f97c-acd6-47ec-e3e7-870f439c08a9"
      },
      "source": [
        "# lets analyse if there is any missing values\r\n",
        "print(data.isnull().sum())\r\n",
        "\r\n",
        "# luckily no missing data"
      ],
      "execution_count": 8,
      "outputs": [
        {
          "output_type": "stream",
          "text": [
            "age          0\n",
            "job          0\n",
            "marital      0\n",
            "education    0\n",
            "default      0\n",
            "balance      0\n",
            "housing      0\n",
            "loan         0\n",
            "contact      0\n",
            "day          0\n",
            "month        0\n",
            "duration     0\n",
            "campaign     0\n",
            "pdays        0\n",
            "previous     0\n",
            "poutcome     0\n",
            "deposit      0\n",
            "dtype: int64\n"
          ],
          "name": "stdout"
        }
      ]
    },
    {
      "cell_type": "markdown",
      "metadata": {
        "id": "IC9xanYARAE1"
      },
      "source": [
        "# Step 4:Numerical data analysis"
      ]
    },
    {
      "cell_type": "code",
      "metadata": {
        "colab": {
          "base_uri": "https://localhost:8080/"
        },
        "id": "4n8BbVydRGLu",
        "outputId": "430576c1-626e-4f3b-b0c2-85589e7202ae"
      },
      "source": [
        "print('numerical columns:',numCols,len(numCols))\r\n",
        "\r\n",
        "# ->1. visualize numerical data\r\n",
        "print(data[numCols].head())\r\n",
        "print('*'*80)\r\n",
        "\r\n",
        "# ->2. make a list of discrete numerical columns\r\n",
        "discrete_numCols = [var for var in numCols if len(data[var].unique())<20]\r\n",
        "print('dicrete numerical columns:',discrete_numCols,len(discrete_numCols))\r\n",
        "print('*'*80)\r\n",
        "\r\n",
        "# ->3.make a list of discrete numerical columns\r\n",
        "continuous_numCols = [var for var in numCols if len(data[var].unique())>20]\r\n",
        "print('continuous numerical columns:',continuous_numCols,len(continuous_numCols))\r\n",
        "print('*'*80)\r\n",
        "\r\n",
        "# ->4.visualize the continuous numerical columns\r\n",
        "print(data[continuous_numCols].head())\r\n",
        "print('*'*80)"
      ],
      "execution_count": 17,
      "outputs": [
        {
          "output_type": "stream",
          "text": [
            "numerical columns: Index(['age', 'balance', 'day', 'duration', 'campaign', 'pdays', 'previous'], dtype='object') 7\n",
            "   age  balance  day  duration  campaign  pdays  previous\n",
            "0   59     2343    5      1042         1     -1         0\n",
            "1   56       45    5      1467         1     -1         0\n",
            "2   41     1270    5      1389         1     -1         0\n",
            "3   55     2476    5       579         1     -1         0\n",
            "4   54      184    5       673         2     -1         0\n",
            "********************************************************************************\n",
            "dicrete numerical columns: [] 0\n",
            "********************************************************************************\n",
            "continuous numerical columns: ['age', 'balance', 'day', 'duration', 'campaign', 'pdays', 'previous'] 7\n",
            "********************************************************************************\n",
            "   age  balance  day  duration  campaign  pdays  previous\n",
            "0   59     2343    5      1042         1     -1         0\n",
            "1   56       45    5      1467         1     -1         0\n",
            "2   41     1270    5      1389         1     -1         0\n",
            "3   55     2476    5       579         1     -1         0\n",
            "4   54      184    5       673         2     -1         0\n",
            "********************************************************************************\n"
          ],
          "name": "stdout"
        }
      ]
    },
    {
      "cell_type": "markdown",
      "metadata": {
        "id": "A62e48QHnavB"
      },
      "source": [
        "# Step 5.Outliers Analysis\r\n"
      ]
    },
    {
      "cell_type": "code",
      "metadata": {
        "colab": {
          "base_uri": "https://localhost:8080/",
          "height": 1000
        },
        "id": "8f4sXvlknfOT",
        "outputId": "85225a19-eed6-4e82-ff96-62d8afb64837"
      },
      "source": [
        "def find_outliers(df,var):\r\n",
        "  df = df.copy()\r\n",
        "  df.boxplot(column = var)\r\n",
        "  plt.title(var)\r\n",
        "  plt.show()\r\n",
        "\r\n",
        "\r\n",
        "for i in continuous_numCols:\r\n",
        "  find_outliers(data,i)\r\n"
      ],
      "execution_count": 18,
      "outputs": [
        {
          "output_type": "display_data",
          "data": {
            "image/png": "[encoded data removed]",
            "text/plain": [
              "<Figure size 432x288 with 1 Axes>"
            ]
          },
          "metadata": {
            "tags": [],
            "needs_background": "light"
          }
        },
        {
          "output_type": "display_data",
          "data": {
            "image/png": "[encoded data removed]",
            "text/plain": [
              "<Figure size 432x288 with 1 Axes>"
            ]
          },
          "metadata": {
            "tags": [],
            "needs_background": "light"
          }
        },
        {
          "output_type": "display_data",
          "data": {
            "image/png": "[encoded data removed]",
            "text/plain": [
              "<Figure size 432x288 with 1 Axes>"
            ]
          },
          "metadata": {
            "tags": [],
            "needs_background": "light"
          }
        },
        {
          "output_type": "display_data",
          "data": {
            "image/png": "[encoded data removed]",
            "text/plain": [
              "<Figure size 432x288 with 1 Axes>"
            ]
          },
          "metadata": {
            "tags": [],
            "needs_background": "light"
          }
        },
        {
          "output_type": "display_data",
          "data": {
            "image/png": "[encoded data removed]",
            "text/plain": [
              "<Figure size 432x288 with 1 Axes>"
            ]
          },
          "metadata": {
            "tags": [],
            "needs_background": "light"
          }
        },
        {
          "output_type": "display_data",
          "data": {
            "image/png": "[encoded data removed]",
            "text/plain": [
              "<Figure size 432x288 with 1 Axes>"
            ]
          },
          "metadata": {
            "tags": [],
            "needs_background": "light"
          }
        },
        {
          "output_type": "display_data",
          "data": {
            "image/png": "[encoded data removed]",
            "text/plain": [
              "<Figure size 432x288 with 1 Axes>"
            ]
          },
          "metadata": {
            "tags": [],
            "needs_background": "light"
          }
        }
      ]
    },
    {
      "cell_type": "markdown",
      "metadata": {
        "id": "7GxzHjsNnu-W"
      },
      "source": [
        "# Step 6:Categorical data analysis"
      ]
    },
    {
      "cell_type": "code",
      "metadata": {
        "colab": {
          "base_uri": "https://localhost:8080/"
        },
        "id": "yZBhu7cenwB7",
        "outputId": "06ed323e-6af8-43b5-c7a3-34fb8a087026"
      },
      "source": [
        "# ->1.visualize the categorical data\r\n",
        "print('categorical columns:',catCols,len(catCols))\r\n",
        "print('-'*60)\r\n",
        "print(data[catCols].head())\r\n",
        "print('-'*60)\r\n",
        "\r\n",
        "# ->2.cardinality of the categorical data\r\n",
        "print(data[catCols].nunique())\r\n",
        "print('-'*60)\r\n",
        "\r\n",
        "# ->3 analyse rare labels\r\n",
        "def analyse_rare_vars(df,var,rare_percentage):\r\n",
        "  df = df.copy()\r\n",
        "  tmp = df.groupby(var)['deposit'].count()/len(df)\r\n",
        "  return tmp[tmp < rare_percentage]\r\n",
        "\r\n",
        "for i in catCols:\r\n",
        "  print(analyse_rare_vars(data,i,0.01)) #here we,consider rare percent as 1%\r\n",
        "  print()\r\n"
      ],
      "execution_count": 21,
      "outputs": [
        {
          "output_type": "stream",
          "text": [
            "categorical columns: Index(['job', 'marital', 'education', 'default', 'housing', 'loan', 'contact',\n",
            "       'month', 'poutcome', 'deposit'],\n",
            "      dtype='object') 10\n",
            "------------------------------------------------------------\n",
            "          job  marital  education default  ...  contact month poutcome deposit\n",
            "0      admin.  married  secondary      no  ...  unknown   may  unknown       1\n",
            "1      admin.  married  secondary      no  ...  unknown   may  unknown       1\n",
            "2  technician  married  secondary      no  ...  unknown   may  unknown       1\n",
            "3    services  married  secondary      no  ...  unknown   may  unknown       1\n",
            "4      admin.  married   tertiary      no  ...  unknown   may  unknown       1\n",
            "\n",
            "[5 rows x 10 columns]\n",
            "------------------------------------------------------------\n",
            "job          12\n",
            "marital       3\n",
            "education     4\n",
            "default       2\n",
            "housing       2\n",
            "loan          2\n",
            "contact       3\n",
            "month        12\n",
            "poutcome      4\n",
            "deposit       2\n",
            "dtype: int64\n",
            "------------------------------------------------------------\n",
            "job\n",
            "unknown    0.006271\n",
            "Name: deposit, dtype: float64\n",
            "\n",
            "Series([], Name: deposit, dtype: float64)\n",
            "\n",
            "Series([], Name: deposit, dtype: float64)\n",
            "\n",
            "Series([], Name: deposit, dtype: float64)\n",
            "\n",
            "Series([], Name: deposit, dtype: float64)\n",
            "\n",
            "Series([], Name: deposit, dtype: float64)\n",
            "\n",
            "Series([], Name: deposit, dtype: float64)\n",
            "\n",
            "month\n",
            "dec    0.009855\n",
            "Name: deposit, dtype: float64\n",
            "\n",
            "Series([], Name: deposit, dtype: float64)\n",
            "\n",
            "Series([], Name: deposit, dtype: float64)\n",
            "\n"
          ],
          "name": "stdout"
        }
      ]
    },
    {
      "cell_type": "markdown",
      "metadata": {
        "id": "N_JR3qKZooU1"
      },
      "source": [
        "# 3.Feature Engineering\r\n",
        "Here,we will deal with all the problems like\r\n",
        "\r\n",
        "1.   train_test split\r\n",
        "2.   missing value treatment\r\n",
        "3.   outlier treatment\r\n",
        "4.   rare category treatment\r\n",
        "5.   caterical data encoding\r\n",
        "6.   feature scaling\r\n",
        "7.   feature selection\r\n",
        "\r\n",
        "\r\n",
        "\r\n",
        "\r\n",
        "\r\n",
        "\r\n",
        "\r\n",
        "\r\n",
        "\r\n",
        "\r\n",
        "\r\n",
        "\r\n",
        "\r\n",
        "\r\n"
      ]
    },
    {
      "cell_type": "code",
      "metadata": {
        "colab": {
          "base_uri": "https://localhost:8080/"
        },
        "id": "T1llfwp5oBzS",
        "outputId": "1eb2ac6f-10c3-4233-e8e0-c70d0bb65f35"
      },
      "source": [
        "# ->1. Train test split\r\n",
        "from sklearn.model_selection import train_test_split\r\n",
        "X_train,X_test,y_train,y_test = train_test_split(data,data['deposit'],random_state =0,test_size = 0.2)\r\n",
        "print(X_train.shape,X_test.shape,y_train.shape,y_test.shape)"
      ],
      "execution_count": 22,
      "outputs": [
        {
          "output_type": "stream",
          "text": [
            "(8929, 17) (2233, 17) (8929,) (2233,)\n"
          ],
          "name": "stdout"
        }
      ]
    },
    {
      "cell_type": "code",
      "metadata": {
        "id": "GR1hp1f3pzFg"
      },
      "source": [
        "# ->2. missing value treatmnet\r\n",
        "\r\n",
        "# get the categorical columns with na values\r\n",
        "# no missing data so skipping this step"
      ],
      "execution_count": 23,
      "outputs": []
    },
    {
      "cell_type": "code",
      "metadata": {
        "colab": {
          "base_uri": "https://localhost:8080/",
          "height": 1000
        },
        "id": "aPHwDALNp6HK",
        "outputId": "14a25fa0-2adf-4156-e9a9-3db9e0ae2a83"
      },
      "source": [
        "# -> 3. handling outliers\r\n",
        "\r\n",
        "\r\n",
        "for var in continuous_numCols:\r\n",
        "  find_outliers(data,var)"
      ],
      "execution_count": 24,
      "outputs": [
        {
          "output_type": "display_data",
          "data": {
            "image/png": "[encoded data removed]",
            "text/plain": [
              "<Figure size 432x288 with 1 Axes>"
            ]
          },
          "metadata": {
            "tags": [],
            "needs_background": "light"
          }
        },
        {
          "output_type": "display_data",
          "data": {
            "image/png": "[encoded data removed]",
            "text/plain": [
              "<Figure size 432x288 with 1 Axes>"
            ]
          },
          "metadata": {
            "tags": [],
            "needs_background": "light"
          }
        },
        {
          "output_type": "display_data",
          "data": {
            "image/png": "[encoded data removed]",
            "text/plain": [
              "<Figure size 432x288 with 1 Axes>"
            ]
          },
          "metadata": {
            "tags": [],
            "needs_background": "light"
          }
        },
        {
          "output_type": "display_data",
          "data": {
            "image/png": "[encoded data removed]",
            "text/plain": [
              "<Figure size 432x288 with 1 Axes>"
            ]
          },
          "metadata": {
            "tags": [],
            "needs_background": "light"
          }
        },
        {
          "output_type": "display_data",
          "data": {
            "image/png": "[encoded data removed]",
            "text/plain": [
              "<Figure size 432x288 with 1 Axes>"
            ]
          },
          "metadata": {
            "tags": [],
            "needs_background": "light"
          }
        },
        {
          "output_type": "display_data",
          "data": {
            "image/png": "[encoded data removed]",
            "text/plain": [
              "<Figure size 432x288 with 1 Axes>"
            ]
          },
          "metadata": {
            "tags": [],
            "needs_background": "light"
          }
        },
        {
          "output_type": "display_data",
          "data": {
            "image/png": "[encoded data removed]",
            "text/plain": [
              "<Figure size 432x288 with 1 Axes>"
            ]
          },
          "metadata": {
            "tags": [],
            "needs_background": "light"
          }
        }
      ]
    },
    {
      "cell_type": "code",
      "metadata": {
        "colab": {
          "base_uri": "https://localhost:8080/"
        },
        "id": "7pI61bZxqDcv",
        "outputId": "373e4d58-9895-4d12-8817-2455fd731569"
      },
      "source": [
        "# ->handling rare labels\r\n",
        "\r\n",
        "print('categorical columns:',catCols,len(catCols))"
      ],
      "execution_count": 25,
      "outputs": [
        {
          "output_type": "stream",
          "text": [
            "categorical columns: Index(['job', 'marital', 'education', 'default', 'housing', 'loan', 'contact',\n",
            "       'month', 'poutcome', 'deposit'],\n",
            "      dtype='object') 10\n"
          ],
          "name": "stdout"
        }
      ]
    },
    {
      "cell_type": "code",
      "metadata": {
        "colab": {
          "base_uri": "https://localhost:8080/"
        },
        "id": "I0EP-7JKqIcq",
        "outputId": "5d565346-69d6-40d4-a4cf-c2d563fd6fd1"
      },
      "source": [
        "cat_vars = [var for var in X_train.columns if X_train[var].dtype == 'O']\r\n",
        "\r\n",
        "def find_frequent_labels(df,var,rare_percent):\r\n",
        "  df = df.copy()\r\n",
        "  tmp = df.groupby(var)['deposit'].count()/len(df)\r\n",
        "  return tmp[tmp>rare_percent].index\r\n",
        "\r\n",
        "print('categorical variables:',cat_vars,len(cat_vars))\r\n",
        "\r\n",
        "for var in cat_vars:\r\n",
        "\r\n",
        "  # find the frequent categories\r\n",
        "  frequent_ls = find_frequent_labels(X_train,var,0.01)\r\n",
        "\r\n",
        "  # replace rarecategorical columns with 'Rare' labels\r\n",
        "  X_train[var] = np.where(X_train[var].isin(frequent_ls),X_train[var],'Rare')\r\n",
        "\r\n",
        "  X_test[var] = np.where(X_test[var].isin(frequent_ls),X_test[var],'Rare')"
      ],
      "execution_count": 26,
      "outputs": [
        {
          "output_type": "stream",
          "text": [
            "categorical variables: ['job', 'marital', 'education', 'default', 'housing', 'loan', 'contact', 'month', 'poutcome'] 9\n"
          ],
          "name": "stdout"
        },
        {
          "output_type": "stream",
          "text": [
            "/usr/local/lib/python3.6/dist-packages/ipykernel_launcher.py:16: SettingWithCopyWarning: \n",
            "A value is trying to be set on a copy of a slice from a DataFrame.\n",
            "Try using .loc[row_indexer,col_indexer] = value instead\n",
            "\n",
            "See the caveats in the documentation: https://pandas.pydata.org/pandas-docs/stable/user_guide/indexing.html#returning-a-view-versus-a-copy\n",
            "  app.launch_new_instance()\n",
            "/usr/local/lib/python3.6/dist-packages/ipykernel_launcher.py:18: SettingWithCopyWarning: \n",
            "A value is trying to be set on a copy of a slice from a DataFrame.\n",
            "Try using .loc[row_indexer,col_indexer] = value instead\n",
            "\n",
            "See the caveats in the documentation: https://pandas.pydata.org/pandas-docs/stable/user_guide/indexing.html#returning-a-view-versus-a-copy\n",
            "/usr/local/lib/python3.6/dist-packages/ipykernel_launcher.py:16: SettingWithCopyWarning: \n",
            "A value is trying to be set on a copy of a slice from a DataFrame.\n",
            "Try using .loc[row_indexer,col_indexer] = value instead\n",
            "\n",
            "See the caveats in the documentation: https://pandas.pydata.org/pandas-docs/stable/user_guide/indexing.html#returning-a-view-versus-a-copy\n",
            "  app.launch_new_instance()\n",
            "/usr/local/lib/python3.6/dist-packages/ipykernel_launcher.py:18: SettingWithCopyWarning: \n",
            "A value is trying to be set on a copy of a slice from a DataFrame.\n",
            "Try using .loc[row_indexer,col_indexer] = value instead\n",
            "\n",
            "See the caveats in the documentation: https://pandas.pydata.org/pandas-docs/stable/user_guide/indexing.html#returning-a-view-versus-a-copy\n",
            "/usr/local/lib/python3.6/dist-packages/ipykernel_launcher.py:16: SettingWithCopyWarning: \n",
            "A value is trying to be set on a copy of a slice from a DataFrame.\n",
            "Try using .loc[row_indexer,col_indexer] = value instead\n",
            "\n",
            "See the caveats in the documentation: https://pandas.pydata.org/pandas-docs/stable/user_guide/indexing.html#returning-a-view-versus-a-copy\n",
            "  app.launch_new_instance()\n",
            "/usr/local/lib/python3.6/dist-packages/ipykernel_launcher.py:18: SettingWithCopyWarning: \n",
            "A value is trying to be set on a copy of a slice from a DataFrame.\n",
            "Try using .loc[row_indexer,col_indexer] = value instead\n",
            "\n",
            "See the caveats in the documentation: https://pandas.pydata.org/pandas-docs/stable/user_guide/indexing.html#returning-a-view-versus-a-copy\n",
            "/usr/local/lib/python3.6/dist-packages/ipykernel_launcher.py:16: SettingWithCopyWarning: \n",
            "A value is trying to be set on a copy of a slice from a DataFrame.\n",
            "Try using .loc[row_indexer,col_indexer] = value instead\n",
            "\n",
            "See the caveats in the documentation: https://pandas.pydata.org/pandas-docs/stable/user_guide/indexing.html#returning-a-view-versus-a-copy\n",
            "  app.launch_new_instance()\n",
            "/usr/local/lib/python3.6/dist-packages/ipykernel_launcher.py:18: SettingWithCopyWarning: \n",
            "A value is trying to be set on a copy of a slice from a DataFrame.\n",
            "Try using .loc[row_indexer,col_indexer] = value instead\n",
            "\n",
            "See the caveats in the documentation: https://pandas.pydata.org/pandas-docs/stable/user_guide/indexing.html#returning-a-view-versus-a-copy\n",
            "/usr/local/lib/python3.6/dist-packages/ipykernel_launcher.py:16: SettingWithCopyWarning: \n",
            "A value is trying to be set on a copy of a slice from a DataFrame.\n",
            "Try using .loc[row_indexer,col_indexer] = value instead\n",
            "\n",
            "See the caveats in the documentation: https://pandas.pydata.org/pandas-docs/stable/user_guide/indexing.html#returning-a-view-versus-a-copy\n",
            "  app.launch_new_instance()\n",
            "/usr/local/lib/python3.6/dist-packages/ipykernel_launcher.py:18: SettingWithCopyWarning: \n",
            "A value is trying to be set on a copy of a slice from a DataFrame.\n",
            "Try using .loc[row_indexer,col_indexer] = value instead\n",
            "\n",
            "See the caveats in the documentation: https://pandas.pydata.org/pandas-docs/stable/user_guide/indexing.html#returning-a-view-versus-a-copy\n",
            "/usr/local/lib/python3.6/dist-packages/ipykernel_launcher.py:16: SettingWithCopyWarning: \n",
            "A value is trying to be set on a copy of a slice from a DataFrame.\n",
            "Try using .loc[row_indexer,col_indexer] = value instead\n",
            "\n",
            "See the caveats in the documentation: https://pandas.pydata.org/pandas-docs/stable/user_guide/indexing.html#returning-a-view-versus-a-copy\n",
            "  app.launch_new_instance()\n",
            "/usr/local/lib/python3.6/dist-packages/ipykernel_launcher.py:18: SettingWithCopyWarning: \n",
            "A value is trying to be set on a copy of a slice from a DataFrame.\n",
            "Try using .loc[row_indexer,col_indexer] = value instead\n",
            "\n",
            "See the caveats in the documentation: https://pandas.pydata.org/pandas-docs/stable/user_guide/indexing.html#returning-a-view-versus-a-copy\n",
            "/usr/local/lib/python3.6/dist-packages/ipykernel_launcher.py:16: SettingWithCopyWarning: \n",
            "A value is trying to be set on a copy of a slice from a DataFrame.\n",
            "Try using .loc[row_indexer,col_indexer] = value instead\n",
            "\n",
            "See the caveats in the documentation: https://pandas.pydata.org/pandas-docs/stable/user_guide/indexing.html#returning-a-view-versus-a-copy\n",
            "  app.launch_new_instance()\n",
            "/usr/local/lib/python3.6/dist-packages/ipykernel_launcher.py:18: SettingWithCopyWarning: \n",
            "A value is trying to be set on a copy of a slice from a DataFrame.\n",
            "Try using .loc[row_indexer,col_indexer] = value instead\n",
            "\n",
            "See the caveats in the documentation: https://pandas.pydata.org/pandas-docs/stable/user_guide/indexing.html#returning-a-view-versus-a-copy\n",
            "/usr/local/lib/python3.6/dist-packages/ipykernel_launcher.py:16: SettingWithCopyWarning: \n",
            "A value is trying to be set on a copy of a slice from a DataFrame.\n",
            "Try using .loc[row_indexer,col_indexer] = value instead\n",
            "\n",
            "See the caveats in the documentation: https://pandas.pydata.org/pandas-docs/stable/user_guide/indexing.html#returning-a-view-versus-a-copy\n",
            "  app.launch_new_instance()\n",
            "/usr/local/lib/python3.6/dist-packages/ipykernel_launcher.py:18: SettingWithCopyWarning: \n",
            "A value is trying to be set on a copy of a slice from a DataFrame.\n",
            "Try using .loc[row_indexer,col_indexer] = value instead\n",
            "\n",
            "See the caveats in the documentation: https://pandas.pydata.org/pandas-docs/stable/user_guide/indexing.html#returning-a-view-versus-a-copy\n",
            "/usr/local/lib/python3.6/dist-packages/ipykernel_launcher.py:16: SettingWithCopyWarning: \n",
            "A value is trying to be set on a copy of a slice from a DataFrame.\n",
            "Try using .loc[row_indexer,col_indexer] = value instead\n",
            "\n",
            "See the caveats in the documentation: https://pandas.pydata.org/pandas-docs/stable/user_guide/indexing.html#returning-a-view-versus-a-copy\n",
            "  app.launch_new_instance()\n",
            "/usr/local/lib/python3.6/dist-packages/ipykernel_launcher.py:18: SettingWithCopyWarning: \n",
            "A value is trying to be set on a copy of a slice from a DataFrame.\n",
            "Try using .loc[row_indexer,col_indexer] = value instead\n",
            "\n",
            "See the caveats in the documentation: https://pandas.pydata.org/pandas-docs/stable/user_guide/indexing.html#returning-a-view-versus-a-copy\n"
          ],
          "name": "stderr"
        }
      ]
    },
    {
      "cell_type": "code",
      "metadata": {
        "colab": {
          "base_uri": "https://localhost:8080/"
        },
        "id": "abCeAoKeqNVz",
        "outputId": "620d859b-33cc-4ffe-e41f-b812ab44b723"
      },
      "source": [
        "# ->6.Encoding categorical variables\r\n",
        "\r\n",
        "def replace_categories(train,test,var,target):\r\n",
        "\r\n",
        "  ordered_labels = train.groupby([var])[target].mean().sort_values().index\r\n",
        "\r\n",
        "  ordinal_label ={k:i for i,k in enumerate(ordered_labels,0)}\r\n",
        "\r\n",
        "  train[var] = train[var].map(ordinal_label)\r\n",
        "  test[var] = test[var].map(ordinal_label)\r\n",
        "\r\n",
        "for var in cat_vars:\r\n",
        "  replace_categories(X_train, X_test, var, 'deposit')\r\n",
        "\r\n",
        "print(X_train.shape,X_test.shape)\r\n",
        "print(X_train.head())"
      ],
      "execution_count": 28,
      "outputs": [
        {
          "output_type": "stream",
          "text": [
            "(8929, 17) (2233, 17)\n",
            "      age  job  marital  education  ...  pdays  previous  poutcome  deposit\n",
            "6111   49    8        0          1  ...     -1         0         0        0\n",
            "1149   59   10        1          1  ...     -1         0         0        1\n",
            "2954   33    0        0          0  ...     -1         0         0        1\n",
            "2458   58    9        0          1  ...     99         2         3        1\n",
            "7504   33    5        0          1  ...    374         3         2        0\n",
            "\n",
            "[5 rows x 17 columns]\n"
          ],
          "name": "stdout"
        },
        {
          "output_type": "stream",
          "text": [
            "/usr/local/lib/python3.6/dist-packages/ipykernel_launcher.py:9: SettingWithCopyWarning: \n",
            "A value is trying to be set on a copy of a slice from a DataFrame.\n",
            "Try using .loc[row_indexer,col_indexer] = value instead\n",
            "\n",
            "See the caveats in the documentation: https://pandas.pydata.org/pandas-docs/stable/user_guide/indexing.html#returning-a-view-versus-a-copy\n",
            "  if __name__ == '__main__':\n",
            "/usr/local/lib/python3.6/dist-packages/ipykernel_launcher.py:10: SettingWithCopyWarning: \n",
            "A value is trying to be set on a copy of a slice from a DataFrame.\n",
            "Try using .loc[row_indexer,col_indexer] = value instead\n",
            "\n",
            "See the caveats in the documentation: https://pandas.pydata.org/pandas-docs/stable/user_guide/indexing.html#returning-a-view-versus-a-copy\n",
            "  # Remove the CWD from sys.path while we load stuff.\n"
          ],
          "name": "stderr"
        }
      ]
    },
    {
      "cell_type": "code",
      "metadata": {
        "colab": {
          "base_uri": "https://localhost:8080/"
        },
        "id": "41fCnmRvqTiF",
        "outputId": "8860deb6-58af-4527-cd76-a7bdde6f4f65"
      },
      "source": [
        "# ->7 Feature scaling\r\n",
        "train_vars = [var for var in X_train.columns if var not in ['deposit']]\r\n",
        "print(train_vars,len(train_vars))\r\n",
        "\r\n",
        "# import the scale\r\n",
        "from sklearn.preprocessing import RobustScaler\r\n",
        "scaler = RobustScaler()\r\n",
        "\r\n",
        "scaler.fit(X_train[train_vars])\r\n",
        "\r\n",
        "# transform the train and test set\r\n",
        "X_train[train_vars] = scaler.transform(X_train[train_vars])\r\n",
        "\r\n",
        "X_test[train_vars] = scaler.transform(X_test[train_vars])"
      ],
      "execution_count": 29,
      "outputs": [
        {
          "output_type": "stream",
          "text": [
            "['age', 'job', 'marital', 'education', 'default', 'balance', 'housing', 'loan', 'contact', 'day', 'month', 'duration', 'campaign', 'pdays', 'previous', 'poutcome'] 16\n"
          ],
          "name": "stdout"
        },
        {
          "output_type": "stream",
          "text": [
            "/usr/local/lib/python3.6/dist-packages/ipykernel_launcher.py:12: SettingWithCopyWarning: \n",
            "A value is trying to be set on a copy of a slice from a DataFrame.\n",
            "Try using .loc[row_indexer,col_indexer] = value instead\n",
            "\n",
            "See the caveats in the documentation: https://pandas.pydata.org/pandas-docs/stable/user_guide/indexing.html#returning-a-view-versus-a-copy\n",
            "  if sys.path[0] == '':\n",
            "/usr/local/lib/python3.6/dist-packages/pandas/core/indexing.py:1734: SettingWithCopyWarning: \n",
            "A value is trying to be set on a copy of a slice from a DataFrame.\n",
            "Try using .loc[row_indexer,col_indexer] = value instead\n",
            "\n",
            "See the caveats in the documentation: https://pandas.pydata.org/pandas-docs/stable/user_guide/indexing.html#returning-a-view-versus-a-copy\n",
            "  isetter(loc, value[:, i].tolist())\n",
            "/usr/local/lib/python3.6/dist-packages/ipykernel_launcher.py:14: SettingWithCopyWarning: \n",
            "A value is trying to be set on a copy of a slice from a DataFrame.\n",
            "Try using .loc[row_indexer,col_indexer] = value instead\n",
            "\n",
            "See the caveats in the documentation: https://pandas.pydata.org/pandas-docs/stable/user_guide/indexing.html#returning-a-view-versus-a-copy\n",
            "  \n",
            "/usr/local/lib/python3.6/dist-packages/pandas/core/indexing.py:1734: SettingWithCopyWarning: \n",
            "A value is trying to be set on a copy of a slice from a DataFrame.\n",
            "Try using .loc[row_indexer,col_indexer] = value instead\n",
            "\n",
            "See the caveats in the documentation: https://pandas.pydata.org/pandas-docs/stable/user_guide/indexing.html#returning-a-view-versus-a-copy\n",
            "  isetter(loc, value[:, i].tolist())\n"
          ],
          "name": "stderr"
        }
      ]
    },
    {
      "cell_type": "code",
      "metadata": {
        "colab": {
          "base_uri": "https://localhost:8080/"
        },
        "id": "Fg4TmMUcqfAq",
        "outputId": "1bda3f44-30f7-4875-f14e-e0c21773e61c"
      },
      "source": [
        "# ->7. feature selection\r\n",
        "from sklearn.linear_model import Lasso\r\n",
        "from sklearn.feature_selection import SelectFromModel\r\n",
        "print(X_train.head())\r\n",
        "\r\n",
        "y_train = X_train['deposit']\r\n",
        "y_test = X_test['deposit']\r\n",
        "\r\n",
        "# drop unnecessary variables from our training and testing sets\r\n",
        "X_train.drop(['deposit'], axis=1, inplace=True)\r\n",
        "X_test.drop(['deposit'], axis=1, inplace=True)\r\n",
        "\r\n",
        "# remember to set the seed, the random state in this function\r\n",
        "sel_ = SelectFromModel(Lasso(alpha=0.005, random_state=0))\r\n",
        "\r\n",
        "# train Lasso model and select features\r\n",
        "sel_.fit(X_train, y_train)"
      ],
      "execution_count": 30,
      "outputs": [
        {
          "output_type": "stream",
          "text": [
            "           age  job  marital  education  ...     pdays  previous  poutcome  deposit\n",
            "6111  0.588235  0.6      0.0        0.0  ...  0.000000       0.0       0.0        0\n",
            "1149  1.176471  1.0      0.5        0.0  ...  0.000000       0.0       0.0        1\n",
            "2954 -0.352941 -1.0      0.0       -0.5  ...  0.000000       0.0       0.0        1\n",
            "2458  1.117647  0.8      0.0        0.0  ...  2.325581       2.0       3.0        1\n",
            "7504 -0.352941  0.0      0.0        0.0  ...  8.720930       3.0       2.0        0\n",
            "\n",
            "[5 rows x 17 columns]\n"
          ],
          "name": "stdout"
        },
        {
          "output_type": "stream",
          "text": [
            "/usr/local/lib/python3.6/dist-packages/pandas/core/frame.py:4174: SettingWithCopyWarning: \n",
            "A value is trying to be set on a copy of a slice from a DataFrame\n",
            "\n",
            "See the caveats in the documentation: https://pandas.pydata.org/pandas-docs/stable/user_guide/indexing.html#returning-a-view-versus-a-copy\n",
            "  errors=errors,\n"
          ],
          "name": "stderr"
        },
        {
          "output_type": "execute_result",
          "data": {
            "text/plain": [
              "SelectFromModel(estimator=Lasso(alpha=0.005, copy_X=True, fit_intercept=True,\n",
              "                                max_iter=1000, normalize=False, positive=False,\n",
              "                                precompute=False, random_state=0,\n",
              "                                selection='cyclic', tol=0.0001,\n",
              "                                warm_start=False),\n",
              "                max_features=None, norm_order=1, prefit=False, threshold=None)"
            ]
          },
          "metadata": {
            "tags": []
          },
          "execution_count": 30
        }
      ]
    },
    {
      "cell_type": "code",
      "metadata": {
        "colab": {
          "base_uri": "https://localhost:8080/"
        },
        "id": "47er9XLDqpKe",
        "outputId": "29811c29-a5f6-4e4a-aa28-d361fc6c84d4"
      },
      "source": [
        "sel_.get_support()"
      ],
      "execution_count": 31,
      "outputs": [
        {
          "output_type": "execute_result",
          "data": {
            "text/plain": [
              "array([False,  True,  True,  True, False,  True,  True,  True,  True,\n",
              "       False,  True,  True,  True,  True,  True,  True])"
            ]
          },
          "metadata": {
            "tags": []
          },
          "execution_count": 31
        }
      ]
    },
    {
      "cell_type": "code",
      "metadata": {
        "colab": {
          "base_uri": "https://localhost:8080/"
        },
        "id": "Qy7ejerWqsPL",
        "outputId": "db9361f3-01d3-4a1a-fc54-ca8e39c85f97"
      },
      "source": [
        "# let's print the number of total and selected features\r\n",
        "\r\n",
        "# this is how we can make a list of the selected features\r\n",
        "selected_feats = X_train.columns[(sel_.get_support())]\r\n",
        "\r\n",
        "# let's print some stats\r\n",
        "print('total features: {}'.format((X_train.shape[1])))\r\n",
        "print('selected features: {}'.format(len(selected_feats)))\r\n",
        "print('features with coefficients shrank to zero: {}'.format(\r\n",
        "    np.sum(sel_.estimator_.coef_ == 0)))"
      ],
      "execution_count": 32,
      "outputs": [
        {
          "output_type": "stream",
          "text": [
            "total features: 16\n",
            "selected features: 13\n",
            "features with coefficients shrank to zero: 3\n"
          ],
          "name": "stdout"
        }
      ]
    },
    {
      "cell_type": "code",
      "metadata": {
        "colab": {
          "base_uri": "https://localhost:8080/"
        },
        "id": "HbH3iLEnqvOf",
        "outputId": "b99720d7-4b58-476c-e1cb-5dbe152c980f"
      },
      "source": [
        "# print the selected features\r\n",
        "selected_feats"
      ],
      "execution_count": 33,
      "outputs": [
        {
          "output_type": "execute_result",
          "data": {
            "text/plain": [
              "Index(['job', 'marital', 'education', 'balance', 'housing', 'loan', 'contact',\n",
              "       'month', 'duration', 'campaign', 'pdays', 'previous', 'poutcome'],\n",
              "      dtype='object')"
            ]
          },
          "metadata": {
            "tags": []
          },
          "execution_count": 33
        }
      ]
    },
    {
      "cell_type": "code",
      "metadata": {
        "id": "kWi0gBtPqyO4"
      },
      "source": [
        ""
      ],
      "execution_count": null,
      "outputs": []
    },
    {
      "cell_type": "markdown",
      "metadata": {
        "id": "Xw8I6lSVq1vP"
      },
      "source": [
        "# Checking which model will perform better"
      ]
    },
    {
      "cell_type": "code",
      "metadata": {
        "colab": {
          "base_uri": "https://localhost:8080/"
        },
        "id": "XoPdbf3bq3H4",
        "outputId": "ba5cdc0b-612e-4c42-c164-117201488037"
      },
      "source": [
        "# we will evaluate different machine learning classification models \r\n",
        "from sklearn.model_selection import cross_val_score\r\n",
        "\r\n",
        "\r\n",
        "# 1- Logistic Regression\r\n",
        "# 2- K-nearest neighbors classification\r\n",
        "# 3- support vector machine\r\n",
        "# 4- naive bayes\r\n",
        "# 5- random forest classification\r\n",
        "# -----------------------------------\r\n",
        "# Function to calculate mean absolute error\r\n",
        "\r\n",
        "def cross_val(X_train,X_test,model):\r\n",
        "  accuracies = cross_val_score(estimator = model,X=X_train,y=y_train,cv=5)\r\n",
        "  return accuracies.mean()\r\n",
        "\r\n",
        "\r\n",
        "def fit_and_evaluate(model):\r\n",
        "\r\n",
        "  # train the model\r\n",
        "  model.fit(X_train,y_train)\r\n",
        "\r\n",
        "  model_pred = model.predict(X_test)\r\n",
        "  model_cross = cross_val(X_train,y_train,model)\r\n",
        "  return model_cross\r\n",
        "\r\n",
        "# Evaluating various models\r\n",
        "# ----------------------------------------\r\n",
        "\r\n",
        "from sklearn import model_selection\r\n",
        "from numpy import abs\r\n",
        "from sklearn.linear_model import LogisticRegression\r\n",
        "from sklearn.svm import SVC, LinearSVC\r\n",
        "from sklearn.ensemble import RandomForestClassifier\r\n",
        "from sklearn.neighbors import KNeighborsClassifier\r\n",
        "from sklearn.naive_bayes import GaussianNB\r\n",
        "from sklearn.linear_model import Perceptron\r\n",
        "from sklearn.linear_model import SGDClassifier\r\n",
        "from sklearn.tree import DecisionTreeClassifier\r\n",
        "from xgboost import XGBClassifier\r\n",
        "models = []\r\n",
        "names = []\r\n",
        "score = []\r\n",
        "\r\n",
        "models.append(('Logistic Regression',LogisticRegression()))\r\n",
        "models.append(('Linear svc',LinearSVC()))\r\n",
        "models.append(('Random forest classifier',RandomForestClassifier()))\r\n",
        "models.append(('knn ',KNeighborsClassifier()))\r\n",
        "models.append(('Guassian NB ',GaussianNB()))\r\n",
        "models.append(('Decision TreeClassifier',DecisionTreeClassifier()))\r\n",
        "models.append((\"xg booster\",XGBClassifier()))\r\n",
        "\r\n",
        "for name,model in models:\r\n",
        "  # print('Name:',name)\r\n",
        "  logr_cross = fit_and_evaluate(model)\r\n",
        "  print(\"Name:\",name,',Cross Validation Score = %0.4f' % logr_cross)\r\n",
        "  score.append(logr_cross)\r\n"
      ],
      "execution_count": 34,
      "outputs": [
        {
          "output_type": "stream",
          "text": [
            "Name: Logistic Regression ,Cross Validation Score = 0.8142\n"
          ],
          "name": "stdout"
        },
        {
          "output_type": "stream",
          "text": [
            "/usr/local/lib/python3.6/dist-packages/sklearn/svm/_base.py:947: ConvergenceWarning: Liblinear failed to converge, increase the number of iterations.\n",
            "  \"the number of iterations.\", ConvergenceWarning)\n",
            "/usr/local/lib/python3.6/dist-packages/sklearn/svm/_base.py:947: ConvergenceWarning: Liblinear failed to converge, increase the number of iterations.\n",
            "  \"the number of iterations.\", ConvergenceWarning)\n",
            "/usr/local/lib/python3.6/dist-packages/sklearn/svm/_base.py:947: ConvergenceWarning: Liblinear failed to converge, increase the number of iterations.\n",
            "  \"the number of iterations.\", ConvergenceWarning)\n",
            "/usr/local/lib/python3.6/dist-packages/sklearn/svm/_base.py:947: ConvergenceWarning: Liblinear failed to converge, increase the number of iterations.\n",
            "  \"the number of iterations.\", ConvergenceWarning)\n",
            "/usr/local/lib/python3.6/dist-packages/sklearn/svm/_base.py:947: ConvergenceWarning: Liblinear failed to converge, increase the number of iterations.\n",
            "  \"the number of iterations.\", ConvergenceWarning)\n",
            "/usr/local/lib/python3.6/dist-packages/sklearn/svm/_base.py:947: ConvergenceWarning: Liblinear failed to converge, increase the number of iterations.\n",
            "  \"the number of iterations.\", ConvergenceWarning)\n"
          ],
          "name": "stderr"
        },
        {
          "output_type": "stream",
          "text": [
            "Name: Linear svc ,Cross Validation Score = 0.8115\n",
            "Name: Random forest classifier ,Cross Validation Score = 0.8545\n",
            "Name: knn  ,Cross Validation Score = 0.7946\n",
            "Name: Guassian NB  ,Cross Validation Score = 0.7640\n",
            "Name: Decision TreeClassifier ,Cross Validation Score = 0.7818\n",
            "Name: xg booster ,Cross Validation Score = 0.8470\n"
          ],
          "name": "stdout"
        }
      ]
    },
    {
      "cell_type": "code",
      "metadata": {
        "colab": {
          "base_uri": "https://localhost:8080/",
          "height": 300
        },
        "id": "-VRtvZFwq790",
        "outputId": "79fbc872-68cf-4c87-c948-0e6825b44a1a"
      },
      "source": [
        "model_comparison = pd.DataFrame({'model':['Logistic Regression','Linear svc','Random forest classifier','KNN','Guassian NB','Descision Tree','XG Booster'],'Score':score})\r\n",
        "\r\n",
        "# horizontal bar  chart\r\n",
        "model_comparison.sort_values('Score',ascending=True).plot(x = 'model', y = 'Score', kind = 'barh')\r\n",
        "plt.xlabel('K-Fold Cross Validation')\r\n",
        "plt.title('Model Comparison on Score', size = 20);\r\n",
        "plt.show()"
      ],
      "execution_count": 41,
      "outputs": [
        {
          "output_type": "display_data",
          "data": {
            "image/png": "[encoded data removed]",
            "text/plain": [
              "<Figure size 432x288 with 1 Axes>"
            ]
          },
          "metadata": {
            "tags": [],
            "needs_background": "light"
          }
        }
      ]
    },
    {
      "cell_type": "markdown",
      "metadata": {
        "id": "X9xMALFJrqKI"
      },
      "source": [
        "# # Model selected:Random forest classifier"
      ]
    },
    {
      "cell_type": "code",
      "metadata": {
        "colab": {
          "base_uri": "https://localhost:8080/"
        },
        "id": "97hMOsmXrO-p",
        "outputId": "9cd2680c-ca82-4f5c-dbb3-8078c98ccf83"
      },
      "source": [
        "n_estimators = [int(x) for x in np.linspace(start = 5 , stop = 15, num = 10)] # returns 10 numbers \r\n",
        "max_features = ['auto', 'log2']\r\n",
        "max_depth = [int(x) for x in np.linspace(5, 10, num = 2)] \r\n",
        "max_depth.append(None)\r\n",
        "bootstrap = [True, False]\r\n",
        "\r\n",
        "r_grid = {'n_estimators': n_estimators,\r\n",
        "\r\n",
        "               'max_features': max_features,\r\n",
        "\r\n",
        "               'max_depth': max_depth,\r\n",
        "\r\n",
        "               'bootstrap': bootstrap}\r\n",
        "\r\n",
        "print(r_grid)\r\n",
        "rfr = RandomForestClassifier(random_state = 1)"
      ],
      "execution_count": 67,
      "outputs": [
        {
          "output_type": "stream",
          "text": [
            "{'n_estimators': [5, 6, 7, 8, 9, 10, 11, 12, 13, 15], 'max_features': ['auto', 'log2'], 'max_depth': [5, 10, None], 'bootstrap': [True, False]}\n"
          ],
          "name": "stdout"
        }
      ]
    },
    {
      "cell_type": "code",
      "metadata": {
        "colab": {
          "base_uri": "https://localhost:8080/"
        },
        "id": "dcJanwbluB57",
        "outputId": "253d8bba-a43d-4e83-9655-dd187dd69ddc"
      },
      "source": [
        "# Fit on the traing model\r\n",
        "rfr_random = RandomizedSearchCV(estimator=rfr, param_distributions=r_grid, n_iter = 20, scoring='neg_mean_absolute_error', cv = 3, verbose=2, random_state=42, n_jobs=-1, return_train_score=True)\r\n",
        "\r\n",
        "rfr_random.fit(X_train, y_train);\r\n",
        "\r\n",
        "\r\n",
        "# result = search.fit(X, y)\r\n",
        "# # summarize result\r\n",
        "# print('Best Score: %s' % result.best_score_)\r\n",
        "# print('Best Hyperparameters: %s' % result.best_params_)"
      ],
      "execution_count": 68,
      "outputs": [
        {
          "output_type": "stream",
          "text": [
            "Fitting 3 folds for each of 20 candidates, totalling 60 fits\n"
          ],
          "name": "stdout"
        },
        {
          "output_type": "stream",
          "text": [
            "[Parallel(n_jobs=-1)]: Using backend LokyBackend with 2 concurrent workers.\n",
            "[Parallel(n_jobs=-1)]: Done  46 tasks      | elapsed:    4.2s\n",
            "[Parallel(n_jobs=-1)]: Done  60 out of  60 | elapsed:    5.5s finished\n"
          ],
          "name": "stderr"
        }
      ]
    },
    {
      "cell_type": "code",
      "metadata": {
        "colab": {
          "base_uri": "https://localhost:8080/"
        },
        "id": "-MFq9k3PuWsj",
        "outputId": "98945be8-883a-4473-c960-bf8946254d2e"
      },
      "source": [
        "print(rfr_random.best_params_)"
      ],
      "execution_count": 70,
      "outputs": [
        {
          "output_type": "stream",
          "text": [
            "{'n_estimators': 15, 'max_features': 'auto', 'max_depth': 10, 'bootstrap': False}\n"
          ],
          "name": "stdout"
        }
      ]
    },
    {
      "cell_type": "code",
      "metadata": {
        "colab": {
          "base_uri": "https://localhost:8080/"
        },
        "id": "bafIWs7gzwbt",
        "outputId": "30d03ec9-0269-439b-e545-5d7fd763d1f4"
      },
      "source": [
        "print(rfr_random.score(X_test , y_test))"
      ],
      "execution_count": 72,
      "outputs": [
        {
          "output_type": "stream",
          "text": [
            "-0.16032243618450515\n"
          ],
          "name": "stdout"
        }
      ]
    },
    {
      "cell_type": "code",
      "metadata": {
        "colab": {
          "base_uri": "https://localhost:8080/"
        },
        "id": "24jGjBntz5rB",
        "outputId": "12529abd-8d42-45ae-d02b-e86fa6c232f9"
      },
      "source": [
        "random_forest = RandomForestClassifier(n_estimators= 15, max_features= 'auto', max_depth=10, bootstrap= False)\r\n",
        "random_forest.fit(X_train,y_train)\r\n",
        "Y_pred = random_forest.predict(X_test)\r\n",
        "random_forest.score(X_train, y_train)\r\n",
        "acc_random_forest = round(random_forest.score(X_train, y_train) * 100, 2)\r\n",
        "acc_random_forest"
      ],
      "execution_count": 75,
      "outputs": [
        {
          "output_type": "execute_result",
          "data": {
            "text/plain": [
              "90.32"
            ]
          },
          "metadata": {
            "tags": []
          },
          "execution_count": 75
        }
      ]
    },
    {
      "cell_type": "code",
      "metadata": {
        "colab": {
          "base_uri": "https://localhost:8080/"
        },
        "id": "ED9POfw80wX8",
        "outputId": "7e14e9dc-beb5-4461-b01d-291919ad04bf"
      },
      "source": [
        "from sklearn.metrics import classification_report,confusion_matrix,accuracy_score\r\n",
        "cm = confusion_matrix(y_test,Y_pred)\r\n",
        "print(cm)\r\n",
        "print(accuracy_score(y_test,Y_pred))"
      ],
      "execution_count": 76,
      "outputs": [
        {
          "output_type": "stream",
          "text": [
            "[[994 211]\n",
            " [144 884]]\n",
            "0.8410210479175997\n"
          ],
          "name": "stdout"
        }
      ]
    },
    {
      "cell_type": "code",
      "metadata": {
        "colab": {
          "base_uri": "https://localhost:8080/"
        },
        "id": "NHTAL4vV1MQr",
        "outputId": "03d285ba-aac5-4f4c-fb53-7ac801743503"
      },
      "source": [
        "print(classification_report(y_test, Y_pred))"
      ],
      "execution_count": 77,
      "outputs": [
        {
          "output_type": "stream",
          "text": [
            "              precision    recall  f1-score   support\n",
            "\n",
            "           0       0.87      0.82      0.85      1205\n",
            "           1       0.81      0.86      0.83      1028\n",
            "\n",
            "    accuracy                           0.84      2233\n",
            "   macro avg       0.84      0.84      0.84      2233\n",
            "weighted avg       0.84      0.84      0.84      2233\n",
            "\n"
          ],
          "name": "stdout"
        }
      ]
    },
    {
      "cell_type": "code",
      "metadata": {
        "id": "rCyEIaKU1RGx"
      },
      "source": [
        ""
      ],
      "execution_count": null,
      "outputs": []
    }
  ]
}