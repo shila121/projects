{
  "nbformat": 4,
  "nbformat_minor": 0,
  "metadata": {
    "colab": {
      "name": "a_random_forest.ipynb",
      "provenance": [],
      "collapsed_sections": [],
      "authorship_tag": "ABX9TyP6or2fVy15azc1PpFKa6Tj",
      "include_colab_link": true
    },
    "kernelspec": {
      "name": "python3",
      "display_name": "Python 3"
    },
    "language_info": {
      "name": "python"
    }
  },
  "cells": [
    {
      "cell_type": "markdown",
      "metadata": {
        "id": "view-in-github",
        "colab_type": "text"
      },
      "source": [
        "<a href=\"https://colab.research.google.com/github/shila121/projects/blob/main/a_random_forest.ipynb\" target=\"_parent\"><img src=\"https://colab.research.google.com/assets/colab-badge.svg\" alt=\"Open In Colab\"/></a>"
      ]
    },
    {
      "cell_type": "code",
      "metadata": {
        "id": "FWgvA-mgitoa"
      },
      "source": [
        "# import libraries\n",
        "import pandas as pd\n",
        "import numpy as np\n",
        "import matplotlib.pyplot as plt\n",
        "%matplotlib inline\n",
        "import warnings\n",
        "warnings.filterwarnings('ignore')"
      ],
      "execution_count": 1,
      "outputs": []
    },
    {
      "cell_type": "code",
      "metadata": {
        "colab": {
          "base_uri": "https://localhost:8080/"
        },
        "id": "OYeFIR46mjIH",
        "outputId": "8be178ca-1491-48ed-f6f2-77e523ce2806"
      },
      "source": [
        "# import dataset\n",
        "data = pd.read_csv('data_cleaned.csv')\n",
        "print(data.shape)\n",
        "print(data.head())"
      ],
      "execution_count": 2,
      "outputs": [
        {
          "output_type": "stream",
          "text": [
            "(891, 25)\n",
            "   Survived   Age     Fare  ...  Embarked_C  Embarked_Q  Embarked_S\n",
            "0         0  22.0   7.2500  ...           0           0           1\n",
            "1         1  38.0  71.2833  ...           1           0           0\n",
            "2         1  26.0   7.9250  ...           0           0           1\n",
            "3         1  35.0  53.1000  ...           0           0           1\n",
            "4         0  35.0   8.0500  ...           0           0           1\n",
            "\n",
            "[5 rows x 25 columns]\n"
          ],
          "name": "stdout"
        }
      ]
    },
    {
      "cell_type": "code",
      "metadata": {
        "id": "at9d_CDqqstj"
      },
      "source": [
        "# dependent and independent variable\n",
        "x = data.drop(['Survived'],axis =1)\n",
        "y = data['Survived']\n",
        "\n",
        "# train test split\n",
        "from sklearn.model_selection import train_test_split\n",
        "train_x,test_x,train_y,test_y = train_test_split(x,y,random_state = 101,stratify = y)"
      ],
      "execution_count": 3,
      "outputs": []
    },
    {
      "cell_type": "code",
      "metadata": {
        "colab": {
          "base_uri": "https://localhost:8080/"
        },
        "id": "sxwk21qKtrCh",
        "outputId": "6f179df6-341f-4fe3-9881-d66c7c062a77"
      },
      "source": [
        "train_y.value_counts()/len(train_y)"
      ],
      "execution_count": 4,
      "outputs": [
        {
          "output_type": "execute_result",
          "data": {
            "text/plain": [
              "0    0.616766\n",
              "1    0.383234\n",
              "Name: Survived, dtype: float64"
            ]
          },
          "metadata": {
            "tags": []
          },
          "execution_count": 4
        }
      ]
    },
    {
      "cell_type": "code",
      "metadata": {
        "colab": {
          "base_uri": "https://localhost:8080/"
        },
        "id": "IiXbVN5ht4S6",
        "outputId": "a8f9bb0d-5682-48d2-a885-a837ac7014ca"
      },
      "source": [
        "test_y.value_counts()/len(test_y)"
      ],
      "execution_count": 5,
      "outputs": [
        {
          "output_type": "execute_result",
          "data": {
            "text/plain": [
              "0    0.61435\n",
              "1    0.38565\n",
              "Name: Survived, dtype: float64"
            ]
          },
          "metadata": {
            "tags": []
          },
          "execution_count": 5
        }
      ]
    },
    {
      "cell_type": "code",
      "metadata": {
        "colab": {
          "base_uri": "https://localhost:8080/"
        },
        "id": "u2VSfHGFuAwr",
        "outputId": "5dce882d-9129-4226-a16f-6834a60b5d99"
      },
      "source": [
        "# importing decision tree\n",
        "from sklearn.tree import DecisionTreeClassifier\n",
        "clf = DecisionTreeClassifier()\n",
        "clf.fit(train_x,train_y)"
      ],
      "execution_count": 6,
      "outputs": [
        {
          "output_type": "execute_result",
          "data": {
            "text/plain": [
              "DecisionTreeClassifier(ccp_alpha=0.0, class_weight=None, criterion='gini',\n",
              "                       max_depth=None, max_features=None, max_leaf_nodes=None,\n",
              "                       min_impurity_decrease=0.0, min_impurity_split=None,\n",
              "                       min_samples_leaf=1, min_samples_split=2,\n",
              "                       min_weight_fraction_leaf=0.0, presort='deprecated',\n",
              "                       random_state=None, splitter='best')"
            ]
          },
          "metadata": {
            "tags": []
          },
          "execution_count": 6
        }
      ]
    },
    {
      "cell_type": "code",
      "metadata": {
        "colab": {
          "base_uri": "https://localhost:8080/"
        },
        "id": "jFpmj59luVzC",
        "outputId": "a82c012d-f827-4209-fb21-4cfd0161d9f0"
      },
      "source": [
        "clf.score(train_x,train_y)"
      ],
      "execution_count": 8,
      "outputs": [
        {
          "output_type": "execute_result",
          "data": {
            "text/plain": [
              "0.9880239520958084"
            ]
          },
          "metadata": {
            "tags": []
          },
          "execution_count": 8
        }
      ]
    },
    {
      "cell_type": "code",
      "metadata": {
        "colab": {
          "base_uri": "https://localhost:8080/"
        },
        "id": "mAyWw9zQuasW",
        "outputId": "35a56181-a91d-469a-8b23-424878772f6a"
      },
      "source": [
        "clf.score(test_x,test_y)"
      ],
      "execution_count": 9,
      "outputs": [
        {
          "output_type": "execute_result",
          "data": {
            "text/plain": [
              "0.7488789237668162"
            ]
          },
          "metadata": {
            "tags": []
          },
          "execution_count": 9
        }
      ]
    },
    {
      "cell_type": "code",
      "metadata": {
        "colab": {
          "base_uri": "https://localhost:8080/"
        },
        "id": "tBiZUbvcullG",
        "outputId": "b17d168d-bc9d-4b09-9d46-313b1a2b992c"
      },
      "source": [
        "# we observe that performance is poor in test data\n",
        "# so we us Random forest\n",
        "\n",
        "from sklearn.ensemble import RandomForestClassifier\n",
        "rclf = RandomForestClassifier()\n",
        "rclf.fit(train_x,train_y)"
      ],
      "execution_count": 10,
      "outputs": [
        {
          "output_type": "execute_result",
          "data": {
            "text/plain": [
              "RandomForestClassifier(bootstrap=True, ccp_alpha=0.0, class_weight=None,\n",
              "                       criterion='gini', max_depth=None, max_features='auto',\n",
              "                       max_leaf_nodes=None, max_samples=None,\n",
              "                       min_impurity_decrease=0.0, min_impurity_split=None,\n",
              "                       min_samples_leaf=1, min_samples_split=2,\n",
              "                       min_weight_fraction_leaf=0.0, n_estimators=100,\n",
              "                       n_jobs=None, oob_score=False, random_state=None,\n",
              "                       verbose=0, warm_start=False)"
            ]
          },
          "metadata": {
            "tags": []
          },
          "execution_count": 10
        }
      ]
    },
    {
      "cell_type": "code",
      "metadata": {
        "colab": {
          "base_uri": "https://localhost:8080/"
        },
        "id": "tdf-dJ0svALR",
        "outputId": "7632c07a-3f43-49f7-e66e-402ac48905b9"
      },
      "source": [
        "rclf.score(train_x,train_y)"
      ],
      "execution_count": 11,
      "outputs": [
        {
          "output_type": "execute_result",
          "data": {
            "text/plain": [
              "0.9880239520958084"
            ]
          },
          "metadata": {
            "tags": []
          },
          "execution_count": 11
        }
      ]
    },
    {
      "cell_type": "code",
      "metadata": {
        "colab": {
          "base_uri": "https://localhost:8080/"
        },
        "id": "OrR8q-EnvFUT",
        "outputId": "ac12d88c-2705-4526-855f-c3f45b80f8da"
      },
      "source": [
        "rclf.score(test_x,test_y)"
      ],
      "execution_count": 12,
      "outputs": [
        {
          "output_type": "execute_result",
          "data": {
            "text/plain": [
              "0.7668161434977578"
            ]
          },
          "metadata": {
            "tags": []
          },
          "execution_count": 12
        }
      ]
    },
    {
      "cell_type": "code",
      "metadata": {
        "colab": {
          "base_uri": "https://localhost:8080/"
        },
        "id": "s2mvt479vJQh",
        "outputId": "08a06fef-f3f2-44a9-9376-e37ee7298ebb"
      },
      "source": [
        "rclf.feature_importances_"
      ],
      "execution_count": 13,
      "outputs": [
        {
          "output_type": "execute_result",
          "data": {
            "text/plain": [
              "array([0.23062746, 0.24055525, 0.02474793, 0.01576876, 0.05281104,\n",
              "       0.15278807, 0.14822996, 0.01418312, 0.01546746, 0.00539638,\n",
              "       0.00519018, 0.00439093, 0.00053167, 0.00223182, 0.01894356,\n",
              "       0.01407211, 0.01126892, 0.00121364, 0.00231092, 0.00249291,\n",
              "       0.00046837, 0.01320823, 0.00801564, 0.0150857 ])"
            ]
          },
          "metadata": {
            "tags": []
          },
          "execution_count": 13
        }
      ]
    },
    {
      "cell_type": "code",
      "metadata": {
        "colab": {
          "base_uri": "https://localhost:8080/"
        },
        "id": "xn03SPRuv6Rg",
        "outputId": "554f7d77-793b-49aa-970a-3cd8a73a05f8"
      },
      "source": [
        "pd.Series(rclf.feature_importances_,index = train_x.columns)"
      ],
      "execution_count": 14,
      "outputs": [
        {
          "output_type": "execute_result",
          "data": {
            "text/plain": [
              "Age           0.230627\n",
              "Fare          0.240555\n",
              "Pclass_1      0.024748\n",
              "Pclass_2      0.015769\n",
              "Pclass_3      0.052811\n",
              "Sex_female    0.152788\n",
              "Sex_male      0.148230\n",
              "SibSp_0       0.014183\n",
              "SibSp_1       0.015467\n",
              "SibSp_2       0.005396\n",
              "SibSp_3       0.005190\n",
              "SibSp_4       0.004391\n",
              "SibSp_5       0.000532\n",
              "SibSp_8       0.002232\n",
              "Parch_0       0.018944\n",
              "Parch_1       0.014072\n",
              "Parch_2       0.011269\n",
              "Parch_3       0.001214\n",
              "Parch_4       0.002311\n",
              "Parch_5       0.002493\n",
              "Parch_6       0.000468\n",
              "Embarked_C    0.013208\n",
              "Embarked_Q    0.008016\n",
              "Embarked_S    0.015086\n",
              "dtype: float64"
            ]
          },
          "metadata": {
            "tags": []
          },
          "execution_count": 14
        }
      ]
    },
    {
      "cell_type": "code",
      "metadata": {
        "id": "qqA1oe2CwH8U"
      },
      "source": [
        ""
      ],
      "execution_count": null,
      "outputs": []
    }
  ]
}